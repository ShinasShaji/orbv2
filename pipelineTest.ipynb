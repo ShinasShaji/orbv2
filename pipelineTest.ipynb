{
 "metadata": {
  "language_info": {
   "codemirror_mode": {
    "name": "ipython",
    "version": 3
   },
   "file_extension": ".py",
   "mimetype": "text/x-python",
   "name": "python",
   "nbconvert_exporter": "python",
   "pygments_lexer": "ipython3",
   "version": "3.7.3"
  },
  "orig_nbformat": 2,
  "kernelspec": {
   "name": "python373jvsc74a57bd034d9fd4794b4aa62af7c694b698b8481ba4eb70d629f53257a855dbffddd8207",
   "display_name": "Python 3.7.3 32-bit ('bot': venv)"
  }
 },
 "nbformat": 4,
 "nbformat_minor": 2,
 "cells": [
  {
   "source": [
    "# Pipeline test notebook"
   ],
   "cell_type": "markdown",
   "metadata": {}
  },
  {
   "source": [
    "### Import requirements"
   ],
   "cell_type": "markdown",
   "metadata": {}
  },
  {
   "cell_type": "code",
   "execution_count": 33,
   "metadata": {},
   "outputs": [],
   "source": [
    "import cv2\n",
    "import glob\n",
    "import matplotlib.pyplot as plt\n",
    "import numpy as np\n",
    "import time\n",
    "\n",
    "from ImageProcessing import ImageProcessing\n",
    "from StereoMatcher import StereoMatcher\n",
    "\n",
    "%matplotlib ipympl"
   ]
  },
  {
   "source": [
    "### Load calibrations and other data"
   ],
   "cell_type": "markdown",
   "metadata": {}
  },
  {
   "cell_type": "code",
   "execution_count": 34,
   "metadata": {},
   "outputs": [
    {
     "output_type": "stream",
     "name": "stdout",
     "text": [
      "Reading from data/monoCalibration.json\nLoaded mono calibration\nReading from data/stereoCalibration.json\nLoaded stereo calibration\nReading from data/stereoRectify.json\nLoaded stereo rectification data\n"
     ]
    }
   ],
   "source": [
    "imageProcessing = ImageProcessing()\n",
    "imageProcessing.loadMonoCalibrationResults()\n",
    "imageProcessing.loadStereoCalibration()\n",
    "imageProcessing.loadStereoRectify()"
   ]
  },
  {
   "source": [
    "### Create stereo matcher"
   ],
   "cell_type": "markdown",
   "metadata": {}
  },
  {
   "cell_type": "code",
   "execution_count": 35,
   "metadata": {},
   "outputs": [
    {
     "output_type": "stream",
     "name": "stdout",
     "text": [
      "Reading from data/parametersSGBM.json\n"
     ]
    }
   ],
   "source": [
    "stereoMatcher = StereoMatcher(\"SGBM\", \\\n",
    "                vertical=True, createRightMatcher=False)\n",
    "stereoMatcher.referenceDispToDepthMatrix(\\\n",
    "imageProcessing.dispToDepthMatrix)\n",
    "\n",
    "imageProcessing.initUndistortRectifyMap()\n",
    "#stereoMatcher.createDisparityWLSFilter()"
   ]
  },
  {
   "source": [
    "### Loading images"
   ],
   "cell_type": "markdown",
   "metadata": {}
  },
  {
   "cell_type": "code",
   "execution_count": 36,
   "metadata": {},
   "outputs": [
    {
     "output_type": "stream",
     "name": "stdout",
     "text": [
      "Selections: 0-7\n"
     ]
    }
   ],
   "source": [
    "path = \"captures/testImages\"\n",
    "imageGlobL = sorted(glob.glob(\"\".join([path, \"/top_*\", \".png\"])))\n",
    "imageGlobR = sorted(glob.glob(\"\".join([path, \"/bottom_*\", \".png\"])))\n",
    "print (\"Selections: 0-{}\".format(len(imageGlobL)-1))"
   ]
  },
  {
   "source": [
    "### Select image pair and display"
   ],
   "cell_type": "markdown",
   "metadata": {}
  },
  {
   "cell_type": "code",
   "execution_count": 37,
   "metadata": {},
   "outputs": [],
   "source": [
    "imageNumber = 5\n",
    "\n",
    "imageL = cv2.imread(imageGlobL[imageNumber])\n",
    "imageR = cv2.imread(imageGlobR[imageNumber])\n",
    "\n",
    "cv2.imshow(\"left/right\", np.hstack([imageL, imageR]))\n",
    "cv2.waitKey(0)\n",
    "cv2.destroyAllWindows()"
   ]
  },
  {
   "source": [
    "### Convert to grayscale and undistort"
   ],
   "cell_type": "markdown",
   "metadata": {}
  },
  {
   "cell_type": "code",
   "execution_count": 38,
   "metadata": {},
   "outputs": [],
   "source": [
    "imageProcessing.convertToGrayscale(imageL, imageR)\n",
    "imageProcessing.undistortRectifyRemap(imageProcessing.grayImageL, \\\n",
    "                                        imageProcessing.grayImageR)"
   ]
  },
  {
   "source": [
    "### View undistorted image"
   ],
   "cell_type": "markdown",
   "metadata": {}
  },
  {
   "cell_type": "code",
   "execution_count": 39,
   "metadata": {},
   "outputs": [],
   "source": [
    "cv2.imshow(\"left/right undistort\", np.hstack(\\\n",
    "    [imageProcessing.undistortImageL, imageProcessing.undistortImageL]))\n",
    "\n",
    "cv2.imshow(\"horizontal epipolar\", \\\n",
    "    imageProcessing.drawHorEpipolarLines(\\\n",
    "        imageProcessing.undistortImageL, imageProcessing.undistortImageR))\n",
    "\n",
    "cv2.imshow(\"vertical epipolar\", \\\n",
    "    imageProcessing.drawVertEpipolarLines(\\\n",
    "        imageProcessing.undistortImageL, imageProcessing.undistortImageR))\n",
    "        \n",
    "cv2.waitKey(0)\n",
    "cv2.destroyAllWindows()"
   ]
  },
  {
   "source": [
    "### Compute disparity map"
   ],
   "cell_type": "markdown",
   "metadata": {}
  },
  {
   "cell_type": "code",
   "execution_count": 40,
   "metadata": {},
   "outputs": [
    {
     "output_type": "stream",
     "name": "stdout",
     "text": [
      "minDisparity: 9.0\nmaxDisparity: 38.8125\n"
     ]
    }
   ],
   "source": [
    "stereoMatcher.computeDisparity(\\\n",
    "                grayImageL=imageProcessing.undistortImageL, \\\n",
    "                grayImageR=imageProcessing.undistortImageR)\n",
    "\n",
    "stereoMatcher.clampDisparity()\n",
    "stereoMatcher.applyClosingFilter()\n",
    "#stereoMatcher.applyWLSFilterDisparity()\n",
    "\n",
    "print (\"minDisparity:\", stereoMatcher.disparityMapL.min())\n",
    "print (\"maxDisparity:\", stereoMatcher.disparityMapL.max())"
   ]
  },
  {
   "source": [
    "### View disparity map"
   ],
   "cell_type": "markdown",
   "metadata": {}
  },
  {
   "cell_type": "code",
   "execution_count": 41,
   "metadata": {},
   "outputs": [
    {
     "output_type": "display_data",
     "data": {
      "text/plain": "Canvas(toolbar=Toolbar(toolitems=[('Home', 'Reset original view', 'home', 'home'), ('Back', 'Back to previous …",
      "application/vnd.jupyter.widget-view+json": {
       "version_major": 2,
       "version_minor": 0,
       "model_id": "8c491fed062343d798232f50703babd5"
      }
     },
     "metadata": {}
    },
    {
     "output_type": "execute_result",
     "data": {
      "text/plain": [
       "<matplotlib.image.AxesImage at 0x9bdd3190>"
      ]
     },
     "metadata": {},
     "execution_count": 41
    }
   ],
   "source": [
    "plt.figure()\n",
    "plt.imshow(cv2.rotate(stereoMatcher.disparityMapL, \\\n",
    "    cv2.ROTATE_90_CLOCKWISE), cmap=\"gray\")"
   ]
  },
  {
   "source": [
    "### Compute depth map"
   ],
   "cell_type": "markdown",
   "metadata": {}
  },
  {
   "cell_type": "code",
   "execution_count": 42,
   "metadata": {},
   "outputs": [
    {
     "output_type": "stream",
     "name": "stdout",
     "text": [
      "9.0\n38.8125\n(640, 360)\n610.7979\n2634.066\n"
     ]
    }
   ],
   "source": [
    "focalLength = imageProcessing.projectionMatrixL[0][0] # changes with rectify?\n",
    "baseline = 32 # mm, measured irl\n",
    "\n",
    "stereoMatcher.disparityMapL[stereoMatcher.disparityMapL==0] = 0.9\n",
    "stereoMatcher.disparityMapL[stereoMatcher.disparityMapL==-1] = 0.9\n",
    "\n",
    "depthMap = np.empty_like(stereoMatcher.disparityMapL)\n",
    "depthMap = (focalLength*baseline)/stereoMatcher.disparityMapL[:]\n",
    "\n",
    "print (stereoMatcher.disparityMapL.min())\n",
    "print (stereoMatcher.disparityMapL.max())\n",
    "print (depthMap.shape)\n",
    "print (depthMap.min())\n",
    "print (depthMap.max())"
   ]
  },
  {
   "source": [
    "### View depth map"
   ],
   "cell_type": "markdown",
   "metadata": {}
  },
  {
   "cell_type": "code",
   "execution_count": 43,
   "metadata": {},
   "outputs": [
    {
     "output_type": "display_data",
     "data": {
      "text/plain": "Canvas(toolbar=Toolbar(toolitems=[('Home', 'Reset original view', 'home', 'home'), ('Back', 'Back to previous …",
      "application/vnd.jupyter.widget-view+json": {
       "version_major": 2,
       "version_minor": 0,
       "model_id": "301c1ae5a5a84df1940bcda03497b39c"
      }
     },
     "metadata": {}
    },
    {
     "output_type": "execute_result",
     "data": {
      "text/plain": [
       "<matplotlib.image.AxesImage at 0x9d49dab0>"
      ]
     },
     "metadata": {},
     "execution_count": 43
    }
   ],
   "source": [
    "plt.figure()\n",
    "plt.imshow(cv2.rotate(depthMap, cv2.ROTATE_90_CLOCKWISE), cmap=\"Greys\")"
   ]
  },
  {
   "source": [
    "### Compute point cloud"
   ],
   "cell_type": "markdown",
   "metadata": {}
  },
  {
   "cell_type": "code",
   "execution_count": 61,
   "metadata": {},
   "outputs": [
    {
     "output_type": "stream",
     "name": "stdout",
     "text": [
      "(640, 360, 3)\n(14400, 3)\n[ -713.31146 -1168.7544   2763.0342 ]\n[ -713 -1168  2763]\n"
     ]
    }
   ],
   "source": [
    "points = cv2.reprojectImageTo3D(stereoMatcher.disparityMapL, \\\n",
    "                                stereoMatcher.dispToDepthMatrix)\n",
    "\n",
    "# Reshaping to a list of 3D coordinates\n",
    "pointCloud = points.reshape((points.shape[0]*points.shape[1],3))[0::16]\\\n",
    "                                                        .astype(np.int16)\n",
    "\n",
    "print (points.shape)\n",
    "print (pointCloud.shape)\n",
    "\n",
    "print (points[0,0])\n",
    "print (pointCloud[0])"
   ]
  },
  {
   "source": [
    "Filtering extreme points"
   ],
   "cell_type": "markdown",
   "metadata": {}
  },
  {
   "cell_type": "code",
   "execution_count": 62,
   "metadata": {},
   "outputs": [
    {
     "output_type": "stream",
     "name": "stdout",
     "text": [
      "(11671, 3)\n"
     ]
    }
   ],
   "source": [
    "pointCloud = pointCloud[pointCloud[:, 2]>pointCloud[:, 2].min()]\n",
    "pointCloud = pointCloud[pointCloud[:, 2]<pointCloud[:, 2].max()]\n",
    "pointCloud = pointCloud[pointCloud[:, 1]>pointCloud[:, 1].min()]\n",
    "pointCloud = pointCloud[pointCloud[:, 1]<pointCloud[:, 1].max()]\n",
    "pointCloud = pointCloud[pointCloud[:, 0]>pointCloud[:, 0].min()]\n",
    "pointCloud = pointCloud[pointCloud[:, 0]<pointCloud[:, 0].max()]\n",
    "\n",
    "print (pointCloud.shape)"
   ]
  },
  {
   "source": [
    "Rotate point cloud to have y forward"
   ],
   "cell_type": "markdown",
   "metadata": {}
  },
  {
   "cell_type": "code",
   "execution_count": 63,
   "metadata": {},
   "outputs": [
    {
     "output_type": "stream",
     "name": "stdout",
     "text": [
      "(11671, 3)\n[309 731 141]\n"
     ]
    }
   ],
   "source": [
    "pointRotMatrix = np.array([ [ 0,  0, -1],\n",
    "                            [-1,  0,  0],\n",
    "                            [ 0,  1,  0] ])\n",
    "\n",
    "pointCloud = np.dot(pointCloud[:], pointRotMatrix)\n",
    "\n",
    "print (pointCloud.shape)\n",
    "print (pointCloud[0])"
   ]
  },
  {
   "source": [
    "### View point cloud"
   ],
   "cell_type": "markdown",
   "metadata": {}
  },
  {
   "cell_type": "code",
   "execution_count": 64,
   "metadata": {},
   "outputs": [
    {
     "output_type": "display_data",
     "data": {
      "text/plain": "Canvas(toolbar=Toolbar(toolitems=[('Home', 'Reset original view', 'home', 'home'), ('Back', 'Back to previous …",
      "application/vnd.jupyter.widget-view+json": {
       "version_major": 2,
       "version_minor": 0,
       "model_id": "52a323a68ff8482eb7c08ed3d980bb09"
      }
     },
     "metadata": {}
    }
   ],
   "source": [
    "fig = plt.figure(figsize=(7,7))\n",
    "ax = fig.add_subplot(111, projection = \"3d\")\n",
    "\n",
    "ax.scatter(pointCloud[:,0], pointCloud[:,1], pointCloud[:,2], s=1)\n",
    "ax.set_xlabel(\"$x$\")\n",
    "ax.set_ylabel(\"$y$\")\n",
    "ax.set_zlabel(\"$z$\")\n",
    "\n",
    "# Camera axis begins at 0\n",
    "ax.set_ylim(0,)\n",
    "\n",
    "plt.show()"
   ]
  },
  {
   "source": [
    "### Voxelize point cloud"
   ],
   "cell_type": "markdown",
   "metadata": {}
  },
  {
   "cell_type": "code",
   "execution_count": 65,
   "metadata": {},
   "outputs": [
    {
     "output_type": "display_data",
     "data": {
      "text/plain": "Canvas(toolbar=Toolbar(toolitems=[('Home', 'Reset original view', 'home', 'home'), ('Back', 'Back to previous …",
      "application/vnd.jupyter.widget-view+json": {
       "version_major": 2,
       "version_minor": 0,
       "model_id": "d0139ccf6963457da21d2f7b3dbc2aa5"
      }
     },
     "metadata": {}
    }
   ],
   "source": [
    "# From the matplotlib documentation:\n",
    "# Prepare some coordinates\n",
    "x, y, z = np.indices((8, 8, 8))\n",
    "\n",
    "# Draw cuboids in the top left and bottom right corners, and a link between them\n",
    "voxels = (x < 3) & (y < 3) & (z < 3)\n",
    "\n",
    "ax = plt.figure().add_subplot(projection='3d')\n",
    "ax.voxels(voxels)#, edgecolor='k')\n",
    "\n",
    "plt.show()"
   ]
  },
  {
   "cell_type": "code",
   "execution_count": 66,
   "metadata": {},
   "outputs": [
    {
     "output_type": "stream",
     "name": "stdout",
     "text": [
      "[[-500  668 -317]\n [ 318 2260  412]] range\n[ 81 159  72] units\n[-100 1460   40] center\n"
     ]
    }
   ],
   "source": [
    "voxelSize = 10 # mm\n",
    "voxelRange = np.array(\n",
    "  [[pointCloud[:, 0].min(), pointCloud[:, 1].min(), pointCloud[:, 2].min()],\\\n",
    "  [pointCloud[:, 0].max(), pointCloud[:, 1].max(), pointCloud[:, 2].max()]])\\\n",
    "  .astype(np.int16)\n",
    "\n",
    "print(voxelRange, \"range\")\n",
    "\n",
    "voxelUnits = (((voxelRange[1]-voxelRange[0]) - \\\n",
    "            (voxelRange[1]-voxelRange[0]) % voxelSize)/10).astype(np.int16)\n",
    "print(voxelUnits, \"units\")\n",
    "\n",
    "voxelCenter = (voxelRange[0] + (voxelRange[1]-voxelRange[0])/2 - (voxelRange[0] + (voxelRange[1]-voxelRange[0])/2)%10).astype(np.int16)\n",
    "print(voxelCenter, \"center\")"
   ]
  },
  {
   "cell_type": "code",
   "execution_count": 68,
   "metadata": {
    "tags": []
   },
   "outputs": [
    {
     "output_type": "stream",
     "name": "stdout",
     "text": [
      "Time taken: 0.05073\n"
     ]
    }
   ],
   "source": [
    "# Sampling\n",
    "voxelSize = 50 # mm\n",
    "iterations = 0\n",
    "occupyThreshold = 5\n",
    "occupancy = []\n",
    "startTime = time.perf_counter()\n",
    "\n",
    "while len(pointCloud>0):\n",
    "\n",
    "    sampledPoint = pointCloud[0]\n",
    "\n",
    "    samplingLimit = np.empty_like(sampledPoint)\n",
    "    for n in range(len(sampledPoint)):\n",
    "        samplingLimit[n]=(sampledPoint[n]//voxelSize)*voxelSize\n",
    "\n",
    "    mask = np.ones(pointCloud.shape[0], dtype=bool)\n",
    "\n",
    "    for n in range(len(sampledPoint)):\n",
    "        maskLower = pointCloud[:,n]>=samplingLimit[n]\n",
    "        maskUpper = pointCloud[:,n]<samplingLimit[n]+voxelSize\n",
    "        mask = np.logical_and(mask, np.logical_and(maskLower, maskUpper))\n",
    "    pointsInVoxel = pointCloud[mask]\n",
    "\n",
    "    if len(pointsInVoxel)>occupyThreshold:\n",
    "        voxelMidpoint = samplingLimit+voxelSize/2\n",
    "        occupancy.append(voxelMidpoint)\n",
    "\n",
    "    pointCloud = pointCloud[np.invert(mask)]\n",
    "\n",
    "    iterations+=1\n",
    "\n",
    "occupancy = np.array(occupancy, dtype=np.int16)\n",
    "print(\"Time taken: {:.5f}\".format(time.perf_counter()-startTime))"
   ]
  },
  {
   "cell_type": "code",
   "execution_count": 51,
   "metadata": {},
   "outputs": [
    {
     "output_type": "stream",
     "name": "stdout",
     "text": [
      "Iterations: 756\n[[ 325  725  125]\n [ 275  725   75]\n [ 325  725   75]\n ...\n [-425  925  125]\n [-425  975 -225]\n [-475 1025   75]]\nVoxels: 350\n"
     ]
    }
   ],
   "source": [
    "print(\"Iterations:\", iterations)\n",
    "print(occupancy)\n",
    "print(\"Voxels:\", occupancy.shape[0])"
   ]
  },
  {
   "cell_type": "code",
   "execution_count": 52,
   "metadata": {},
   "outputs": [
    {
     "output_type": "display_data",
     "data": {
      "text/plain": "Canvas(toolbar=Toolbar(toolitems=[('Home', 'Reset original view', 'home', 'home'), ('Back', 'Back to previous …",
      "application/vnd.jupyter.widget-view+json": {
       "version_major": 2,
       "version_minor": 0,
       "model_id": "b4c52199d7594083b677ae2c8b5ba0ba"
      }
     },
     "metadata": {}
    }
   ],
   "source": [
    "fig = plt.figure(figsize=(7,7))\n",
    "ax = fig.add_subplot(111, projection = \"3d\")\n",
    "\n",
    "ax.scatter(occupancy[:,0], occupancy[:,1], occupancy[:,2])\n",
    "ax.set_xlabel(\"$x$\")\n",
    "ax.set_ylabel(\"$y$\")\n",
    "ax.set_zlabel(\"$z$\")\n",
    "\n",
    "# Camera axis begins at 0\n",
    "ax.set_ylim(0,)\n",
    "\n",
    "plt.show()"
   ]
  },
  {
   "cell_type": "code",
   "execution_count": 53,
   "metadata": {},
   "outputs": [],
   "source": [
    "if False:\n",
    "    x,y,z=np.indices(voxelUnits)*100\n",
    "\n",
    "    voxels = (x<(occupancy[0,0]+voxelSize/2)) & (y<(occupancy[0,1]+voxelSize/2)) & (z<(occupancy[0,2]+voxelSize/2)) & (x>(occupancy[0,0]-voxelSize/2)) & (y>(occupancy[0,1]-voxelSize/2)) & (z>(occupancy[0,2]-voxelSize/2))\n",
    "\n",
    "    for voxelMindpoint in occupancy:\n",
    "        voxel = (x<(voxelMidpoint[0]+voxelSize/2)) & (y<(voxelMidpoint[1]+voxelSize/2)) & (z<(voxelMidpoint[2]+voxelSize/2)) & (x>(voxelMidpoint[0]-voxelSize/2)) & (y>(voxelMidpoint[1]-voxelSize/2)) & (z>(voxelMidpoint[2]-voxelSize/2))\n",
    "        voxels = voxels | voxel\n",
    "\n",
    "    ax=plt.figure().add_subplot(projection=\"3d\")\n",
    "    ax.voxels(voxels)\n",
    "\n",
    "    plt.show()"
   ]
  },
  {
   "cell_type": "code",
   "execution_count": null,
   "metadata": {},
   "outputs": [],
   "source": []
  }
 ]
}