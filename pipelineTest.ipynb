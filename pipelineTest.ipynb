{
 "metadata": {
  "language_info": {
   "codemirror_mode": {
    "name": "ipython",
    "version": 3
   },
   "file_extension": ".py",
   "mimetype": "text/x-python",
   "name": "python",
   "nbconvert_exporter": "python",
   "pygments_lexer": "ipython3",
   "version": "3.7.3"
  },
  "orig_nbformat": 2,
  "kernelspec": {
   "name": "python373jvsc74a57bd034d9fd4794b4aa62af7c694b698b8481ba4eb70d629f53257a855dbffddd8207",
   "display_name": "Python 3.7.3 32-bit ('bot': venv)",
   "language": "python"
  }
 },
 "nbformat": 4,
 "nbformat_minor": 2,
 "cells": [
  {
   "source": [
    "# Pipeline test notebook"
   ],
   "cell_type": "markdown",
   "metadata": {}
  },
  {
   "source": [
    "### Import requirements"
   ],
   "cell_type": "markdown",
   "metadata": {}
  },
  {
   "cell_type": "code",
   "execution_count": 152,
   "metadata": {},
   "outputs": [],
   "source": [
    "%matplotlib ipympl\n",
    "\n",
    "import glob\n",
    "import cv2\n",
    "import numpy\n",
    "import matplotlib.pyplot as plt\n",
    "\n",
    "from ImageProcessing import ImageProcessing\n",
    "from StereoMatcher import StereoMatcher"
   ]
  },
  {
   "source": [
    "### Loading images"
   ],
   "cell_type": "markdown",
   "metadata": {}
  },
  {
   "cell_type": "code",
   "execution_count": 153,
   "metadata": {},
   "outputs": [
    {
     "output_type": "stream",
     "name": "stdout",
     "text": [
      "Selections: 0-5\n"
     ]
    }
   ],
   "source": [
    "path = \"captures/testImages\"\n",
    "imageGlobL = sorted(glob.glob(\"\".join([path, \"/top_*\", \".png\"])))\n",
    "imageGlobR = sorted(glob.glob(\"\".join([path, \"/bottom_*\", \".png\"])))\n",
    "print (\"Selections: 0-{}\".format(len(imageGlobL)-1))"
   ]
  },
  {
   "source": [
    "### Select image pair"
   ],
   "cell_type": "markdown",
   "metadata": {}
  },
  {
   "cell_type": "code",
   "execution_count": 154,
   "metadata": {},
   "outputs": [],
   "source": [
    "imageNumber = 5\n",
    "imageL = cv2.imread(imageGlobL[imageNumber])\n",
    "imageR = cv2.imread(imageGlobR[imageNumber])"
   ]
  },
  {
   "source": [
    "### View images"
   ],
   "cell_type": "markdown",
   "metadata": {}
  },
  {
   "cell_type": "code",
   "execution_count": 155,
   "metadata": {},
   "outputs": [],
   "source": [
    "cv2.imshow(\"left/right\", numpy.hstack([imageL, imageR]))\n",
    "cv2.waitKey(0)\n",
    "cv2.destroyAllWindows()"
   ]
  },
  {
   "source": [
    "### Load calibrations and other data"
   ],
   "cell_type": "markdown",
   "metadata": {}
  },
  {
   "cell_type": "code",
   "execution_count": 156,
   "metadata": {},
   "outputs": [
    {
     "output_type": "stream",
     "name": "stdout",
     "text": [
      "Reading from data/monoCalibration.json\nLoaded mono calibration\nReading from data/stereoCalibration.json\nLoaded stereo calibration\nReading from data/stereoRectify.json\nLoaded stereo rectification data\n"
     ]
    }
   ],
   "source": [
    "imageProcessing = ImageProcessing()\n",
    "imageProcessing.loadMonoCalibrationResults()\n",
    "imageProcessing.loadStereoCalibration()\n",
    "imageProcessing.loadStereoRectify()"
   ]
  },
  {
   "source": [
    "### Create stereo matcher"
   ],
   "cell_type": "markdown",
   "metadata": {}
  },
  {
   "cell_type": "code",
   "execution_count": 157,
   "metadata": {},
   "outputs": [
    {
     "output_type": "stream",
     "name": "stdout",
     "text": [
      "Reading from data/parametersSGBM.json\n"
     ]
    }
   ],
   "source": [
    "stereoMatcher = StereoMatcher(\"SGBM\", \\\n",
    "                vertical=True, createRightMatcher=False)\n",
    "stereoMatcher.referenceDispToDepthMatrix(\\\n",
    "imageProcessing.dispToDepthMatrix)\n",
    "\n",
    "imageProcessing.initUndistortRectifyMap()"
   ]
  },
  {
   "source": [
    "### Convert to grayscale and undistort"
   ],
   "cell_type": "markdown",
   "metadata": {}
  },
  {
   "cell_type": "code",
   "execution_count": 158,
   "metadata": {},
   "outputs": [],
   "source": [
    "imageProcessing.convertToGrayscale(imageL, imageR)\n",
    "imageProcessing.undistortRectifyRemap(imageProcessing.grayImageL, \\\n",
    "                                        imageProcessing.grayImageR)"
   ]
  },
  {
   "source": [
    "### View results of above"
   ],
   "cell_type": "markdown",
   "metadata": {}
  },
  {
   "cell_type": "code",
   "execution_count": 159,
   "metadata": {},
   "outputs": [],
   "source": [
    "cv2.imshow(\"left/right undistort\", numpy.hstack(\\\n",
    "    [imageProcessing.undistortImageL, imageProcessing.undistortImageL]))\n",
    "\n",
    "cv2.imshow(\"horizontal epipolar\", \\\n",
    "    imageProcessing.drawHorEpipolarLines(\\\n",
    "        imageProcessing.undistortImageL, imageProcessing.undistortImageR))\n",
    "\n",
    "cv2.imshow(\"vertical epipolar\", \\\n",
    "    imageProcessing.drawVertEpipolarLines(\\\n",
    "        imageProcessing.undistortImageL, imageProcessing.undistortImageR))\n",
    "        \n",
    "cv2.waitKey(0)\n",
    "cv2.destroyAllWindows()"
   ]
  },
  {
   "source": [
    "### Compute disparity map"
   ],
   "cell_type": "markdown",
   "metadata": {}
  },
  {
   "cell_type": "code",
   "execution_count": 160,
   "metadata": {},
   "outputs": [
    {
     "output_type": "stream",
     "name": "stdout",
     "text": [
      "9.0\n38.8125\n"
     ]
    }
   ],
   "source": [
    "stereoMatcher.computeDisparity(\\\n",
    "                grayImageL=imageProcessing.undistortImageL, \\\n",
    "                grayImageR=imageProcessing.undistortImageR)\n",
    "\n",
    "stereoMatcher.clampDisparity()\n",
    "stereoMatcher.applyClosingFilter()\n",
    "print (stereoMatcher.disparityMapL.min())\n",
    "print (stereoMatcher.disparityMapL.max())"
   ]
  },
  {
   "source": [
    "### View disparity map"
   ],
   "cell_type": "markdown",
   "metadata": {}
  },
  {
   "cell_type": "code",
   "execution_count": 161,
   "metadata": {},
   "outputs": [
    {
     "output_type": "display_data",
     "data": {
      "text/plain": "Canvas(toolbar=Toolbar(toolitems=[('Home', 'Reset original view', 'home', 'home'), ('Back', 'Back to previous …",
      "application/vnd.jupyter.widget-view+json": {
       "version_major": 2,
       "version_minor": 0,
       "model_id": "6f0c22ba05f44ac5a2c46a88687ee6bd"
      }
     },
     "metadata": {}
    },
    {
     "output_type": "execute_result",
     "data": {
      "text/plain": [
       "<matplotlib.image.AxesImage at 0x94b707b0>"
      ]
     },
     "metadata": {},
     "execution_count": 161
    }
   ],
   "source": [
    "plt.figure()\n",
    "plt.imshow(cv2.rotate(stereoMatcher.disparityMapL, \\\n",
    "    cv2.ROTATE_90_CLOCKWISE), cmap=\"gray\")"
   ]
  },
  {
   "source": [
    "### Compute depth map"
   ],
   "cell_type": "markdown",
   "metadata": {}
  },
  {
   "cell_type": "code",
   "execution_count": 162,
   "metadata": {},
   "outputs": [
    {
     "output_type": "stream",
     "name": "stdout",
     "text": [
      "9.0\n38.8125\n(640, 360)\n610.7979\n2634.066\n"
     ]
    }
   ],
   "source": [
    "focalLength = imageProcessing.projectionMatrixL[0][0] # changes with rectify?\n",
    "baseline = 32 # mm, measured irl\n",
    "\n",
    "stereoMatcher.disparityMapL[stereoMatcher.disparityMapL==0] = 0.9\n",
    "stereoMatcher.disparityMapL[stereoMatcher.disparityMapL==-1] = 0.9\n",
    "\n",
    "depthMap = numpy.ones(stereoMatcher.disparityMapL.shape, numpy.single)\n",
    "depthMap = (focalLength*baseline)/stereoMatcher.disparityMapL[:]\n",
    "\n",
    "print (stereoMatcher.disparityMapL.min())\n",
    "print (stereoMatcher.disparityMapL.max())\n",
    "print (depthMap.shape)\n",
    "print (depthMap.min())\n",
    "print (depthMap.max())"
   ]
  },
  {
   "source": [
    "### View depth map"
   ],
   "cell_type": "markdown",
   "metadata": {}
  },
  {
   "cell_type": "code",
   "execution_count": 163,
   "metadata": {},
   "outputs": [
    {
     "output_type": "display_data",
     "data": {
      "text/plain": "Canvas(toolbar=Toolbar(toolitems=[('Home', 'Reset original view', 'home', 'home'), ('Back', 'Back to previous …",
      "application/vnd.jupyter.widget-view+json": {
       "version_major": 2,
       "version_minor": 0,
       "model_id": "6a3b2c34e30f497b9cc47f73397eac2f"
      }
     },
     "metadata": {}
    },
    {
     "output_type": "execute_result",
     "data": {
      "text/plain": [
       "<matplotlib.image.AxesImage at 0x942dbad0>"
      ]
     },
     "metadata": {},
     "execution_count": 163
    }
   ],
   "source": [
    "plt.figure()\n",
    "plt.imshow(cv2.rotate(depthMap, cv2.ROTATE_90_CLOCKWISE), cmap=\"Greys\")"
   ]
  },
  {
   "source": [
    "### Compute point cloud"
   ],
   "cell_type": "markdown",
   "metadata": {}
  },
  {
   "cell_type": "code",
   "execution_count": 168,
   "metadata": {},
   "outputs": [
    {
     "output_type": "stream",
     "name": "stdout",
     "text": [
      "(640, 360, 3)\n(28800, 3)\n[ -713.31146 -1168.7544   2763.0342 ]\n[ -713.31146 -1168.7544   2763.0342 ]\n"
     ]
    }
   ],
   "source": [
    "points = cv2.reprojectImageTo3D(stereoMatcher.disparityMapL, \\\n",
    "                                                    dispToDepthMatrix)\n",
    "\n",
    "# Reshaping to a list of 3D coordinates\n",
    "pointCloud = points.reshape((points.shape[0]*points.shape[1],3))[0::8]\n",
    "\n",
    "print (points.shape)\n",
    "print (pointCloud.shape)\n",
    "\n",
    "print (points[0,0])\n",
    "print (pointCloud[0])"
   ]
  },
  {
   "source": [
    "Filtering extreme points"
   ],
   "cell_type": "markdown",
   "metadata": {}
  },
  {
   "cell_type": "code",
   "execution_count": 169,
   "metadata": {},
   "outputs": [],
   "source": [
    "pointCloud = pointCloud[pointCloud[:, 2]>pointCloud[:, 2].min()]\n",
    "pointCloud = pointCloud[pointCloud[:, 2]<pointCloud[:, 2].max()]\n",
    "pointCloud = pointCloud[pointCloud[:, 1]>pointCloud[:, 1].min()]\n",
    "pointCloud = pointCloud[pointCloud[:, 1]<pointCloud[:, 1].max()]\n",
    "pointCloud = pointCloud[pointCloud[:, 0]>pointCloud[:, 0].min()]\n",
    "pointCloud = pointCloud[pointCloud[:, 0]<pointCloud[:, 0].max()]"
   ]
  },
  {
   "source": [
    "Rotate point cloud to have y forward"
   ],
   "cell_type": "markdown",
   "metadata": {}
  },
  {
   "cell_type": "code",
   "execution_count": 170,
   "metadata": {},
   "outputs": [
    {
     "output_type": "stream",
     "name": "stdout",
     "text": [
      "[309.37615967 731.39141846 141.42935181]\n"
     ]
    }
   ],
   "source": [
    "pointRotMatrix = numpy.array([  [0, 0, -1],\n",
    "                                [-1, 0, 0],\n",
    "                                [0, 1, 0]   ])\n",
    "\n",
    "pointCloud = numpy.dot(pointCloud[:], pointRotMatrix)\n",
    "\n",
    "print (pointCloud[0])"
   ]
  },
  {
   "source": [
    "### View point cloud"
   ],
   "cell_type": "markdown",
   "metadata": {}
  },
  {
   "cell_type": "code",
   "execution_count": 171,
   "metadata": {},
   "outputs": [
    {
     "output_type": "display_data",
     "data": {
      "text/plain": "Canvas(toolbar=Toolbar(toolitems=[('Home', 'Reset original view', 'home', 'home'), ('Back', 'Back to previous …",
      "application/vnd.jupyter.widget-view+json": {
       "version_major": 2,
       "version_minor": 0,
       "model_id": "af28957df16045fe9a12ef0f47591da5"
      }
     },
     "metadata": {}
    }
   ],
   "source": [
    "fig = plt.figure(figsize=(7,7))\n",
    "ax = fig.add_subplot(111, projection = \"3d\")\n",
    "\n",
    "ax.scatter(pointCloud[:,0], pointCloud[:,1], pointCloud[:,2], s=1)\n",
    "ax.set_xlabel(\"$x$\")\n",
    "ax.set_ylabel(\"$y$\")\n",
    "ax.set_zlabel(\"$z$\")\n",
    "\n",
    "# Camera axis begins at 0\n",
    "ax.set_ylim(0,)\n",
    "\n",
    "plt.show()"
   ]
  },
  {
   "cell_type": "code",
   "execution_count": null,
   "metadata": {},
   "outputs": [],
   "source": []
  }
 ]
}