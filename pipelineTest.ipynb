{
 "metadata": {
  "language_info": {
   "codemirror_mode": {
    "name": "ipython",
    "version": 3
   },
   "file_extension": ".py",
   "mimetype": "text/x-python",
   "name": "python",
   "nbconvert_exporter": "python",
   "pygments_lexer": "ipython3",
   "version": "3.7.3"
  },
  "orig_nbformat": 2,
  "kernelspec": {
   "name": "python373jvsc74a57bd034d9fd4794b4aa62af7c694b698b8481ba4eb70d629f53257a855dbffddd8207",
   "display_name": "Python 3.7.3 32-bit ('bot': venv)"
  }
 },
 "nbformat": 4,
 "nbformat_minor": 2,
 "cells": [
  {
   "source": [
    "# Pipeline test notebook"
   ],
   "cell_type": "markdown",
   "metadata": {}
  },
  {
   "source": [
    "### Import requirements"
   ],
   "cell_type": "markdown",
   "metadata": {}
  },
  {
   "cell_type": "code",
   "execution_count": 144,
   "metadata": {},
   "outputs": [],
   "source": [
    "import cv2\n",
    "import glob\n",
    "import matplotlib.pyplot as plt\n",
    "import numpy as np\n",
    "\n",
    "from ImageProcessing import ImageProcessing\n",
    "from StereoMatcher import StereoMatcher\n",
    "\n",
    "%matplotlib ipympl"
   ]
  },
  {
   "source": [
    "### Load calibrations and other data"
   ],
   "cell_type": "markdown",
   "metadata": {}
  },
  {
   "cell_type": "code",
   "execution_count": 145,
   "metadata": {},
   "outputs": [
    {
     "output_type": "stream",
     "name": "stdout",
     "text": [
      "Reading from data/monoCalibration.json\nLoaded mono calibration\nReading from data/stereoCalibration.json\nLoaded stereo calibration\nReading from data/stereoRectify.json\nLoaded stereo rectification data\n"
     ]
    }
   ],
   "source": [
    "imageProcessing = ImageProcessing()\n",
    "imageProcessing.loadMonoCalibrationResults()\n",
    "imageProcessing.loadStereoCalibration()\n",
    "imageProcessing.loadStereoRectify()"
   ]
  },
  {
   "source": [
    "### Create stereo matcher"
   ],
   "cell_type": "markdown",
   "metadata": {}
  },
  {
   "cell_type": "code",
   "execution_count": 146,
   "metadata": {},
   "outputs": [
    {
     "output_type": "stream",
     "name": "stdout",
     "text": [
      "Reading from data/parametersSGBM.json\n"
     ]
    }
   ],
   "source": [
    "stereoMatcher = StereoMatcher(\"SGBM\", \\\n",
    "                vertical=True, createRightMatcher=False)\n",
    "stereoMatcher.referenceDispToDepthMatrix(\\\n",
    "imageProcessing.dispToDepthMatrix)\n",
    "\n",
    "imageProcessing.initUndistortRectifyMap()\n",
    "#stereoMatcher.createDisparityWLSFilter()"
   ]
  },
  {
   "source": [
    "### Loading images"
   ],
   "cell_type": "markdown",
   "metadata": {}
  },
  {
   "cell_type": "code",
   "execution_count": 147,
   "metadata": {},
   "outputs": [
    {
     "output_type": "stream",
     "name": "stdout",
     "text": [
      "Selections: 0-7\n"
     ]
    }
   ],
   "source": [
    "path = \"captures/testImages\"\n",
    "imageGlobL = sorted(glob.glob(\"\".join([path, \"/top_*\", \".png\"])))\n",
    "imageGlobR = sorted(glob.glob(\"\".join([path, \"/bottom_*\", \".png\"])))\n",
    "print (\"Selections: 0-{}\".format(len(imageGlobL)-1))"
   ]
  },
  {
   "source": [
    "### Select image pair and display"
   ],
   "cell_type": "markdown",
   "metadata": {}
  },
  {
   "cell_type": "code",
   "execution_count": 148,
   "metadata": {},
   "outputs": [],
   "source": [
    "imageNumber = 5\n",
    "\n",
    "imageL = cv2.imread(imageGlobL[imageNumber])\n",
    "imageR = cv2.imread(imageGlobR[imageNumber])\n",
    "\n",
    "cv2.imshow(\"left/right\", numpy.hstack([imageL, imageR]))\n",
    "cv2.waitKey(0)\n",
    "cv2.destroyAllWindows()"
   ]
  },
  {
   "source": [
    "### Convert to grayscale and undistort"
   ],
   "cell_type": "markdown",
   "metadata": {}
  },
  {
   "cell_type": "code",
   "execution_count": 149,
   "metadata": {},
   "outputs": [],
   "source": [
    "imageProcessing.convertToGrayscale(imageL, imageR)\n",
    "imageProcessing.undistortRectifyRemap(imageProcessing.grayImageL, \\\n",
    "                                        imageProcessing.grayImageR)"
   ]
  },
  {
   "source": [
    "### View undistorted image"
   ],
   "cell_type": "markdown",
   "metadata": {}
  },
  {
   "cell_type": "code",
   "execution_count": 150,
   "metadata": {},
   "outputs": [],
   "source": [
    "cv2.imshow(\"left/right undistort\", numpy.hstack(\\\n",
    "    [imageProcessing.undistortImageL, imageProcessing.undistortImageL]))\n",
    "\n",
    "cv2.imshow(\"horizontal epipolar\", \\\n",
    "    imageProcessing.drawHorEpipolarLines(\\\n",
    "        imageProcessing.undistortImageL, imageProcessing.undistortImageR))\n",
    "\n",
    "cv2.imshow(\"vertical epipolar\", \\\n",
    "    imageProcessing.drawVertEpipolarLines(\\\n",
    "        imageProcessing.undistortImageL, imageProcessing.undistortImageR))\n",
    "        \n",
    "cv2.waitKey(0)\n",
    "cv2.destroyAllWindows()"
   ]
  },
  {
   "source": [
    "### Compute disparity map"
   ],
   "cell_type": "markdown",
   "metadata": {}
  },
  {
   "cell_type": "code",
   "execution_count": 151,
   "metadata": {},
   "outputs": [
    {
     "output_type": "stream",
     "name": "stdout",
     "text": [
      "minDisparity: 9.0\nmaxDisparity: 38.8125\n"
     ]
    }
   ],
   "source": [
    "stereoMatcher.computeDisparity(\\\n",
    "                grayImageL=imageProcessing.undistortImageL, \\\n",
    "                grayImageR=imageProcessing.undistortImageR)\n",
    "\n",
    "stereoMatcher.clampDisparity()\n",
    "stereoMatcher.applyClosingFilter()\n",
    "#stereoMatcher.applyWLSFilterDisparity()\n",
    "\n",
    "print (\"minDisparity:\", stereoMatcher.disparityMapL.min())\n",
    "print (\"maxDisparity:\", stereoMatcher.disparityMapL.max())"
   ]
  },
  {
   "source": [
    "### View disparity map"
   ],
   "cell_type": "markdown",
   "metadata": {}
  },
  {
   "cell_type": "code",
   "execution_count": 152,
   "metadata": {},
   "outputs": [
    {
     "output_type": "display_data",
     "data": {
      "text/plain": "Canvas(toolbar=Toolbar(toolitems=[('Home', 'Reset original view', 'home', 'home'), ('Back', 'Back to previous …",
      "application/vnd.jupyter.widget-view+json": {
       "version_major": 2,
       "version_minor": 0,
       "model_id": "e9b502f8a90748ebac696a6c125da457"
      }
     },
     "metadata": {}
    },
    {
     "output_type": "execute_result",
     "data": {
      "text/plain": [
       "<matplotlib.image.AxesImage at 0x994979d0>"
      ]
     },
     "metadata": {},
     "execution_count": 152
    }
   ],
   "source": [
    "plt.figure()\n",
    "plt.imshow(cv2.rotate(stereoMatcher.disparityMapL, \\\n",
    "    cv2.ROTATE_90_CLOCKWISE), cmap=\"gray\")"
   ]
  },
  {
   "source": [
    "### Compute depth map"
   ],
   "cell_type": "markdown",
   "metadata": {}
  },
  {
   "cell_type": "code",
   "execution_count": 153,
   "metadata": {},
   "outputs": [
    {
     "output_type": "stream",
     "name": "stdout",
     "text": [
      "9.0\n38.8125\n(640, 360)\n610.7979\n2634.066\n"
     ]
    }
   ],
   "source": [
    "focalLength = imageProcessing.projectionMatrixL[0][0] # changes with rectify?\n",
    "baseline = 32 # mm, measured irl\n",
    "\n",
    "stereoMatcher.disparityMapL[stereoMatcher.disparityMapL==0] = 0.9\n",
    "stereoMatcher.disparityMapL[stereoMatcher.disparityMapL==-1] = 0.9\n",
    "\n",
    "depthMap = np.empty_like(stereoMatcher.disparityMapL)\n",
    "depthMap = (focalLength*baseline)/stereoMatcher.disparityMapL[:]\n",
    "\n",
    "print (stereoMatcher.disparityMapL.min())\n",
    "print (stereoMatcher.disparityMapL.max())\n",
    "print (depthMap.shape)\n",
    "print (depthMap.min())\n",
    "print (depthMap.max())"
   ]
  },
  {
   "source": [
    "### View depth map"
   ],
   "cell_type": "markdown",
   "metadata": {}
  },
  {
   "cell_type": "code",
   "execution_count": 154,
   "metadata": {},
   "outputs": [
    {
     "output_type": "display_data",
     "data": {
      "text/plain": "Canvas(toolbar=Toolbar(toolitems=[('Home', 'Reset original view', 'home', 'home'), ('Back', 'Back to previous …",
      "application/vnd.jupyter.widget-view+json": {
       "version_major": 2,
       "version_minor": 0,
       "model_id": "10186198249a484f986b2991c7ed026d"
      }
     },
     "metadata": {}
    },
    {
     "output_type": "execute_result",
     "data": {
      "text/plain": [
       "<matplotlib.image.AxesImage at 0x9934f210>"
      ]
     },
     "metadata": {},
     "execution_count": 154
    }
   ],
   "source": [
    "plt.figure()\n",
    "plt.imshow(cv2.rotate(depthMap, cv2.ROTATE_90_CLOCKWISE), cmap=\"Greys\")"
   ]
  },
  {
   "source": [
    "### Compute point cloud"
   ],
   "cell_type": "markdown",
   "metadata": {}
  },
  {
   "cell_type": "code",
   "execution_count": 155,
   "metadata": {},
   "outputs": [
    {
     "output_type": "stream",
     "name": "stdout",
     "text": [
      "(640, 360, 3)\n(14400, 3)\n[ -713.31146 -1168.7544   2763.0342 ]\n[ -713 -1168  2763]\n"
     ]
    }
   ],
   "source": [
    "points = cv2.reprojectImageTo3D(stereoMatcher.disparityMapL, \\\n",
    "                                stereoMatcher.dispToDepthMatrix)\n",
    "\n",
    "# Reshaping to a list of 3D coordinates\n",
    "pointCloud = points.reshape((points.shape[0]*points.shape[1],3))[0::16]\\\n",
    "                                                        .astype(np.int16)\n",
    "\n",
    "print (points.shape)\n",
    "print (pointCloud.shape)\n",
    "\n",
    "print (points[0,0])\n",
    "print (pointCloud[0])"
   ]
  },
  {
   "source": [
    "Filtering extreme points"
   ],
   "cell_type": "markdown",
   "metadata": {}
  },
  {
   "cell_type": "code",
   "execution_count": 156,
   "metadata": {},
   "outputs": [
    {
     "output_type": "stream",
     "name": "stdout",
     "text": [
      "(11671, 3)\n"
     ]
    }
   ],
   "source": [
    "pointCloud = pointCloud[pointCloud[:, 2]>pointCloud[:, 2].min()]\n",
    "pointCloud = pointCloud[pointCloud[:, 2]<pointCloud[:, 2].max()]\n",
    "pointCloud = pointCloud[pointCloud[:, 1]>pointCloud[:, 1].min()]\n",
    "pointCloud = pointCloud[pointCloud[:, 1]<pointCloud[:, 1].max()]\n",
    "pointCloud = pointCloud[pointCloud[:, 0]>pointCloud[:, 0].min()]\n",
    "pointCloud = pointCloud[pointCloud[:, 0]<pointCloud[:, 0].max()]\n",
    "\n",
    "print (pointCloud.shape)"
   ]
  },
  {
   "source": [
    "Rotate point cloud to have y forward"
   ],
   "cell_type": "markdown",
   "metadata": {}
  },
  {
   "cell_type": "code",
   "execution_count": 157,
   "metadata": {},
   "outputs": [
    {
     "output_type": "stream",
     "name": "stdout",
     "text": [
      "(11671, 3)\n[309 731 141]\n"
     ]
    }
   ],
   "source": [
    "pointRotMatrix = np.array([ [ 0,  0, -1],\n",
    "                            [-1,  0,  0],\n",
    "                            [ 0,  1,  0] ])\n",
    "\n",
    "pointCloud = np.dot(pointCloud[:], pointRotMatrix)\n",
    "\n",
    "print (pointCloud.shape)\n",
    "print (pointCloud[0])"
   ]
  },
  {
   "source": [
    "### View point cloud"
   ],
   "cell_type": "markdown",
   "metadata": {}
  },
  {
   "cell_type": "code",
   "execution_count": 158,
   "metadata": {},
   "outputs": [
    {
     "output_type": "display_data",
     "data": {
      "text/plain": "Canvas(toolbar=Toolbar(toolitems=[('Home', 'Reset original view', 'home', 'home'), ('Back', 'Back to previous …",
      "application/vnd.jupyter.widget-view+json": {
       "version_major": 2,
       "version_minor": 0,
       "model_id": "bc2813c38eb04ff6840407653b93b179"
      }
     },
     "metadata": {}
    }
   ],
   "source": [
    "fig = plt.figure(figsize=(7,7))\n",
    "ax = fig.add_subplot(111, projection = \"3d\")\n",
    "\n",
    "ax.scatter(pointCloud[:,0], pointCloud[:,1], pointCloud[:,2], s=1)\n",
    "ax.set_xlabel(\"$x$\")\n",
    "ax.set_ylabel(\"$y$\")\n",
    "ax.set_zlabel(\"$z$\")\n",
    "\n",
    "# Camera axis begins at 0\n",
    "ax.set_ylim(0,)\n",
    "\n",
    "plt.show()"
   ]
  },
  {
   "source": [
    "### Voxelize point cloud"
   ],
   "cell_type": "markdown",
   "metadata": {}
  },
  {
   "cell_type": "code",
   "execution_count": 159,
   "metadata": {},
   "outputs": [
    {
     "output_type": "display_data",
     "data": {
      "text/plain": "Canvas(toolbar=Toolbar(toolitems=[('Home', 'Reset original view', 'home', 'home'), ('Back', 'Back to previous …",
      "application/vnd.jupyter.widget-view+json": {
       "version_major": 2,
       "version_minor": 0,
       "model_id": "7368b8c4d7b643119dfebfa42a6fc952"
      }
     },
     "metadata": {}
    }
   ],
   "source": [
    "# From the matplotlib documentation:\n",
    "# Prepare some coordinates\n",
    "x, y, z = np.indices((8, 8, 8))\n",
    "\n",
    "# Draw cuboids in the top left and bottom right corners, and a link between them\n",
    "voxels = (x < 3) & (y < 3) & (z < 3)\n",
    "\n",
    "ax = plt.figure().add_subplot(projection='3d')\n",
    "ax.voxels(voxels)#, edgecolor='k')\n",
    "\n",
    "plt.show()"
   ]
  },
  {
   "cell_type": "code",
   "execution_count": 407,
   "metadata": {},
   "outputs": [
    {
     "output_type": "stream",
     "name": "stdout",
     "text": [
      "[[-500  668 -317]\n [ 318 2260  412]] range\n[ 81 159  72] units\n[-100 1460   40] center\n"
     ]
    }
   ],
   "source": [
    "voxelSize = 10 # mm\n",
    "voxelRange = np.array(\n",
    "  [[pointCloud[:, 0].min(), pointCloud[:, 1].min(), pointCloud[:, 2].min()],\\\n",
    "  [pointCloud[:, 0].max(), pointCloud[:, 1].max(), pointCloud[:, 2].max()]])\\\n",
    "  .astype(np.int16)\n",
    "\n",
    "print(voxelRange, \"range\")\n",
    "\n",
    "voxelUnits = (((voxelRange[1]-voxelRange[0]) - \\\n",
    "            (voxelRange[1]-voxelRange[0]) % voxelSize)/10).astype(np.int16)\n",
    "print(voxelUnits, \"units\")\n",
    "\n",
    "voxelCenter = (voxelRange[0] + (voxelRange[1]-voxelRange[0])/2 - (voxelRange[0] + (voxelRange[1]-voxelRange[0])/2)%10).astype(np.int16)\n",
    "print(voxelCenter, \"center\")"
   ]
  },
  {
   "cell_type": "code",
   "execution_count": 413,
   "metadata": {},
   "outputs": [
    {
     "output_type": "stream",
     "name": "stdout",
     "text": [
      "[[-50  66 -31]\n",
      " [ 31 226  41]]\n",
      "[-310. -300. -290. -280. -270. -260. -250. -240. -230. -220. -210. -200.\n",
      " -190. -180. -170. -160. -150. -140. -130. -120. -110. -100.  -90.  -80.\n",
      "  -70.  -60.  -50.  -40.  -30.  -20.  -10.    0.   10.   20.   30.   40.\n",
      "   50.   60.   70.   80.   90.  100.  110.  120.  130.  140.  150.  160.\n",
      "  170.  180.  190.  200.  210.  220.  230.  240.  250.  260.  270.  280.\n",
      "  290.  300.  310.  320.  330.  340.  350.  360.  370.  380.  390.  400.]\n",
      "[ 660.  670.  680.  690.  700.  710.  720.  730.  740.  750.  760.  770.\n",
      "  780.  790.  800.  810.  820.  830.  840.  850.  860.  870.  880.  890.\n",
      "  900.  910.  920.  930.  940.  950.  960.  970.  980.  990. 1000. 1010.\n",
      " 1020. 1030. 1040. 1050. 1060. 1070. 1080. 1090. 1100. 1110. 1120. 1130.\n",
      " 1140. 1150. 1160. 1170. 1180. 1190. 1200. 1210. 1220. 1230. 1240. 1250.\n",
      " 1260. 1270. 1280. 1290. 1300. 1310. 1320. 1330. 1340. 1350. 1360. 1370.\n",
      " 1380. 1390. 1400. 1410. 1420. 1430. 1440. 1450. 1460. 1470. 1480. 1490.\n",
      " 1500. 1510. 1520. 1530. 1540. 1550. 1560. 1570. 1580. 1590. 1600. 1610.\n",
      " 1620. 1630. 1640. 1650. 1660. 1670. 1680. 1690. 1700. 1710. 1720. 1730.\n",
      " 1740. 1750. 1760. 1770. 1780. 1790. 1800. 1810. 1820. 1830. 1840. 1850.\n",
      " 1860. 1870. 1880. 1890. 1900. 1910. 1920. 1930. 1940. 1950. 1960. 1970.\n",
      " 1980. 1990. 2000. 2010. 2020. 2030. 2040. 2050. 2060. 2070. 2080. 2090.\n",
      " 2100. 2110. 2120. 2130. 2140. 2150. 2160. 2170. 2180. 2190. 2200. 2210.\n",
      " 2220. 2230. 2240.]\n",
      "[-500. -490. -480. -470. -460. -450. -440. -430. -420. -410. -400. -390.\n",
      " -380. -370. -360. -350. -340. -330. -320. -310. -300. -290. -280. -270.\n",
      " -260. -250. -240. -230. -220. -210. -200. -190. -180. -170. -160. -150.\n",
      " -140. -130. -120. -110. -100.  -90.  -80.  -70.  -60.  -50.  -40.  -30.\n",
      "  -20.  -10.    0.   10.   20.   30.   40.   50.   60.   70.   80.   90.\n",
      "  100.  110.  120.  130.  140.  150.  160.  170.  180.  190.  200.  210.\n",
      "  220.  230.  240.  250.  260.  270.  280.  290.  300.]\n"
     ]
    }
   ],
   "source": [
    "voxelOffset = np.empty([3, *voxelUnits])\n",
    "\n",
    "voxelUnitRange = (np.array(\n",
    "  [[pointCloud[:, 0].min(), pointCloud[:, 1].min(), pointCloud[:, 2].min()],\\\n",
    "  [pointCloud[:, 0].max(), pointCloud[:, 1].max(), pointCloud[:, 2].max()]])\\\n",
    "  /voxelSize).astype(np.int16)\n",
    "\n",
    "print(voxelRangeClamp)\n",
    "\n",
    "voxelUnitIndices = np.indices(voxelUnits)\n",
    "\n",
    "voxelOffset[2] = (voxelUnitIndices[2]+voxelUnitRange[0,2])*10\n",
    "print(voxelOffset[2][0,0,:])\n",
    "\n",
    "voxelOffset[1] = (voxelUnitIndices[1]+voxelUnitRange[0,1])*10\n",
    "print(voxelOffset[1][0,:,0])\n",
    "\n",
    "voxelOffset[0] = (voxelUnitIndices[0]+voxelUnitRange[0,0])*10\n",
    "print(voxelOffset[0][:,0,0])"
   ]
  },
  {
   "cell_type": "code",
   "execution_count": null,
   "metadata": {},
   "outputs": [],
   "source": [
    "#voxelOccupancy"
   ]
  },
  {
   "cell_type": "code",
   "execution_count": 442,
   "metadata": {},
   "outputs": [
    {
     "output_type": "stream",
     "name": "stdout",
     "text": [
      "-307\n",
      "-297\n",
      "-287\n",
      "-277\n",
      "-267\n",
      "-257\n",
      "-247\n",
      "-237\n",
      "-227\n",
      "-217\n",
      "-207\n",
      "-197\n",
      "-187\n",
      "-177\n",
      "-167\n",
      "-157\n",
      "-147\n",
      "-137\n",
      "-127\n",
      "-117\n",
      "-107\n",
      "-97\n",
      "-87\n",
      "-77\n",
      "-67\n",
      "-57\n",
      "-47\n",
      "-37\n",
      "-27\n",
      "-17\n",
      "-7\n",
      "3\n",
      "13\n",
      "23\n",
      "33\n",
      "43\n",
      "53\n",
      "63\n",
      "73\n",
      "83\n",
      "93\n",
      "103\n",
      "113\n",
      "123\n",
      "133\n",
      "143\n",
      "153\n",
      "163\n",
      "173\n",
      "183\n",
      "193\n",
      "203\n",
      "213\n",
      "223\n",
      "233\n",
      "243\n",
      "253\n",
      "263\n",
      "273\n",
      "283\n",
      "293\n",
      "303\n",
      "313\n",
      "323\n",
      "333\n",
      "343\n",
      "353\n",
      "363\n",
      "373\n",
      "383\n",
      "393\n",
      "403\n",
      "413\n"
     ]
    },
    {
     "output_type": "error",
     "ename": "IndexError",
     "evalue": "index 72 is out of bounds for axis 2 with size 72",
     "traceback": [
      "\u001b[0;31m---------------------------------------------------------------------------\u001b[0m",
      "\u001b[0;31mIndexError\u001b[0m                                Traceback (most recent call last)",
      "\u001b[0;32m<ipython-input-442-55a04cc43fd3>\u001b[0m in \u001b[0;36m<module>\u001b[0;34m\u001b[0m\n\u001b[1;32m     12\u001b[0m                     \u001b[0mmask\u001b[0m\u001b[0;34m[\u001b[0m\u001b[0mx\u001b[0m\u001b[0;34m,\u001b[0m\u001b[0my\u001b[0m\u001b[0;34m,\u001b[0m\u001b[0mz\u001b[0m\u001b[0;34m]\u001b[0m \u001b[0;34m=\u001b[0m \u001b[0;32mTrue\u001b[0m\u001b[0;34m\u001b[0m\u001b[0;34m\u001b[0m\u001b[0m\n\u001b[1;32m     13\u001b[0m                 \u001b[0;32melse\u001b[0m\u001b[0;34m:\u001b[0m\u001b[0;34m\u001b[0m\u001b[0;34m\u001b[0m\u001b[0m\n\u001b[0;32m---> 14\u001b[0;31m                      \u001b[0mmask\u001b[0m\u001b[0;34m[\u001b[0m\u001b[0mx\u001b[0m\u001b[0;34m,\u001b[0m\u001b[0my\u001b[0m\u001b[0;34m,\u001b[0m\u001b[0mz\u001b[0m\u001b[0;34m]\u001b[0m \u001b[0;34m=\u001b[0m \u001b[0;32mFalse\u001b[0m\u001b[0;34m\u001b[0m\u001b[0;34m\u001b[0m\u001b[0m\n\u001b[0m\u001b[1;32m     15\u001b[0m             \u001b[0mz\u001b[0m\u001b[0;34m+=\u001b[0m\u001b[0;36m1\u001b[0m\u001b[0;34m\u001b[0m\u001b[0;34m\u001b[0m\u001b[0m\n\u001b[1;32m     16\u001b[0m         \u001b[0my\u001b[0m\u001b[0;34m+=\u001b[0m\u001b[0;36m1\u001b[0m\u001b[0;34m\u001b[0m\u001b[0;34m\u001b[0m\u001b[0m\n",
      "\u001b[0;31mIndexError\u001b[0m: index 72 is out of bounds for axis 2 with size 72"
     ]
    }
   ],
   "source": [
    "x,y,z = 0,0,0\n",
    "mask=np.empty(voxelUnits)\n",
    "for xmin in range(voxelRange[0,0], voxelRange[1,0], voxelSize):\n",
    "    xmax = xmin+voxelSize\n",
    "    for ymin in range(voxelRange[0,1], voxelRange[1,1], voxelSize):\n",
    "        ymax = ymin+voxelSize\n",
    "        for zmin in range(voxelRange[0,2], voxelRange[1,2], voxelSize):\n",
    "            zmax = zmin+voxelSize\n",
    "            print(zmax)\n",
    "            for point in pointCloud:\n",
    "                if (point[0]<xmax and point[0]>xmin and point[1]<ymax and point[1]>ymin and point[2]<zmin):\n",
    "                    mask[x,y,z] = True\n",
    "                else:\n",
    "                     mask[x,y,z] = False\n",
    "            z+=1\n",
    "        y+=1\n",
    "    x+=1\n",
    "print (mask)"
   ]
  },
  {
   "cell_type": "code",
   "execution_count": null,
   "metadata": {},
   "outputs": [],
   "source": []
  }
 ]
}