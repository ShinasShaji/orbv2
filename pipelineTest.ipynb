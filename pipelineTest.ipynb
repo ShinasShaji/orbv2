{
 "metadata": {
  "language_info": {
   "codemirror_mode": {
    "name": "ipython",
    "version": 3
   },
   "file_extension": ".py",
   "mimetype": "text/x-python",
   "name": "python",
   "nbconvert_exporter": "python",
   "pygments_lexer": "ipython3",
   "version": "3.7.3"
  },
  "orig_nbformat": 2,
  "kernelspec": {
   "name": "python373jvsc74a57bd034d9fd4794b4aa62af7c694b698b8481ba4eb70d629f53257a855dbffddd8207",
   "display_name": "Python 3.7.3 32-bit ('bot': venv)"
  }
 },
 "nbformat": 4,
 "nbformat_minor": 2,
 "cells": [
  {
   "source": [
    "# Pipeline test notebook"
   ],
   "cell_type": "markdown",
   "metadata": {}
  },
  {
   "source": [
    "### Import requirements"
   ],
   "cell_type": "markdown",
   "metadata": {}
  },
  {
   "cell_type": "code",
   "execution_count": 73,
   "metadata": {},
   "outputs": [],
   "source": [
    "import cv2\n",
    "import glob\n",
    "import matplotlib.pyplot as plt\n",
    "import numpy as np\n",
    "import time\n",
    "\n",
    "from ImageProcessor import ImageProcessor\n",
    "from StereoMatcher import StereoMatcher\n",
    "\n",
    "%matplotlib ipympl"
   ]
  },
  {
   "source": [
    "### Load calibrations and other data"
   ],
   "cell_type": "markdown",
   "metadata": {}
  },
  {
   "cell_type": "code",
   "execution_count": 74,
   "metadata": {},
   "outputs": [
    {
     "output_type": "stream",
     "name": "stdout",
     "text": [
      "Reading from data/monoCalibration.json\nLoaded mono calibration\nReading from data/stereoCalibration.json\nLoaded stereo calibration\nReading from data/stereoRectify.json\nLoaded stereo rectification data\n"
     ]
    }
   ],
   "source": [
    "imageProcessor = ImageProcessor()\n",
    "imageProcessor.loadMonoCalibrationResults()\n",
    "imageProcessor.loadStereoCalibration()\n",
    "imageProcessor.loadStereoRectify()"
   ]
  },
  {
   "source": [
    "### Create stereo matcher"
   ],
   "cell_type": "markdown",
   "metadata": {}
  },
  {
   "cell_type": "code",
   "execution_count": 75,
   "metadata": {},
   "outputs": [
    {
     "output_type": "stream",
     "name": "stdout",
     "text": [
      "Reading from data/parametersSGBM.json\n"
     ]
    }
   ],
   "source": [
    "stereoMatcher = StereoMatcher(\"SGBM\", \\\n",
    "                vertical=True, createRightMatcher=False)\n",
    "stereoMatcher.referenceImageProcessor(imageProcessor)\n",
    "\n",
    "imageProcessor.initUndistortRectifyMap()\n",
    "#stereoMatcher.createDisparityWLSFilter()"
   ]
  },
  {
   "source": [
    "### Loading images"
   ],
   "cell_type": "markdown",
   "metadata": {}
  },
  {
   "cell_type": "code",
   "execution_count": 76,
   "metadata": {},
   "outputs": [
    {
     "output_type": "stream",
     "name": "stdout",
     "text": [
      "Selections: 0-7\n"
     ]
    }
   ],
   "source": [
    "path = \"captures/testImages\"\n",
    "imageGlobL = sorted(glob.glob(\"\".join([path, \"/top_*\", \".png\"])))\n",
    "imageGlobR = sorted(glob.glob(\"\".join([path, \"/bottom_*\", \".png\"])))\n",
    "print (\"Selections: 0-{}\".format(len(imageGlobL)-1))"
   ]
  },
  {
   "source": [
    "### Select image pair and display"
   ],
   "cell_type": "markdown",
   "metadata": {}
  },
  {
   "cell_type": "code",
   "execution_count": 95,
   "metadata": {},
   "outputs": [
    {
     "output_type": "display_data",
     "data": {
      "text/plain": "Canvas(toolbar=Toolbar(toolitems=[('Home', 'Reset original view', 'home', 'home'), ('Back', 'Back to previous …",
      "application/vnd.jupyter.widget-view+json": {
       "version_major": 2,
       "version_minor": 0,
       "model_id": "997438d37d2749448e4f801b55140c77"
      }
     },
     "metadata": {}
    },
    {
     "output_type": "execute_result",
     "data": {
      "text/plain": [
       "<matplotlib.image.AxesImage at 0x8f5b2f70>"
      ]
     },
     "metadata": {},
     "execution_count": 95
    }
   ],
   "source": [
    "imageNumber = 6\n",
    "\n",
    "imageL = cv2.imread(imageGlobL[imageNumber])\n",
    "imageR = cv2.imread(imageGlobR[imageNumber])\n",
    "\n",
    "plt.figure()\n",
    "plt.imshow(cv2.cvtColor(np.hstack([imageL, imageL]), cv2.COLOR_BGR2RGB))"
   ]
  },
  {
   "source": [
    "### Convert to grayscale and undistort"
   ],
   "cell_type": "markdown",
   "metadata": {}
  },
  {
   "cell_type": "code",
   "execution_count": 96,
   "metadata": {},
   "outputs": [],
   "source": [
    "imageProcessor.convertToGrayscale(imageL, imageR)\n",
    "imageProcessor.undistortRectifyRemap(imageProcessor.grayImageL, \\\n",
    "                                        imageProcessor.grayImageR)"
   ]
  },
  {
   "source": [
    "### View undistorted image"
   ],
   "cell_type": "markdown",
   "metadata": {}
  },
  {
   "cell_type": "code",
   "execution_count": 97,
   "metadata": {},
   "outputs": [
    {
     "output_type": "display_data",
     "data": {
      "text/plain": "Canvas(toolbar=Toolbar(toolitems=[('Home', 'Reset original view', 'home', 'home'), ('Back', 'Back to previous …",
      "application/vnd.jupyter.widget-view+json": {
       "version_major": 2,
       "version_minor": 0,
       "model_id": "0a14b74747ee4639970c310786dc1166"
      }
     },
     "metadata": {}
    },
    {
     "output_type": "execute_result",
     "data": {
      "text/plain": [
       "<matplotlib.image.AxesImage at 0x9df36a70>"
      ]
     },
     "metadata": {},
     "execution_count": 97
    }
   ],
   "source": [
    "fig = plt.figure()\n",
    "fig.suptitle(\"left/right undistorted\")\n",
    "plt.imshow(cv2.cvtColor(np.hstack([imageProcessor.undistortImageL, \\\n",
    "            imageProcessor.undistortImageR]), cv2.COLOR_BGR2RGB))"
   ]
  },
  {
   "cell_type": "code",
   "execution_count": 98,
   "metadata": {},
   "outputs": [
    {
     "output_type": "display_data",
     "data": {
      "text/plain": "Canvas(toolbar=Toolbar(toolitems=[('Home', 'Reset original view', 'home', 'home'), ('Back', 'Back to previous …",
      "application/vnd.jupyter.widget-view+json": {
       "version_major": 2,
       "version_minor": 0,
       "model_id": "1f2cef182a7c44298408457d4e2f4bc2"
      }
     },
     "metadata": {}
    },
    {
     "output_type": "execute_result",
     "data": {
      "text/plain": [
       "<matplotlib.image.AxesImage at 0x91e50b70>"
      ]
     },
     "metadata": {},
     "execution_count": 98
    }
   ],
   "source": [
    "fig = plt.figure()\n",
    "fig.suptitle(\"horizontal epipolar\")\n",
    "plt.imshow(cv2.cvtColor(imageProcessor.drawHorEpipolarLines(\\\n",
    "        imageProcessor.undistortImageL, imageProcessor.undistortImageR), cv2.COLOR_BGR2RGB))"
   ]
  },
  {
   "cell_type": "code",
   "execution_count": 122,
   "metadata": {},
   "outputs": [
    {
     "output_type": "display_data",
     "data": {
      "text/plain": "Canvas(toolbar=Toolbar(toolitems=[('Home', 'Reset original view', 'home', 'home'), ('Back', 'Back to previous …",
      "application/vnd.jupyter.widget-view+json": {
       "version_major": 2,
       "version_minor": 0,
       "model_id": "85948ddc8eb642e7b534dff836806bd2"
      }
     },
     "metadata": {}
    },
    {
     "output_type": "execute_result",
     "data": {
      "text/plain": [
       "<matplotlib.image.AxesImage at 0x99a97830>"
      ]
     },
     "metadata": {},
     "execution_count": 122
    }
   ],
   "source": [
    "fig = plt.figure(figsize=(6,15))\n",
    "fig.suptitle(\"left/right undistorted\")\n",
    "plt.imshow(cv2.cvtColor(imageProcessor.drawVertEpipolarLines(\\\n",
    "        imageProcessor.undistortImageL, imageProcessor.undistortImageR), cv2.COLOR_BGR2RGB))"
   ]
  },
  {
   "source": [
    "### Compute disparity map"
   ],
   "cell_type": "markdown",
   "metadata": {}
  },
  {
   "cell_type": "code",
   "execution_count": 100,
   "metadata": {},
   "outputs": [
    {
     "output_type": "stream",
     "name": "stdout",
     "text": [
      "minDisparity: 9.0\nmaxDisparity: 37.625\n"
     ]
    }
   ],
   "source": [
    "stereoMatcher.computeDisparity(\\\n",
    "                grayImageL=imageProcessor.undistortImageL, \\\n",
    "                grayImageR=imageProcessor.undistortImageR)\n",
    "\n",
    "stereoMatcher.clampDisparity()\n",
    "stereoMatcher.applyClosingFilter()\n",
    "#stereoMatcher.applyWLSFilterDisparity()\n",
    "\n",
    "print (\"minDisparity:\", stereoMatcher.disparityMapL.min())\n",
    "print (\"maxDisparity:\", stereoMatcher.disparityMapL.max())"
   ]
  },
  {
   "source": [
    "### View disparity map"
   ],
   "cell_type": "markdown",
   "metadata": {}
  },
  {
   "cell_type": "code",
   "execution_count": 101,
   "metadata": {},
   "outputs": [
    {
     "output_type": "display_data",
     "data": {
      "text/plain": "Canvas(toolbar=Toolbar(toolitems=[('Home', 'Reset original view', 'home', 'home'), ('Back', 'Back to previous …",
      "application/vnd.jupyter.widget-view+json": {
       "version_major": 2,
       "version_minor": 0,
       "model_id": "53031190a8614feda98c7e8f614cc581"
      }
     },
     "metadata": {}
    },
    {
     "output_type": "execute_result",
     "data": {
      "text/plain": [
       "<matplotlib.image.AxesImage at 0x8e8eb510>"
      ]
     },
     "metadata": {},
     "execution_count": 101
    }
   ],
   "source": [
    "plt.figure()\n",
    "plt.imshow(cv2.rotate(stereoMatcher.disparityMapL, \\\n",
    "    cv2.ROTATE_90_CLOCKWISE), cmap=\"gray\")"
   ]
  },
  {
   "source": [
    "### Compute depth map"
   ],
   "cell_type": "markdown",
   "metadata": {}
  },
  {
   "cell_type": "code",
   "execution_count": 102,
   "metadata": {},
   "outputs": [
    {
     "output_type": "stream",
     "name": "stdout",
     "text": [
      "9.0\n37.625\n(640, 360)\n630.07556\n2634.066\n"
     ]
    }
   ],
   "source": [
    "focalLength = imageProcessor.projectionMatrixL[0][0] # changes with rectify?\n",
    "baseline = 32 # mm, measured irl\n",
    "\n",
    "stereoMatcher.disparityMapL[stereoMatcher.disparityMapL==0] = 0.9\n",
    "stereoMatcher.disparityMapL[stereoMatcher.disparityMapL==-1] = 0.9\n",
    "\n",
    "depthMap = np.empty_like(stereoMatcher.disparityMapL)\n",
    "depthMap = (focalLength*baseline)/stereoMatcher.disparityMapL[:]\n",
    "\n",
    "print (stereoMatcher.disparityMapL.min())\n",
    "print (stereoMatcher.disparityMapL.max())\n",
    "print (depthMap.shape)\n",
    "print (depthMap.min())\n",
    "print (depthMap.max())"
   ]
  },
  {
   "source": [
    "### View depth map"
   ],
   "cell_type": "markdown",
   "metadata": {}
  },
  {
   "cell_type": "code",
   "execution_count": 103,
   "metadata": {},
   "outputs": [
    {
     "output_type": "display_data",
     "data": {
      "text/plain": "Canvas(toolbar=Toolbar(toolitems=[('Home', 'Reset original view', 'home', 'home'), ('Back', 'Back to previous …",
      "application/vnd.jupyter.widget-view+json": {
       "version_major": 2,
       "version_minor": 0,
       "model_id": "38ecd40cbf93411287d354715551ba41"
      }
     },
     "metadata": {}
    },
    {
     "output_type": "execute_result",
     "data": {
      "text/plain": [
       "<matplotlib.image.AxesImage at 0x8e8b9110>"
      ]
     },
     "metadata": {},
     "execution_count": 103
    }
   ],
   "source": [
    "plt.figure()\n",
    "plt.imshow(cv2.rotate(depthMap, cv2.ROTATE_90_CLOCKWISE), cmap=\"Greys\")"
   ]
  },
  {
   "source": [
    "### Compute point cloud"
   ],
   "cell_type": "markdown",
   "metadata": {}
  },
  {
   "cell_type": "code",
   "execution_count": 104,
   "metadata": {},
   "outputs": [
    {
     "output_type": "stream",
     "name": "stdout",
     "text": [
      "(640, 360, 3)\n(14400, 3)\n[ -713.31146 -1168.7544   2763.0342 ]\n[ -713 -1168  2763]\n"
     ]
    }
   ],
   "source": [
    "points = cv2.reprojectImageTo3D(stereoMatcher.disparityMapL, \\\n",
    "                                imageProcessor.dispToDepthMatrix)\n",
    "\n",
    "# Reshaping to a list of 3D coordinates\n",
    "pointCloud = points.reshape((points.shape[0]*points.shape[1],3))[0::16]\\\n",
    "                                                        .astype(np.int16)\n",
    "\n",
    "print (points.shape)\n",
    "print (pointCloud.shape)\n",
    "\n",
    "print (points[0,0])\n",
    "print (pointCloud[0])"
   ]
  },
  {
   "source": [
    "Filtering extreme points"
   ],
   "cell_type": "markdown",
   "metadata": {}
  },
  {
   "cell_type": "code",
   "execution_count": 105,
   "metadata": {},
   "outputs": [
    {
     "output_type": "stream",
     "name": "stdout",
     "text": [
      "(11378, 3)\n"
     ]
    }
   ],
   "source": [
    "# Filtering x values\n",
    "pointCloud = pointCloud[np.logical_and(\\\n",
    "    pointCloud[:, 0]>pointCloud[:, 0].min(), \\\n",
    "    pointCloud[:, 0]<pointCloud[:, 0].max())]\n",
    "# Filtering y values\n",
    "pointCloud = pointCloud[np.logical_and(\\\n",
    "    pointCloud[:, 1]>pointCloud[:, 1].min(), \\\n",
    "    pointCloud[:, 1]<pointCloud[:, 1].max())]\n",
    "# Filtering z values\n",
    "pointCloud = pointCloud[np.logical_and(\\\n",
    "    pointCloud[:, 2]>pointCloud[:, 2].min(), \\\n",
    "    pointCloud[:, 2]<pointCloud[:, 2].max())]\n",
    "\n",
    "print (pointCloud.shape)"
   ]
  },
  {
   "source": [
    "Rotate point cloud to have y forward"
   ],
   "cell_type": "markdown",
   "metadata": {}
  },
  {
   "cell_type": "code",
   "execution_count": 106,
   "metadata": {},
   "outputs": [
    {
     "output_type": "stream",
     "name": "stdout",
     "text": [
      "(11378, 3)\n[ 876 2072  355]\n"
     ]
    }
   ],
   "source": [
    "pointRotMatrix = np.array([ [ 0,  0, -1],\n",
    "                            [-1,  0,  0],\n",
    "                            [ 0,  1,  0] ])\n",
    "\n",
    "pointCloud = np.dot(pointCloud[:], pointRotMatrix)\n",
    "\n",
    "print (pointCloud.shape)\n",
    "print (pointCloud[0])"
   ]
  },
  {
   "source": [
    "### View point cloud"
   ],
   "cell_type": "markdown",
   "metadata": {}
  },
  {
   "cell_type": "code",
   "execution_count": 107,
   "metadata": {},
   "outputs": [
    {
     "output_type": "display_data",
     "data": {
      "text/plain": "Canvas(toolbar=Toolbar(toolitems=[('Home', 'Reset original view', 'home', 'home'), ('Back', 'Back to previous …",
      "application/vnd.jupyter.widget-view+json": {
       "version_major": 2,
       "version_minor": 0,
       "model_id": "1aa326e374104938b54bb47ea0c7fbce"
      }
     },
     "metadata": {}
    }
   ],
   "source": [
    "fig = plt.figure(figsize=(7,7))\n",
    "ax = fig.add_subplot(111, projection = \"3d\")\n",
    "\n",
    "ax.scatter(pointCloud[:,0], pointCloud[:,1], pointCloud[:,2], s=1)\n",
    "ax.set_xlabel(\"$x$\")\n",
    "ax.set_ylabel(\"$y$\")\n",
    "ax.set_zlabel(\"$z$\")\n",
    "\n",
    "# Camera axis begins at 0\n",
    "ax.set_ylim(0,)\n",
    "\n",
    "plt.show()"
   ]
  },
  {
   "source": [
    "### Voxelize point cloud"
   ],
   "cell_type": "markdown",
   "metadata": {}
  },
  {
   "cell_type": "code",
   "execution_count": 108,
   "metadata": {},
   "outputs": [
    {
     "output_type": "stream",
     "name": "stdout",
     "text": [
      "[[-816  673 -250]\n [1048 2486  480]] range\n[186 181  73] units\n[ 110 1570  110] center\n"
     ]
    }
   ],
   "source": [
    "voxelSize = 10 # mm\n",
    "voxelRange = np.array(\n",
    "  [[pointCloud[:, 0].min(), pointCloud[:, 1].min(), pointCloud[:, 2].min()],\\\n",
    "  [pointCloud[:, 0].max(), pointCloud[:, 1].max(), pointCloud[:, 2].max()]])\\\n",
    "  .astype(np.int16)\n",
    "\n",
    "print(voxelRange, \"range\")\n",
    "\n",
    "voxelUnits = (((voxelRange[1]-voxelRange[0]) - \\\n",
    "            (voxelRange[1]-voxelRange[0]) % voxelSize)/10).astype(np.int16)\n",
    "print(voxelUnits, \"units\")\n",
    "\n",
    "voxelCenter = (voxelRange[0] + (voxelRange[1]-voxelRange[0])/2 - (voxelRange[0] + (voxelRange[1]-voxelRange[0])/2)%10).astype(np.int16)\n",
    "print(voxelCenter, \"center\")"
   ]
  },
  {
   "cell_type": "code",
   "execution_count": 109,
   "metadata": {
    "tags": []
   },
   "outputs": [
    {
     "output_type": "stream",
     "name": "stdout",
     "text": [
      "Time taken: 2.47175\n"
     ]
    }
   ],
   "source": [
    "# Sampling\n",
    "voxelSize = 50 # mm\n",
    "iterations = 0\n",
    "occupyThreshold = 5\n",
    "occupancy = []\n",
    "\n",
    "startTime = time.perf_counter()\n",
    "\n",
    "while len(pointCloud>0):\n",
    "\n",
    "    sampledPoint = pointCloud[0]\n",
    "\n",
    "    samplingLimit = np.empty_like(sampledPoint)\n",
    "    for n in range(len(sampledPoint)):\n",
    "        samplingLimit[n]=(sampledPoint[n]//voxelSize)*voxelSize\n",
    "\n",
    "    mask = np.ones(pointCloud.shape[0], dtype=bool)\n",
    "\n",
    "    for n in range(len(sampledPoint)):\n",
    "        maskLower = pointCloud[:,n]>=samplingLimit[n]\n",
    "        maskUpper = pointCloud[:,n]<samplingLimit[n]+voxelSize\n",
    "        mask = np.logical_and(mask, np.logical_and(maskLower, maskUpper))\n",
    "    pointsInVoxel = pointCloud[mask]\n",
    "\n",
    "    if len(pointsInVoxel)>occupyThreshold:\n",
    "        voxelMidpoint = samplingLimit+voxelSize/2\n",
    "        occupancy.append(voxelMidpoint)\n",
    "\n",
    "    pointCloud = pointCloud[np.invert(mask)]\n",
    "\n",
    "    iterations+=1\n",
    "\n",
    "occupancy = np.array(occupancy, dtype=np.int16)\n",
    "print(\"Time taken: {:.5f}\".format(time.perf_counter()-startTime))"
   ]
  },
  {
   "cell_type": "code",
   "execution_count": 111,
   "metadata": {},
   "outputs": [
    {
     "output_type": "stream",
     "name": "stdout",
     "text": [
      "Iterations: 1706\n[[ 675 1575   25]\n [ 425  975  -75]\n [ 425  975 -125]\n ...\n [-425  975   25]\n [-425  925   25]\n [-375  825 -175]]\nVoxels: 480\n"
     ]
    }
   ],
   "source": [
    "print(\"Iterations:\", iterations)\n",
    "print(occupancy)\n",
    "print(\"Voxels:\", occupancy.shape[0])"
   ]
  },
  {
   "source": [
    "### View voxelized point cloud"
   ],
   "cell_type": "markdown",
   "metadata": {}
  },
  {
   "cell_type": "code",
   "execution_count": 112,
   "metadata": {},
   "outputs": [
    {
     "output_type": "display_data",
     "data": {
      "text/plain": "Canvas(toolbar=Toolbar(toolitems=[('Home', 'Reset original view', 'home', 'home'), ('Back', 'Back to previous …",
      "application/vnd.jupyter.widget-view+json": {
       "version_major": 2,
       "version_minor": 0,
       "model_id": "a75c9c751814417ba63388ce1b68e554"
      }
     },
     "metadata": {}
    }
   ],
   "source": [
    "fig = plt.figure(figsize=(7,7))\n",
    "ax = fig.add_subplot(111, projection = \"3d\")\n",
    "\n",
    "ax.scatter(occupancy[:,0], occupancy[:,1], occupancy[:,2])\n",
    "ax.set_xlabel(\"$x$\")\n",
    "ax.set_ylabel(\"$y$\")\n",
    "ax.set_zlabel(\"$z$\")\n",
    "\n",
    "# Camera axis begins at 0\n",
    "ax.set_ylim(0,)\n",
    "\n",
    "plt.show()"
   ]
  }
 ]
}