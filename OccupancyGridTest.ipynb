{
 "cells": [
  {
   "cell_type": "code",
   "execution_count": 1,
   "metadata": {},
   "outputs": [],
   "source": [
    "import numpy as np\n",
    "import matplotlib.pyplot as plt\n",
    "import matplotlib.animation as animation\n",
    "from rplidar import RPLidar\n",
    "\n",
    "%matplotlib ipympl"
   ]
  },
  {
   "cell_type": "code",
   "execution_count": 2,
   "metadata": {},
   "outputs": [],
   "source": [
    "cellSize = 100 # mm\n",
    "maxRange = 4000 # mm\n",
    "\n",
    "LiDAR2DPose = [-100, 200, np.pi/2]\n",
    "\n",
    "generateRandomData = False"
   ]
  },
  {
   "cell_type": "code",
   "execution_count": 3,
   "metadata": {},
   "outputs": [
    {
     "name": "stdout",
     "output_type": "stream",
     "text": [
      "141\n",
      "[[  15.         54.78125   604.5     ]\n",
      " [  15.         55.953125  611.25    ]\n",
      " [  15.         57.28125   618.25    ]\n",
      " [  15.         58.71875   626.      ]\n",
      " [  15.         60.03125   634.75    ]\n",
      " [  15.         62.640625  665.      ]\n",
      " [  15.         88.34375  1250.      ]\n",
      " [  15.         89.734375 1234.75    ]\n",
      " [  15.         92.5      1164.25    ]\n",
      " [  15.         93.8125   1139.75    ]]\n"
     ]
    }
   ],
   "source": [
    "if generateRandomData:\n",
    "    scanFrame = np.zeros((300, 3))\n",
    "\n",
    "    scanFrame[:, 0] = np.random.randint(0, 50, len(scanFrame))\n",
    "    scanFrame[:, 1] = np.random.uniform(0, 360, len(scanFrame))\n",
    "    scanFrame[:, 2] = np.random.uniform(3000, 3500, len(scanFrame))\n",
    "\n",
    "    qMask = scanFrame[:, 0] == 0\n",
    "    rMask = scanFrame[:, 2] < 50\n",
    "\n",
    "    mask = qMask | rMask\n",
    "\n",
    "    scanFrame = scanFrame[~mask]\n",
    "\n",
    "else:\n",
    "    LiDAR = RPLidar(\"COM3\")\n",
    "\n",
    "    frameScanner = LiDAR.iter_scans()\n",
    "\n",
    "    scanFrame = np.array(next(frameScanner))\n",
    "\n",
    "print(len(scanFrame))\n",
    "print(scanFrame[:10])"
   ]
  },
  {
   "cell_type": "code",
   "execution_count": 4,
   "metadata": {},
   "outputs": [
    {
     "name": "stdout",
     "output_type": "stream",
     "text": [
      "[[ 15.         1.875    602.25    ]\n",
      " [ 15.         3.25     594.75    ]\n",
      " [ 15.         4.703125 588.      ]\n",
      " [ 15.         7.328125 579.5     ]\n",
      " [ 15.         8.671875 571.5     ]\n",
      " [ 15.        10.203125 567.5     ]\n",
      " [ 15.        11.515625 563.75    ]\n",
      " [ 15.        12.828125 559.75    ]\n",
      " [ 15.        14.21875  556.25    ]\n",
      " [ 15.        15.453125 553.25    ]]\n"
     ]
    }
   ],
   "source": [
    "if not generateRandomData:\n",
    "    scanFrame = np.array(next(frameScanner))\n",
    "    print(scanFrame[:10])"
   ]
  },
  {
   "cell_type": "code",
   "execution_count": 5,
   "metadata": {},
   "outputs": [],
   "source": [
    "def convertToCartesian(scanFrame):\n",
    "    xScanFrame = scanFrame[:, 2] * np.cos(scanFrame[:, 1] * np.pi / 180)\n",
    "    yScanFrame = scanFrame[:, 2] * np.sin(scanFrame[:, 1] * np.pi / 180)\n",
    "\n",
    "    return xScanFrame, yScanFrame\n",
    "\n",
    "xScanFrame, yScanFrame = convertToCartesian(scanFrame)"
   ]
  },
  {
   "cell_type": "code",
   "execution_count": 6,
   "metadata": {},
   "outputs": [],
   "source": [
    "def plotInteractive(xAxis, yAxis, color = None):\n",
    "    plt.figure(figsize=(7,7))\n",
    "    plt.scatter(xAxis, yAxis, c = color)\n",
    "    plt.xlim(LiDAR2DPose[0] - maxRange, LiDAR2DPose[0] + maxRange)\n",
    "    plt.ylim(LiDAR2DPose[1] - maxRange, LiDAR2DPose[1] + maxRange)\n",
    "    plt.show()"
   ]
  },
  {
   "cell_type": "code",
   "execution_count": 7,
   "metadata": {},
   "outputs": [
    {
     "data": {
      "application/vnd.jupyter.widget-view+json": {
       "model_id": "09923a5061eb4f0f834fd3a39162d847",
       "version_major": 2,
       "version_minor": 0
      },
      "text/plain": [
       "Canvas(toolbar=Toolbar(toolitems=[('Home', 'Reset original view', 'home', 'home'), ('Back', 'Back to previous …"
      ]
     },
     "metadata": {},
     "output_type": "display_data"
    }
   ],
   "source": [
    "plotInteractive(xScanFrame, yScanFrame)"
   ]
  },
  {
   "cell_type": "code",
   "execution_count": 8,
   "metadata": {},
   "outputs": [
    {
     "name": "stdout",
     "output_type": "stream",
     "text": [
      "0\n",
      "[[ 15.        91.875    602.25    ]\n",
      " [ 15.        93.25     594.75    ]\n",
      " [ 15.        94.703125 588.      ]\n",
      " [ 15.        97.328125 579.5     ]\n",
      " [ 15.        98.671875 571.5     ]\n",
      " [ 15.       100.203125 567.5     ]\n",
      " [ 15.       101.515625 563.75    ]\n",
      " [ 15.       102.828125 559.75    ]\n",
      " [ 15.       104.21875  556.25    ]\n",
      " [ 15.       105.453125 553.25    ]]\n"
     ]
    }
   ],
   "source": [
    "def offsetHeading(scanFrame, LiDAR2DPose):\n",
    "    scanFrame[:,1] = scanFrame[:,1] + LiDAR2DPose[2]*180/np.pi\n",
    "\n",
    "    scanFrame[:, 1][scanFrame[:, 1]>360] -= 360\n",
    "\n",
    "    return scanFrame\n",
    "\n",
    "scanFrame = offsetHeading(scanFrame, LiDAR2DPose)\n",
    "print(len(scanFrame[scanFrame[:,1]>360]))\n",
    "print(scanFrame[:10])"
   ]
  },
  {
   "cell_type": "code",
   "execution_count": 9,
   "metadata": {},
   "outputs": [
    {
     "name": "stdout",
     "output_type": "stream",
     "text": [
      "0\n",
      "[[ 15.           1.60352125 602.25      ]\n",
      " [ 15.           1.62751953 594.75      ]\n",
      " [ 15.           1.65288134 588.        ]\n",
      " [ 15.           1.69869624 579.5       ]\n",
      " [ 15.           1.7221491  571.5       ]\n",
      " [ 15.           1.74887445 567.5       ]\n",
      " [ 15.           1.7717819  563.75      ]\n",
      " [ 15.           1.79468934 559.75      ]\n",
      " [ 15.           1.81896033 556.25      ]\n",
      " [ 15.           1.84050424 553.25      ]]\n"
     ]
    }
   ],
   "source": [
    "def convertHeadingToRad(scanFrame):\n",
    "    scanFrame[:, 1] = scanFrame[:, 1]*np.pi/180\n",
    "\n",
    "    return scanFrame\n",
    "\n",
    "scanFrame = convertHeadingToRad(scanFrame)\n",
    "print(len(scanFrame[scanFrame[:,1]>2*np.pi]))\n",
    "print(scanFrame[:10])"
   ]
  },
  {
   "cell_type": "code",
   "execution_count": 10,
   "metadata": {},
   "outputs": [
    {
     "name": "stdout",
     "output_type": "stream",
     "text": [
      "171\n"
     ]
    }
   ],
   "source": [
    "print(len(scanFrame))"
   ]
  },
  {
   "cell_type": "code",
   "execution_count": 11,
   "metadata": {},
   "outputs": [],
   "source": [
    "def preProcessScanFrame(frameScanner, LiDAR2DPose):\n",
    "    scanFrame = np.array(next(frameScanner))\n",
    "    scanFrame = offsetHeading(scanFrame, LiDAR2DPose)\n",
    "    scanFrame = convertHeadingToRad(scanFrame)\n",
    "\n",
    "    return scanFrame"
   ]
  },
  {
   "cell_type": "code",
   "execution_count": 12,
   "metadata": {},
   "outputs": [
    {
     "name": "stdout",
     "output_type": "stream",
     "text": [
      "808\n",
      "224\n",
      "[[-1.00e+02  2.00e+02  3.00e-01  1.85e+02]\n",
      " [-2.00e+02  2.00e+02  3.00e-01  4.40e+01]\n",
      " [-2.00e+02  3.00e+02  3.00e-01  1.90e+01]\n",
      " [-2.00e+02  4.00e+02  3.00e-01  1.20e+01]\n",
      " [-2.00e+02  5.00e+02  3.00e-01  8.00e+00]\n",
      " [-2.00e+02  6.00e+02  3.00e-01  6.00e+00]\n",
      " [-2.00e+02  7.00e+02  6.20e-01  4.00e+00]\n",
      " [-2.00e+02  8.00e+02  7.00e-01  0.00e+00]\n",
      " [-3.00e+02  7.00e+02  7.00e-01  8.00e+00]\n",
      " [-3.00e+02  6.00e+02  3.00e-01  8.00e+00]]\n"
     ]
    }
   ],
   "source": [
    "def generateBeliefMap(scanFrame, LiDAR2DPose):\n",
    "    beliefMapUpdate = np.array([0, 0, 0, 0])\n",
    "\n",
    "    for measure in scanFrame:\n",
    "        measuredRange, direction = measure[2], measure[1]\n",
    "        for rangeStep in range(0, int(measuredRange+cellSize), cellSize):\n",
    "            belief = 0.3\n",
    "\n",
    "            if rangeStep > measuredRange: \n",
    "                belief = 0.7\n",
    "                rangeStep = measuredRange\n",
    "\n",
    "            xCell = ((LiDAR2DPose[0] + rangeStep*np.cos(direction))//cellSize) * cellSize\n",
    "            yCell = ((LiDAR2DPose[1] + rangeStep*np.sin(direction))//cellSize) * cellSize\n",
    "\n",
    "            if beliefMapUpdate.size > 6:\n",
    "                xMask = beliefMapUpdate[:, 0] == xCell\n",
    "                yMask = beliefMapUpdate[:, 1] == yCell\n",
    "\n",
    "                mask = xMask&yMask\n",
    "                index = np.argmax(mask)\n",
    "            \n",
    "                if any(mask):\n",
    "                    # Updating belief\n",
    "                    beliefMapUpdate[index, 3] = beliefMapUpdate[index, 3] + 1\n",
    "                    count = beliefMapUpdate[index, 3]\n",
    "                    beliefMapUpdate[index, 2] = beliefMapUpdate[index, 2] * count / (count + 1) + \\\n",
    "                                                    belief / (count + 1)\n",
    "                \n",
    "                else:\n",
    "                    beliefMapUpdate = np.vstack([beliefMapUpdate, np.array([xCell, yCell, belief, 0])])\n",
    "\n",
    "            else:\n",
    "                beliefMapUpdate = np.vstack([beliefMapUpdate, np.array([xCell, yCell, belief, 0])])\n",
    "\n",
    "    beliefMapUpdate = beliefMapUpdate[1:]\n",
    "\n",
    "    return beliefMapUpdate\n",
    "\n",
    "beliefMapUpdate = generateBeliefMap(scanFrame, LiDAR2DPose)\n",
    "\n",
    "print(len(beliefMapUpdate))\n",
    "print(len(beliefMapUpdate[beliefMapUpdate[:, 3]==0]))\n",
    "print(beliefMapUpdate[:10])"
   ]
  },
  {
   "cell_type": "code",
   "execution_count": 13,
   "metadata": {},
   "outputs": [
    {
     "name": "stdout",
     "output_type": "stream",
     "text": [
      "Position: [-100, 200]\n",
      "Heading: 90.0 degrees\n"
     ]
    }
   ],
   "source": [
    "print(\"Position:\", LiDAR2DPose[0:2])\n",
    "print(\"Heading:\", LiDAR2DPose[2]*180/np.pi, \"degrees\")"
   ]
  },
  {
   "cell_type": "code",
   "execution_count": 14,
   "metadata": {},
   "outputs": [
    {
     "data": {
      "application/vnd.jupyter.widget-view+json": {
       "model_id": "5435579d1e1b44959154d9af0cf44afc",
       "version_major": 2,
       "version_minor": 0
      },
      "text/plain": [
       "Canvas(toolbar=Toolbar(toolitems=[('Home', 'Reset original view', 'home', 'home'), ('Back', 'Back to previous …"
      ]
     },
     "metadata": {},
     "output_type": "display_data"
    }
   ],
   "source": [
    "plotInteractive(beliefMapUpdate[:, 0], beliefMapUpdate[:, 1], \\\n",
    "                                        color = beliefMapUpdate[:, 2])"
   ]
  },
  {
   "cell_type": "code",
   "execution_count": 15,
   "metadata": {},
   "outputs": [
    {
     "data": {
      "application/vnd.jupyter.widget-view+json": {
       "model_id": "0c59b75134b343a0aaab72503a686c53",
       "version_major": 2,
       "version_minor": 0
      },
      "text/plain": [
       "Canvas(toolbar=Toolbar(toolitems=[('Home', 'Reset original view', 'home', 'home'), ('Back', 'Back to previous …"
      ]
     },
     "metadata": {},
     "output_type": "display_data"
    }
   ],
   "source": [
    "plotInteractive(xScanFrame, yScanFrame)"
   ]
  },
  {
   "cell_type": "code",
   "execution_count": 16,
   "metadata": {},
   "outputs": [],
   "source": [
    "class AnimatedScatter(object):\n",
    "    \"\"\"An animated scatter plot using matplotlib.animations.FuncAnimation.\"\"\"\n",
    "    def __init__(self, numpoints=50):\n",
    "        self.numpoints = numpoints\n",
    "        self.stream = self.data_stream()\n",
    "\n",
    "        # Setup the figure and axes...\n",
    "        self.fig, self.ax = plt.subplots()\n",
    "        # Then setup FuncAnimation.\n",
    "        self.ani = animation.FuncAnimation(self.fig, self.update, interval=5, \n",
    "                                          init_func=self.setup_plot, blit=True)\n",
    "\n",
    "    def setup_plot(self):\n",
    "        \"\"\"Initial drawing of the scatter plot.\"\"\"\n",
    "        x, y, s, c = next(self.stream).T\n",
    "        self.scat = self.ax.scatter(x, y, c=c, s=s, vmin=0, vmax=1,\n",
    "                                    cmap=\"jet\", edgecolor=\"k\")\n",
    "        self.ax.axis([-10, 10, -10, 10])\n",
    "        # For FuncAnimation's sake, we need to return the artist we'll be using\n",
    "        # Note that it expects a sequence of artists, thus the trailing comma.\n",
    "        return self.scat,\n",
    "\n",
    "    def data_stream(self):\n",
    "        \"\"\"Generate a random walk (brownian motion). Data is scaled to produce\n",
    "        a soft \"flickering\" effect.\"\"\"\n",
    "        xy = (np.random.random((self.numpoints, 2))-0.5)*10\n",
    "        s, c = np.random.random((self.numpoints, 2)).T\n",
    "        while True:\n",
    "            xy += 0.03 * (np.random.random((self.numpoints, 2)) - 0.5)\n",
    "            s += 0.05 * (np.random.random(self.numpoints) - 0.5)\n",
    "            c += 0.02 * (np.random.random(self.numpoints) - 0.5)\n",
    "            yield np.c_[xy[:,0], xy[:,1], s, c]\n",
    "\n",
    "\n",
    "    def update(self, i):\n",
    "        \"\"\"Update the scatter plot.\"\"\"\n",
    "        data = next(self.stream)\n",
    "\n",
    "        # Set x and y data...\n",
    "        self.scat.set_offsets(data[:, :2])\n",
    "        # Set sizes...\n",
    "        self.scat.set_sizes(300 * abs(data[:, 2])**1.5 + 100)\n",
    "        # Set colors..\n",
    "        self.scat.set_array(data[:, 3])\n",
    "\n",
    "        # We need to return the updated artist for FuncAnimation to draw..\n",
    "        # Note that it expects a sequence of artists, thus the trailing comma.\n",
    "        return self.scat,\n",
    "\n",
    "\n",
    "if __name__ == '__main__':\n",
    "    #a = AnimatedScatter()\n",
    "    #plt.show()\n",
    "    pass\n"
   ]
  },
  {
   "cell_type": "code",
   "execution_count": 17,
   "metadata": {},
   "outputs": [
    {
     "name": "stderr",
     "output_type": "stream",
     "text": [
      "Too many bytes in the input buffer: 22525/3000. Cleaning buffer...\n"
     ]
    },
    {
     "data": {
      "application/vnd.jupyter.widget-view+json": {
       "model_id": "d0467339c2c24228b3d4cfe143c9bb11",
       "version_major": 2,
       "version_minor": 0
      },
      "text/plain": [
       "Canvas(toolbar=Toolbar(toolitems=[('Home', 'Reset original view', 'home', 'home'), ('Back', 'Back to previous …"
      ]
     },
     "metadata": {},
     "output_type": "display_data"
    }
   ],
   "source": [
    "class AnimatedScatter(object):\n",
    "    \"\"\"An animated scatter plot using matplotlib.animations.FuncAnimation.\"\"\"\n",
    "    def __init__(self, frameScanner):\n",
    "        self.frameScanner = frameScanner\n",
    "\n",
    "        # Setup the figure and axes...\n",
    "        self.fig, self.ax = plt.subplots()\n",
    "        # Then setup FuncAnimation.\n",
    "        self.ani = animation.FuncAnimation(self.fig, self.update, interval=5, \n",
    "                                          init_func=self.setup_plot, blit=True)\n",
    "                                          \n",
    "\n",
    "    def setup_plot(self):\n",
    "        \"\"\"Initial drawing of the scatter plot.\"\"\"\n",
    "        self.scat = self.ax.scatter(LiDAR2DPose[0], LiDAR2DPose[1], c=0, vmin=0, vmax=1)\n",
    "        self.ax.axis([LiDAR2DPose[0] - maxRange, LiDAR2DPose[0] + maxRange, \\\n",
    "                      LiDAR2DPose[1] - maxRange, LiDAR2DPose[1] + maxRange])\n",
    "        # For FuncAnimation's sake, we need to return the artist we'll be using\n",
    "        # Note that it expects a sequence of artists, thus the trailing comma.\n",
    "        return self.scat,\n",
    "\n",
    "\n",
    "    def update(self, i):\n",
    "        \"\"\"Update the scatter plot.\"\"\"\n",
    "        scanFrame = np.array(next(self.frameScanner))\n",
    "        scanFrame = offsetHeading(scanFrame, LiDAR2DPose)\n",
    "        scanFrame = convertHeadingToRad(scanFrame)\n",
    "        beliefMapUpdate = generateBeliefMap(scanFrame, LiDAR2DPose)\n",
    "\n",
    "        # Set x and y data...\n",
    "        self.scat.set_offsets(beliefMapUpdate[:, :2])\n",
    "        # Set colors..\n",
    "        self.scat.set_array(beliefMapUpdate[:, 2])\n",
    "\n",
    "        # We need to return the updated artist for FuncAnimation to draw..\n",
    "        # Note that it expects a sequence of artists, thus the trailing comma.\n",
    "        return self.scat,\n",
    "\n",
    "\n",
    "if __name__ == '__main__' and not generateRandomData:\n",
    "    frameScanner = LiDAR.iter_scans() \n",
    "\n",
    "    scanFrame = np.array(next(frameScanner))\n",
    "\n",
    "    a = AnimatedScatter(frameScanner)\n",
    "    plt.show()\n",
    "    pass\n"
   ]
  },
  {
   "cell_type": "code",
   "execution_count": null,
   "metadata": {},
   "outputs": [],
   "source": []
  }
 ],
 "metadata": {
  "interpreter": {
   "hash": "1b74fdc6a0069e63d7c35520416cfe241b2e1d296eedc56ee9c4fe2929446925"
  },
  "kernelspec": {
   "display_name": "Python 3.6.8 ('bot': venv)",
   "language": "python",
   "name": "python3"
  },
  "language_info": {
   "codemirror_mode": {
    "name": "ipython",
    "version": 3
   },
   "file_extension": ".py",
   "mimetype": "text/x-python",
   "name": "python",
   "nbconvert_exporter": "python",
   "pygments_lexer": "ipython3",
   "version": "3.6.8"
  },
  "orig_nbformat": 4
 },
 "nbformat": 4,
 "nbformat_minor": 2
}
