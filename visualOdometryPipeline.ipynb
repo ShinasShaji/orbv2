{
 "metadata": {
  "language_info": {
   "codemirror_mode": {
    "name": "ipython",
    "version": 3
   },
   "file_extension": ".py",
   "mimetype": "text/x-python",
   "name": "python",
   "nbconvert_exporter": "python",
   "pygments_lexer": "ipython3",
   "version": "3.8.8"
  },
  "orig_nbformat": 2,
  "kernelspec": {
   "name": "python388jvsc74a57bd01ca5eb8a425185c4a9b7e413fe88a69d4f417f1bd440f1366b1dc8976c436489",
   "display_name": "Python 3.8.8 64-bit ('envbot': conda)"
  }
 },
 "nbformat": 4,
 "nbformat_minor": 2,
 "cells": [
  {
   "source": [
    "# Visual odometry pipeline"
   ],
   "cell_type": "markdown",
   "metadata": {}
  },
  {
   "source": [
    "### Import requirements"
   ],
   "cell_type": "markdown",
   "metadata": {}
  },
  {
   "cell_type": "code",
   "execution_count": 257,
   "metadata": {},
   "outputs": [],
   "source": [
    "import cv2\n",
    "import glob\n",
    "%matplotlib inline\n",
    "import matplotlib.pyplot as plt\n",
    "import numpy as np\n",
    "\n",
    "%matplotlib ipympl\n",
    "\n",
    "from ImageProcessor import ImageProcessor\n"
   ]
  },
  {
   "source": [
    "### Load images and depth map"
   ],
   "cell_type": "markdown",
   "metadata": {}
  },
  {
   "cell_type": "code",
   "execution_count": 258,
   "metadata": {},
   "outputs": [
    {
     "output_type": "stream",
     "name": "stdout",
     "text": [
      "Selections: 0-1\n"
     ]
    }
   ],
   "source": [
    "folderChoice = 0\n",
    "path = \"\".join([\"testImages/visualOdometryTestImages/\", str(folderChoice)])\n",
    "\n",
    "# Load set of top images\n",
    "imageGlobT = sorted(glob.glob(\"\".join([path, \"/top_*\", \".png\"])))\n",
    "\n",
    "# Load set of bottom images\n",
    "imageGlobB = sorted(glob.glob(\"\".join([path, \"/bottom_*\", \".png\"])))\n",
    "\n",
    "# Load depth map\n",
    "imageGlobD = sorted(glob.glob(\"\".join([path, \"/topDepth_*\", \".png\"])))\n",
    "\n",
    "if not (len(imageGlobT)==len(imageGlobB) and \\\n",
    "                len(imageGlobB)==len(imageGlobD)):\n",
    "    print(\"Images could not be matched\")\n",
    "\n",
    "print (\"Selections: 0-{}\".format(len(imageGlobT)-1))"
   ]
  },
  {
   "cell_type": "code",
   "execution_count": 259,
   "metadata": {},
   "outputs": [],
   "source": [
    "viewSelection = 0\n",
    "\n",
    "# Top images\n",
    "imageT0 = cv2.imread(imageGlobT[viewSelection])\n",
    "imageT1 = cv2.imread(imageGlobT[viewSelection+1])\n",
    "\n",
    "# Bottom images\n",
    "imageB0 = cv2.imread(imageGlobB[viewSelection])\n",
    "imageB1 = cv2.imread(imageGlobB[viewSelection+1])\n",
    "\n",
    "# Depth maps; -1 flag to load them as is\n",
    "depth0 = cv2.imread(imageGlobD[viewSelection], -1)\n",
    "depth1 = cv2.imread(imageGlobD[viewSelection+1], -1)"
   ]
  },
  {
   "source": [
    "### View top camera images"
   ],
   "cell_type": "markdown",
   "metadata": {}
  },
  {
   "cell_type": "code",
   "execution_count": 260,
   "metadata": {},
   "outputs": [
    {
     "output_type": "display_data",
     "data": {
      "text/plain": "Canvas(toolbar=Toolbar(toolitems=[('Home', 'Reset original view', 'home', 'home'), ('Back', 'Back to previous …",
      "application/vnd.jupyter.widget-view+json": {
       "version_major": 2,
       "version_minor": 0,
       "model_id": "2d40142652134ec3899382e0573edfa0"
      }
     },
     "metadata": {}
    },
    {
     "output_type": "execute_result",
     "data": {
      "text/plain": [
       "<matplotlib.image.AxesImage at 0x293ab690a00>"
      ]
     },
     "metadata": {},
     "execution_count": 260
    }
   ],
   "source": [
    "plt.figure()\n",
    "plt.suptitle(\"Top images\")\n",
    "plt.imshow(cv2.cvtColor(np.hstack([imageT0, imageT1]), cv2.COLOR_BGR2RGB))"
   ]
  },
  {
   "source": [
    "### View bottom camera images"
   ],
   "cell_type": "markdown",
   "metadata": {}
  },
  {
   "cell_type": "code",
   "execution_count": 261,
   "metadata": {},
   "outputs": [
    {
     "output_type": "display_data",
     "data": {
      "text/plain": "Canvas(toolbar=Toolbar(toolitems=[('Home', 'Reset original view', 'home', 'home'), ('Back', 'Back to previous …",
      "application/vnd.jupyter.widget-view+json": {
       "version_major": 2,
       "version_minor": 0,
       "model_id": "c47c25232cf74af3a78214d3ce044f6c"
      }
     },
     "metadata": {}
    },
    {
     "output_type": "execute_result",
     "data": {
      "text/plain": [
       "<matplotlib.image.AxesImage at 0x293ab6e3d90>"
      ]
     },
     "metadata": {},
     "execution_count": 261
    }
   ],
   "source": [
    "plt.figure()\n",
    "plt.suptitle(\"Bottom images\")\n",
    "plt.imshow(cv2.cvtColor(np.hstack([imageB0, imageB1]), cv2.COLOR_BGR2RGB))"
   ]
  },
  {
   "source": [
    "### View depth images\n",
    "Depth images correspond to top camera"
   ],
   "cell_type": "markdown",
   "metadata": {}
  },
  {
   "cell_type": "code",
   "execution_count": 262,
   "metadata": {},
   "outputs": [
    {
     "output_type": "display_data",
     "data": {
      "text/plain": "Canvas(toolbar=Toolbar(toolitems=[('Home', 'Reset original view', 'home', 'home'), ('Back', 'Back to previous …",
      "application/vnd.jupyter.widget-view+json": {
       "version_major": 2,
       "version_minor": 0,
       "model_id": "0c57593de068494baf23a87abd59535f"
      }
     },
     "metadata": {}
    },
    {
     "output_type": "execute_result",
     "data": {
      "text/plain": [
       "<matplotlib.image.AxesImage at 0x293ab73ffd0>"
      ]
     },
     "metadata": {},
     "execution_count": 262
    }
   ],
   "source": [
    "plt.figure()\n",
    "plt.suptitle(\"Depth maps\")\n",
    "plt.imshow(np.hstack([depth0, depth1]))"
   ]
  },
  {
   "source": [
    "### Feature Extraction\n"
   ],
   "cell_type": "markdown",
   "metadata": {}
  },
  {
   "cell_type": "code",
   "execution_count": 263,
   "metadata": {},
   "outputs": [],
   "source": [
    "orb = cv2.ORB_create()\n",
    "#def extract_features(img):\n",
    "def extract_features(img1,img2):\n",
    "    keyp1 = orb.detect(img1,None)\n",
    "    keyp1,des1 = orb.compute(img1, keyp1)\n",
    "    keyp2 = orb.detect(img2,None)\n",
    "    keyp2,des2 = orb.compute(img2, keyp2)\n",
    "    \n",
    "    img1 = cv2.drawKeypoints(img1, keyp1, None, color=(0,255,0),flags=0)\n",
    "    img2 = cv2.drawKeypoints(img2,keyp2,None,color=(0,255,0),flags=0) \n",
    "    plt.figure()\n",
    "    # plt.imshow(img2), \n",
    "    plt.imshow(cv2.cvtColor(np.hstack([img1, img2]), cv2.COLOR_BGR2RGB))\n",
    "    plt.show()\n",
    "    return (keyp1,des1),(keyp2,des2)"
   ]
  },
  {
   "cell_type": "code",
   "execution_count": 264,
   "metadata": {},
   "outputs": [
    {
     "output_type": "display_data",
     "data": {
      "text/plain": "Canvas(toolbar=Toolbar(toolitems=[('Home', 'Reset original view', 'home', 'home'), ('Back', 'Back to previous …",
      "application/vnd.jupyter.widget-view+json": {
       "version_major": 2,
       "version_minor": 0,
       "model_id": "2d4764f78ec7477296fc26588394216d"
      }
     },
     "metadata": {}
    }
   ],
   "source": [
    "orb1,orb2=extract_features(imageT0,imageT1)\n"
   ]
  },
  {
   "source": [
    "Feature matching\n"
   ],
   "cell_type": "markdown",
   "metadata": {}
  },
  {
   "cell_type": "code",
   "execution_count": 265,
   "metadata": {},
   "outputs": [
    {
     "output_type": "display_data",
     "data": {
      "text/plain": "Canvas(toolbar=Toolbar(toolitems=[('Home', 'Reset original view', 'home', 'home'), ('Back', 'Back to previous …",
      "application/vnd.jupyter.widget-view+json": {
       "version_major": 2,
       "version_minor": 0,
       "model_id": "c2d1ef83d8984df4926b2ddbfd1ed120"
      }
     },
     "metadata": {}
    },
    {
     "output_type": "execute_result",
     "data": {
      "text/plain": [
       "(<matplotlib.image.AxesImage at 0x293ab52f580>, None)"
      ]
     },
     "metadata": {},
     "execution_count": 265
    }
   ],
   "source": [
    "keyp1 = orb.detect(imageT0,None)\n",
    "keyp1,des1 = orb.compute(imageT0, keyp1)\n",
    "keyp2 = orb.detect(imageT1,None)\n",
    "keyp2,des2 = orb.compute(imageT1, keyp2)\n",
    "bf = cv2.BFMatcher(cv2.NORM_HAMMING, crossCheck=True)\n",
    "matches = bf.match(des1,des2)\n",
    "matches = sorted(matches, key = lambda x:x.distance)\n",
    "img3 = cv2.drawMatches(imageT0,keyp1,imageT1,keyp2,matches[:10],None,flags=cv2.DrawMatchesFlags_NOT_DRAW_SINGLE_POINTS)\n",
    "plt.figure()\n",
    "plt.imshow(img3),plt.show()\n"
   ]
  },
  {
   "source": [
    "Number of Matched features\n"
   ],
   "cell_type": "markdown",
   "metadata": {}
  },
  {
   "cell_type": "code",
   "execution_count": 266,
   "metadata": {},
   "outputs": [
    {
     "output_type": "stream",
     "name": "stdout",
     "text": [
      "Number of features matched in frames {0} and {1}: {2} 250\n"
     ]
    }
   ],
   "source": [
    "print(\"Number of features matched in frames {0} and {1}: {2}\",len(matches))"
   ]
  },
  {
   "source": [
    "Trajectory Estimation"
   ],
   "cell_type": "markdown",
   "metadata": {}
  },
  {
   "cell_type": "code",
   "execution_count": 267,
   "metadata": {},
   "outputs": [],
   "source": [
    "def estimate_motion():\n",
    "    imageProcessor=ImageProcessor()\n",
    "    imageProcessor.loadMonoCalibration()\n",
    "    k=imageProcessor.cameraMatrixL\n",
    "    \n",
    "    rmat=np.eye(3)\n",
    "    tvec=np.zeros((3,1))\n",
    "    image1_points = []\n",
    "    image2_points = []\n",
    "\n",
    "    for m in matches:\n",
    "        train_idx = m.trainIdx\n",
    "        query_idx = m.queryIdx\n",
    "\n",
    "        p1x,p1y = keyp1[query_idx].pt \n",
    "        image1_points.append([p1x,p1y])\n",
    "\n",
    "        p2x,p2y = keyp2[train_idx].pt \n",
    "        image2_points.append([p2x,p2y])\n",
    "    E, mask = cv2.findEssentialMat(np.array(image1_points), np.array(image2_points), k) \n",
    "    retval,rmat,tvec,mask=cv2.recoverPose(E,np.array(image1_points),np.array(image2_points),k)\n",
    "    return rmat,tvec,image1_points,image2_points      \n",
    "\n"
   ]
  },
  {
   "cell_type": "code",
   "execution_count": 268,
   "metadata": {},
   "outputs": [
    {
     "output_type": "stream",
     "name": "stdout",
     "text": [
      "Reading from data/monoCalibration.json\nLoaded mono calibration\nEstimated rotation:\n [[ 0.99445956 -0.03551991  0.09893699]\n [ 0.04459262  0.99484699 -0.09105477]\n [-0.09519291  0.09496215  0.99091902]]\nEstimated translation:\n [[-0.65096869]\n [ 0.63698372]\n [ 0.41290617]]\n"
     ]
    }
   ],
   "source": [
    "i = 30\n",
    "match = matches[i]\n",
    "rmat, tvec, image1_points, image2_points = estimate_motion()\n",
    "\n",
    "print(\"Estimated rotation:\\n {0}\".format(rmat))\n",
    "print(\"Estimated translation:\\n {0}\".format(tvec))"
   ]
  },
  {
   "source": [
    "Camera Movement Visualization"
   ],
   "cell_type": "markdown",
   "metadata": {}
  },
  {
   "cell_type": "code",
   "execution_count": 269,
   "metadata": {},
   "outputs": [],
   "source": [
    "def visualize_camera_movement(image1, image1_points, image2, image2_points, is_show_img_after_move=False):\n",
    "    \n",
    "    \n",
    "    for i in range(0, len(image1_points)):\n",
    "        # Coordinates of a point on t frame\n",
    "        p1 = (int(image1_points[i][0]), int(image1_points[i][1]))\n",
    "        # Coordinates of the same point on t+1 frame\n",
    "        p2 = (int(image2_points[i][0]), int(image2_points[i][1]))\n",
    "\n",
    "        cv2.circle(image1, p1, 5, (0, 255, 0), 1)\n",
    "        cv2.arrowedLine(image1, p1, p2, (0, 255, 0), 1)\n",
    "        cv2.circle(image1, p2, 5, (255, 0, 0), 1)\n",
    "\n",
    "        if is_show_img_after_move:\n",
    "            cv2.circle(image2, p2, 5, (255, 0, 0), 1)\n",
    "    \n",
    "    if is_show_img_after_move: \n",
    "        return imageT1\n",
    "    else:\n",
    "        return imageT0"
   ]
  },
  {
   "cell_type": "code",
   "execution_count": 270,
   "metadata": {},
   "outputs": [
    {
     "output_type": "display_data",
     "data": {
      "text/plain": "Canvas(toolbar=Toolbar(toolitems=[('Home', 'Reset original view', 'home', 'home'), ('Back', 'Back to previous …",
      "application/vnd.jupyter.widget-view+json": {
       "version_major": 2,
       "version_minor": 0,
       "model_id": "8afb735e0f584509806c2a238d850d18"
      }
     },
     "metadata": {}
    },
    {
     "output_type": "execute_result",
     "data": {
      "text/plain": [
       "<matplotlib.image.AxesImage at 0x293ab4a0ca0>"
      ]
     },
     "metadata": {},
     "execution_count": 270
    }
   ],
   "source": [
    "image_move = visualize_camera_movement(imageT0, image1_points, imageT1, image2_points)\n",
    "plt.figure(figsize=(16,12),dpi=100)\n",
    "plt.imshow(image_move)"
   ]
  },
  {
   "cell_type": "code",
   "execution_count": 271,
   "metadata": {},
   "outputs": [
    {
     "output_type": "display_data",
     "data": {
      "text/plain": "Canvas(toolbar=Toolbar(toolitems=[('Home', 'Reset original view', 'home', 'home'), ('Back', 'Back to previous …",
      "application/vnd.jupyter.widget-view+json": {
       "version_major": 2,
       "version_minor": 0,
       "model_id": "acf6522eec2e44e9a118116c88ae76e3"
      }
     },
     "metadata": {}
    },
    {
     "output_type": "execute_result",
     "data": {
      "text/plain": [
       "<matplotlib.image.AxesImage at 0x293ab5e9d30>"
      ]
     },
     "metadata": {},
     "execution_count": 271
    }
   ],
   "source": [
    "image_move = visualize_camera_movement(imageT0, image1_points, imageT1, image2_points, is_show_img_after_move=True)\n",
    "plt.figure(figsize=(16, 12), dpi=100)\n",
    "plt.imshow(image_move)"
   ]
  },
  {
   "source": [
    "Camera Trajectory Estimation\n"
   ],
   "cell_type": "markdown",
   "metadata": {}
  },
  {
   "cell_type": "code",
   "execution_count": 272,
   "metadata": {},
   "outputs": [],
   "source": [
    "def estimate_trajectory():\n",
    "    imageProcessor=ImageProcessor()\n",
    "    imageProcessor.loadMonoCalibration()\n",
    "    k=imageProcessor.cameraMatrixL\n",
    "\n",
    "\n",
    "    trajectory = [np.array([0, 0, 0])]\n",
    "    R = np.diag([1,1,1])\n",
    "    T = np.zeros([3, 1])\n",
    "    RT = np.hstack([R, T])\n",
    "    RT = np.vstack([RT, np.zeros([1, 4])])\n",
    "    RT[-1, -1] = 1\n",
    "    for i in range(len(matches)):     \n",
    "        match = matches[i]\n",
    "\n",
    "        rmat, tvec, image1_points, image2_points = estimate_motion()\n",
    "        rt_mtx = np.hstack([rmat, tvec])\n",
    "        rt_mtx = np.vstack([rt_mtx, np.zeros([1, 4])])\n",
    "        rt_mtx[-1, -1] = 1\n",
    "    trajectory = np.array(trajectory).T   \n",
    "    return trajectory "
   ]
  },
  {
   "cell_type": "code",
   "execution_count": 273,
   "metadata": {},
   "outputs": [
    {
     "output_type": "stream",
     "name": "stdout",
     "text": [
      "Reading from data/monoCalibration.json\n",
      "Loaded mono calibration\n",
      "Reading from data/monoCalibration.json\n",
      "Loaded mono calibration\n",
      "Reading from data/monoCalibration.json\n",
      "Loaded mono calibration\n",
      "Reading from data/monoCalibration.json\n",
      "Loaded mono calibration\n",
      "Reading from data/monoCalibration.json\n",
      "Loaded mono calibration\n",
      "Reading from data/monoCalibration.json\n",
      "Loaded mono calibration\n",
      "Reading from data/monoCalibration.json\n",
      "Loaded mono calibration\n",
      "Reading from data/monoCalibration.json\n",
      "Loaded mono calibration\n",
      "Reading from data/monoCalibration.json\n",
      "Loaded mono calibration\n",
      "Reading from data/monoCalibration.json\n",
      "Loaded mono calibration\n",
      "Reading from data/monoCalibration.json\n",
      "Loaded mono calibration\n",
      "Reading from data/monoCalibration.json\n",
      "Loaded mono calibration\n",
      "Reading from data/monoCalibration.json\n",
      "Loaded mono calibration\n",
      "Reading from data/monoCalibration.json\n",
      "Loaded mono calibration\n",
      "Reading from data/monoCalibration.json\n",
      "Loaded mono calibration\n",
      "Reading from data/monoCalibration.json\n",
      "Loaded mono calibration\n",
      "Reading from data/monoCalibration.json\n",
      "Loaded mono calibration\n",
      "Reading from data/monoCalibration.json\n",
      "Loaded mono calibration\n",
      "Reading from data/monoCalibration.json\n",
      "Loaded mono calibration\n",
      "Reading from data/monoCalibration.json\n",
      "Loaded mono calibration\n",
      "Reading from data/monoCalibration.json\n",
      "Loaded mono calibration\n",
      "Reading from data/monoCalibration.json\n",
      "Loaded mono calibration\n",
      "Reading from data/monoCalibration.json\n",
      "Loaded mono calibration\n",
      "Reading from data/monoCalibration.json\n",
      "Loaded mono calibration\n",
      "Reading from data/monoCalibration.json\n",
      "Loaded mono calibration\n",
      "Reading from data/monoCalibration.json\n",
      "Loaded mono calibration\n",
      "Reading from data/monoCalibration.json\n",
      "Loaded mono calibration\n",
      "Reading from data/monoCalibration.json\n",
      "Loaded mono calibration\n",
      "Reading from data/monoCalibration.json\n",
      "Loaded mono calibration\n",
      "Reading from data/monoCalibration.json\n",
      "Loaded mono calibration\n",
      "Reading from data/monoCalibration.json\n",
      "Loaded mono calibration\n",
      "Reading from data/monoCalibration.json\n",
      "Loaded mono calibration\n",
      "Reading from data/monoCalibration.json\n",
      "Loaded mono calibration\n",
      "Reading from data/monoCalibration.json\n",
      "Loaded mono calibration\n",
      "Reading from data/monoCalibration.json\n",
      "Loaded mono calibration\n",
      "Reading from data/monoCalibration.json\n",
      "Loaded mono calibration\n",
      "Reading from data/monoCalibration.json\n",
      "Loaded mono calibration\n",
      "Reading from data/monoCalibration.json\n",
      "Loaded mono calibration\n",
      "Reading from data/monoCalibration.json\n",
      "Loaded mono calibration\n",
      "Reading from data/monoCalibration.json\n",
      "Loaded mono calibration\n",
      "Reading from data/monoCalibration.json\n",
      "Loaded mono calibration\n",
      "Reading from data/monoCalibration.json\n",
      "Loaded mono calibration\n",
      "Reading from data/monoCalibration.json\n",
      "Loaded mono calibration\n",
      "Reading from data/monoCalibration.json\n",
      "Loaded mono calibration\n",
      "Reading from data/monoCalibration.json\n",
      "Loaded mono calibration\n",
      "Reading from data/monoCalibration.json\n",
      "Loaded mono calibration\n",
      "Reading from data/monoCalibration.json\n",
      "Loaded mono calibration\n",
      "Reading from data/monoCalibration.json\n",
      "Loaded mono calibration\n",
      "Reading from data/monoCalibration.json\n",
      "Loaded mono calibration\n",
      "Reading from data/monoCalibration.json\n",
      "Loaded mono calibration\n",
      "Reading from data/monoCalibration.json\n",
      "Loaded mono calibration\n",
      "Reading from data/monoCalibration.json\n",
      "Loaded mono calibration\n",
      "Reading from data/monoCalibration.json\n",
      "Loaded mono calibration\n",
      "Reading from data/monoCalibration.json\n",
      "Loaded mono calibration\n",
      "Reading from data/monoCalibration.json\n",
      "Loaded mono calibration\n",
      "Reading from data/monoCalibration.json\n",
      "Loaded mono calibration\n",
      "Reading from data/monoCalibration.json\n",
      "Loaded mono calibration\n",
      "Reading from data/monoCalibration.json\n",
      "Loaded mono calibration\n",
      "Reading from data/monoCalibration.json\n",
      "Loaded mono calibration\n",
      "Reading from data/monoCalibration.json\n",
      "Loaded mono calibration\n",
      "Reading from data/monoCalibration.json\n",
      "Loaded mono calibration\n",
      "Reading from data/monoCalibration.json\n",
      "Loaded mono calibration\n",
      "Reading from data/monoCalibration.json\n",
      "Loaded mono calibration\n",
      "Reading from data/monoCalibration.json\n",
      "Loaded mono calibration\n",
      "Reading from data/monoCalibration.json\n",
      "Loaded mono calibration\n",
      "Reading from data/monoCalibration.json\n",
      "Loaded mono calibration\n",
      "Reading from data/monoCalibration.json\n",
      "Loaded mono calibration\n",
      "Reading from data/monoCalibration.json\n",
      "Loaded mono calibration\n",
      "Reading from data/monoCalibration.json\n",
      "Loaded mono calibration\n",
      "Reading from data/monoCalibration.json\n",
      "Loaded mono calibration\n",
      "Reading from data/monoCalibration.json\n",
      "Loaded mono calibration\n",
      "Reading from data/monoCalibration.json\n",
      "Loaded mono calibration\n",
      "Reading from data/monoCalibration.json\n",
      "Loaded mono calibration\n",
      "Reading from data/monoCalibration.json\n",
      "Loaded mono calibration\n",
      "Reading from data/monoCalibration.json\n",
      "Loaded mono calibration\n",
      "Reading from data/monoCalibration.json\n",
      "Loaded mono calibration\n",
      "Reading from data/monoCalibration.json\n",
      "Loaded mono calibration\n",
      "Reading from data/monoCalibration.json\n",
      "Loaded mono calibration\n",
      "Reading from data/monoCalibration.json\n",
      "Loaded mono calibration\n",
      "Reading from data/monoCalibration.json\n",
      "Loaded mono calibration\n",
      "Reading from data/monoCalibration.json\n",
      "Loaded mono calibration\n",
      "Reading from data/monoCalibration.json\n",
      "Loaded mono calibration\n",
      "Reading from data/monoCalibration.json\n",
      "Loaded mono calibration\n",
      "Reading from data/monoCalibration.json\n",
      "Loaded mono calibration\n",
      "Reading from data/monoCalibration.json\n",
      "Loaded mono calibration\n",
      "Reading from data/monoCalibration.json\n",
      "Loaded mono calibration\n",
      "Reading from data/monoCalibration.json\n",
      "Loaded mono calibration\n",
      "Reading from data/monoCalibration.json\n",
      "Loaded mono calibration\n",
      "Reading from data/monoCalibration.json\n",
      "Loaded mono calibration\n",
      "Reading from data/monoCalibration.json\n",
      "Loaded mono calibration\n",
      "Reading from data/monoCalibration.json\n",
      "Loaded mono calibration\n",
      "Reading from data/monoCalibration.json\n",
      "Loaded mono calibration\n",
      "Reading from data/monoCalibration.json\n",
      "Loaded mono calibration\n",
      "Reading from data/monoCalibration.json\n",
      "Loaded mono calibration\n",
      "Reading from data/monoCalibration.json\n",
      "Loaded mono calibration\n",
      "Reading from data/monoCalibration.json\n",
      "Loaded mono calibration\n",
      "Reading from data/monoCalibration.json\n",
      "Loaded mono calibration\n",
      "Reading from data/monoCalibration.json\n",
      "Loaded mono calibration\n",
      "Reading from data/monoCalibration.json\n",
      "Loaded mono calibration\n",
      "Reading from data/monoCalibration.json\n",
      "Loaded mono calibration\n",
      "Reading from data/monoCalibration.json\n",
      "Loaded mono calibration\n",
      "Reading from data/monoCalibration.json\n",
      "Loaded mono calibration\n",
      "Reading from data/monoCalibration.json\n",
      "Loaded mono calibration\n",
      "Reading from data/monoCalibration.json\n",
      "Loaded mono calibration\n",
      "Reading from data/monoCalibration.json\n",
      "Loaded mono calibration\n",
      "Reading from data/monoCalibration.json\n",
      "Loaded mono calibration\n",
      "Reading from data/monoCalibration.json\n",
      "Loaded mono calibration\n",
      "Reading from data/monoCalibration.json\n",
      "Loaded mono calibration\n",
      "Reading from data/monoCalibration.json\n",
      "Loaded mono calibration\n",
      "Reading from data/monoCalibration.json\n",
      "Loaded mono calibration\n",
      "Reading from data/monoCalibration.json\n",
      "Loaded mono calibration\n",
      "Reading from data/monoCalibration.json\n",
      "Loaded mono calibration\n",
      "Reading from data/monoCalibration.json\n",
      "Loaded mono calibration\n",
      "Reading from data/monoCalibration.json\n",
      "Loaded mono calibration\n",
      "Reading from data/monoCalibration.json\n",
      "Loaded mono calibration\n",
      "Reading from data/monoCalibration.json\n",
      "Loaded mono calibration\n",
      "Reading from data/monoCalibration.json\n",
      "Loaded mono calibration\n",
      "Reading from data/monoCalibration.json\n",
      "Loaded mono calibration\n",
      "Reading from data/monoCalibration.json\n",
      "Loaded mono calibration\n",
      "Reading from data/monoCalibration.json\n",
      "Loaded mono calibration\n",
      "Reading from data/monoCalibration.json\n",
      "Loaded mono calibration\n",
      "Reading from data/monoCalibration.json\n",
      "Loaded mono calibration\n",
      "Reading from data/monoCalibration.json\n",
      "Loaded mono calibration\n",
      "Reading from data/monoCalibration.json\n",
      "Loaded mono calibration\n",
      "Reading from data/monoCalibration.json\n",
      "Loaded mono calibration\n",
      "Reading from data/monoCalibration.json\n",
      "Loaded mono calibration\n",
      "Reading from data/monoCalibration.json\n",
      "Loaded mono calibration\n",
      "Reading from data/monoCalibration.json\n",
      "Loaded mono calibration\n",
      "Reading from data/monoCalibration.json\n",
      "Loaded mono calibration\n",
      "Reading from data/monoCalibration.json\n",
      "Loaded mono calibration\n",
      "Reading from data/monoCalibration.json\n",
      "Loaded mono calibration\n",
      "Reading from data/monoCalibration.json\n",
      "Loaded mono calibration\n",
      "Reading from data/monoCalibration.json\n",
      "Loaded mono calibration\n",
      "Reading from data/monoCalibration.json\n",
      "Loaded mono calibration\n",
      "Reading from data/monoCalibration.json\n",
      "Loaded mono calibration\n",
      "Reading from data/monoCalibration.json\n",
      "Loaded mono calibration\n",
      "Reading from data/monoCalibration.json\n",
      "Loaded mono calibration\n",
      "Reading from data/monoCalibration.json\n",
      "Loaded mono calibration\n",
      "Reading from data/monoCalibration.json\n",
      "Loaded mono calibration\n",
      "Reading from data/monoCalibration.json\n",
      "Loaded mono calibration\n",
      "Reading from data/monoCalibration.json\n",
      "Loaded mono calibration\n",
      "Reading from data/monoCalibration.json\n",
      "Loaded mono calibration\n",
      "Reading from data/monoCalibration.json\n",
      "Loaded mono calibration\n",
      "Reading from data/monoCalibration.json\n",
      "Loaded mono calibration\n",
      "Reading from data/monoCalibration.json\n",
      "Loaded mono calibration\n",
      "Reading from data/monoCalibration.json\n",
      "Loaded mono calibration\n",
      "Reading from data/monoCalibration.json\n",
      "Loaded mono calibration\n",
      "Reading from data/monoCalibration.json\n",
      "Loaded mono calibration\n",
      "Reading from data/monoCalibration.json\n",
      "Loaded mono calibration\n",
      "Reading from data/monoCalibration.json\n",
      "Loaded mono calibration\n",
      "Reading from data/monoCalibration.json\n",
      "Loaded mono calibration\n",
      "Reading from data/monoCalibration.json\n",
      "Loaded mono calibration\n",
      "Reading from data/monoCalibration.json\n",
      "Loaded mono calibration\n",
      "Reading from data/monoCalibration.json\n",
      "Loaded mono calibration\n",
      "Reading from data/monoCalibration.json\n",
      "Loaded mono calibration\n",
      "Reading from data/monoCalibration.json\n",
      "Loaded mono calibration\n",
      "Reading from data/monoCalibration.json\n",
      "Loaded mono calibration\n",
      "Reading from data/monoCalibration.json\n",
      "Loaded mono calibration\n",
      "Reading from data/monoCalibration.json\n",
      "Loaded mono calibration\n",
      "Reading from data/monoCalibration.json\n",
      "Loaded mono calibration\n",
      "Reading from data/monoCalibration.json\n",
      "Loaded mono calibration\n",
      "Reading from data/monoCalibration.json\n",
      "Loaded mono calibration\n",
      "Reading from data/monoCalibration.json\n",
      "Loaded mono calibration\n",
      "Reading from data/monoCalibration.json\n",
      "Loaded mono calibration\n",
      "Reading from data/monoCalibration.json\n",
      "Loaded mono calibration\n",
      "Reading from data/monoCalibration.json\n",
      "Loaded mono calibration\n",
      "Reading from data/monoCalibration.json\n",
      "Loaded mono calibration\n",
      "Reading from data/monoCalibration.json\n",
      "Loaded mono calibration\n",
      "Reading from data/monoCalibration.json\n",
      "Loaded mono calibration\n",
      "Reading from data/monoCalibration.json\n",
      "Loaded mono calibration\n",
      "Reading from data/monoCalibration.json\n",
      "Loaded mono calibration\n",
      "Reading from data/monoCalibration.json\n",
      "Loaded mono calibration\n",
      "Reading from data/monoCalibration.json\n",
      "Loaded mono calibration\n",
      "Reading from data/monoCalibration.json\n",
      "Loaded mono calibration\n",
      "Reading from data/monoCalibration.json\n",
      "Loaded mono calibration\n",
      "Reading from data/monoCalibration.json\n",
      "Loaded mono calibration\n",
      "Reading from data/monoCalibration.json\n",
      "Loaded mono calibration\n",
      "Reading from data/monoCalibration.json\n",
      "Loaded mono calibration\n",
      "Reading from data/monoCalibration.json\n",
      "Loaded mono calibration\n",
      "Reading from data/monoCalibration.json\n",
      "Loaded mono calibration\n",
      "Reading from data/monoCalibration.json\n",
      "Loaded mono calibration\n",
      "Reading from data/monoCalibration.json\n",
      "Loaded mono calibration\n",
      "Reading from data/monoCalibration.json\n",
      "Loaded mono calibration\n",
      "Reading from data/monoCalibration.json\n",
      "Loaded mono calibration\n",
      "Reading from data/monoCalibration.json\n",
      "Loaded mono calibration\n",
      "Reading from data/monoCalibration.json\n",
      "Loaded mono calibration\n",
      "Reading from data/monoCalibration.json\n",
      "Loaded mono calibration\n",
      "Reading from data/monoCalibration.json\n",
      "Loaded mono calibration\n",
      "Reading from data/monoCalibration.json\n",
      "Loaded mono calibration\n",
      "Reading from data/monoCalibration.json\n",
      "Loaded mono calibration\n",
      "Reading from data/monoCalibration.json\n",
      "Loaded mono calibration\n",
      "Reading from data/monoCalibration.json\n",
      "Loaded mono calibration\n",
      "Reading from data/monoCalibration.json\n",
      "Loaded mono calibration\n",
      "Reading from data/monoCalibration.json\n",
      "Loaded mono calibration\n",
      "Reading from data/monoCalibration.json\n",
      "Loaded mono calibration\n",
      "Reading from data/monoCalibration.json\n",
      "Loaded mono calibration\n",
      "Reading from data/monoCalibration.json\n",
      "Loaded mono calibration\n",
      "Reading from data/monoCalibration.json\n",
      "Loaded mono calibration\n",
      "Reading from data/monoCalibration.json\n",
      "Loaded mono calibration\n",
      "Reading from data/monoCalibration.json\n",
      "Loaded mono calibration\n",
      "Reading from data/monoCalibration.json\n",
      "Loaded mono calibration\n",
      "Reading from data/monoCalibration.json\n",
      "Loaded mono calibration\n",
      "Reading from data/monoCalibration.json\n",
      "Loaded mono calibration\n",
      "Reading from data/monoCalibration.json\n",
      "Loaded mono calibration\n",
      "Reading from data/monoCalibration.json\n",
      "Loaded mono calibration\n",
      "Reading from data/monoCalibration.json\n",
      "Loaded mono calibration\n",
      "Reading from data/monoCalibration.json\n",
      "Loaded mono calibration\n",
      "Reading from data/monoCalibration.json\n",
      "Loaded mono calibration\n",
      "Reading from data/monoCalibration.json\n",
      "Loaded mono calibration\n",
      "Reading from data/monoCalibration.json\n",
      "Loaded mono calibration\n",
      "Reading from data/monoCalibration.json\n",
      "Loaded mono calibration\n",
      "Reading from data/monoCalibration.json\n",
      "Loaded mono calibration\n",
      "Reading from data/monoCalibration.json\n",
      "Loaded mono calibration\n",
      "Reading from data/monoCalibration.json\n",
      "Loaded mono calibration\n",
      "Reading from data/monoCalibration.json\n",
      "Loaded mono calibration\n",
      "Reading from data/monoCalibration.json\n",
      "Loaded mono calibration\n",
      "Reading from data/monoCalibration.json\n",
      "Loaded mono calibration\n",
      "Reading from data/monoCalibration.json\n",
      "Loaded mono calibration\n",
      "Reading from data/monoCalibration.json\n",
      "Loaded mono calibration\n",
      "Reading from data/monoCalibration.json\n",
      "Loaded mono calibration\n",
      "Reading from data/monoCalibration.json\n",
      "Loaded mono calibration\n",
      "Reading from data/monoCalibration.json\n",
      "Loaded mono calibration\n",
      "Reading from data/monoCalibration.json\n",
      "Loaded mono calibration\n",
      "Reading from data/monoCalibration.json\n",
      "Loaded mono calibration\n",
      "Reading from data/monoCalibration.json\n",
      "Loaded mono calibration\n",
      "Reading from data/monoCalibration.json\n",
      "Loaded mono calibration\n",
      "Reading from data/monoCalibration.json\n",
      "Loaded mono calibration\n",
      "Reading from data/monoCalibration.json\n",
      "Loaded mono calibration\n",
      "Reading from data/monoCalibration.json\n",
      "Loaded mono calibration\n",
      "Reading from data/monoCalibration.json\n",
      "Loaded mono calibration\n",
      "Reading from data/monoCalibration.json\n",
      "Loaded mono calibration\n",
      "Reading from data/monoCalibration.json\n",
      "Loaded mono calibration\n",
      "Reading from data/monoCalibration.json\n",
      "Loaded mono calibration\n",
      "Reading from data/monoCalibration.json\n",
      "Loaded mono calibration\n",
      "Reading from data/monoCalibration.json\n",
      "Loaded mono calibration\n",
      "Reading from data/monoCalibration.json\n",
      "Loaded mono calibration\n",
      "Reading from data/monoCalibration.json\n",
      "Loaded mono calibration\n",
      "Reading from data/monoCalibration.json\n",
      "Loaded mono calibration\n",
      "Reading from data/monoCalibration.json\n",
      "Loaded mono calibration\n",
      "Reading from data/monoCalibration.json\n",
      "Loaded mono calibration\n",
      "Reading from data/monoCalibration.json\n",
      "Loaded mono calibration\n",
      "Reading from data/monoCalibration.json\n",
      "Loaded mono calibration\n",
      "Reading from data/monoCalibration.json\n",
      "Loaded mono calibration\n",
      "Reading from data/monoCalibration.json\n",
      "Loaded mono calibration\n",
      "Reading from data/monoCalibration.json\n",
      "Loaded mono calibration\n",
      "Reading from data/monoCalibration.json\n",
      "Loaded mono calibration\n",
      "Reading from data/monoCalibration.json\n",
      "Loaded mono calibration\n",
      "Reading from data/monoCalibration.json\n",
      "Loaded mono calibration\n",
      "Reading from data/monoCalibration.json\n",
      "Loaded mono calibration\n",
      "Reading from data/monoCalibration.json\n",
      "Loaded mono calibration\n",
      "Reading from data/monoCalibration.json\n",
      "Loaded mono calibration\n",
      "Camera location in point 0 is: \n",
      " [[0]\n",
      " [0]\n",
      " [0]]\n",
      "\n",
      "Length of trajectory: 3\n"
     ]
    }
   ],
   "source": [
    "trajectory = estimate_trajectory()\n",
    "\n",
    "i=0\n",
    "print(\"Camera location in point {0} is: \\n {1}\\n\".format(i, trajectory[:, [i]]))\n",
    "print(\"Length of trajectory: {0}\".format(trajectory.shape[0]))"
   ]
  }
 ]
}