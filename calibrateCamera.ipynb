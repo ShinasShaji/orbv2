{
 "metadata": {
  "language_info": {
   "codemirror_mode": {
    "name": "ipython",
    "version": 3
   },
   "file_extension": ".py",
   "mimetype": "text/x-python",
   "name": "python",
   "nbconvert_exporter": "python",
   "pygments_lexer": "ipython3",
   "version": "3.7.3-final"
  },
  "orig_nbformat": 2,
  "kernelspec": {
   "name": "python3",
   "display_name": "Python 3.7.3 32-bit ('bot')",
   "metadata": {
    "interpreter": {
     "hash": "34c9221352f76f92e4207a96bf5a7a622125b59db134bdd306ec407e37621961"
    }
   }
  }
 },
 "nbformat": 4,
 "nbformat_minor": 2,
 "cells": [
  {
   "source": [
    "# Camera Calibration\n",
    "Uses the Calibrate object to find the projection matrices of a camera."
   ],
   "cell_type": "markdown",
   "metadata": {}
  },
  {
   "cell_type": "code",
   "execution_count": 1,
   "metadata": {},
   "outputs": [],
   "source": [
    "import Calibrate"
   ]
  },
  {
   "source": [
    "### Instantiating Calibrate\n",
    "<p>\n",
    "While the StereoCam object requires two cameras to be connected, only one camera can be calibrated at once. \n",
    "</p>\n",
    "<p>\n",
    "Do not specify path in Calibrate to use default path for images. Looks for .png images by default.\n",
    "</p>"
   ],
   "cell_type": "markdown",
   "metadata": {}
  },
  {
   "cell_type": "code",
   "execution_count": 2,
   "metadata": {},
   "outputs": [],
   "source": [
    "Calibrate = Calibrate.Calibrate(chessBoardSize = (6,8), squareSize = 42.5, leftCam=True)"
   ]
  },
  {
   "source": [
    "### Finding chessboard corners\n",
    "Chessboard corners are found and refined from the images given."
   ],
   "cell_type": "markdown",
   "metadata": {}
  },
  {
   "cell_type": "code",
   "execution_count": 3,
   "metadata": {},
   "outputs": [],
   "source": [
    "Calibrate.findCorners()"
   ]
  },
  {
   "source": [
    "### Perform calibration\n",
    "The camera matrix, distortion coefficients and rotation and translation vectors are calculated"
   ],
   "cell_type": "markdown",
   "metadata": {}
  },
  {
   "cell_type": "code",
   "execution_count": 4,
   "metadata": {},
   "outputs": [
    {
     "output_type": "stream",
     "name": "stdout",
     "text": [
      "Calibration complete\n"
     ]
    }
   ],
   "source": [
    "Calibrate.calibrate()"
   ]
  },
  {
   "source": [
    "### Print results\n",
    "Print the calculated vectors"
   ],
   "cell_type": "markdown",
   "metadata": {}
  },
  {
   "cell_type": "code",
   "execution_count": 5,
   "metadata": {},
   "outputs": [
    {
     "output_type": "stream",
     "name": "stdout",
     "text": [
      "Camera matrix:\n [[1180.037    0.     652.45 ]\n [   0.    1178.245  371.432]\n [   0.       0.       1.   ]] \n\nDistortion coefficients:\n [[-0.108  1.433  0.002 -0.004 -5.989]] \n\nRotation vectors:\n [array([[ 0.013],\n       [ 0.214],\n       [-1.556]]), array([[0.133],\n       [0.082],\n       [1.568]]), array([[ 0.296],\n       [-0.438],\n       [-1.421]]), array([[0.099],\n       [0.021],\n       [1.562]]), array([[ 0.126],\n       [ 0.362],\n       [-1.468]]), array([[0.335],\n       [0.105],\n       [1.572]]), array([[ 0.493],\n       [-0.497],\n       [ 1.496]]), array([[ 0.04 ],\n       [-0.122],\n       [ 1.545]]), array([[0.185],\n       [0.085],\n       [1.547]]), array([[-0.07 ],\n       [-0.13 ],\n       [ 1.572]]), array([[ 0.547],\n       [ 0.529],\n       [-1.492]]), array([[0.216],\n       [0.057],\n       [1.582]]), array([[ 0.103],\n       [-0.493],\n       [ 1.461]]), array([[-0.135],\n       [ 0.279],\n       [ 1.572]]), array([[0.248],\n       [0.342],\n       [1.513]]), array([[-0.043],\n       [ 0.26 ],\n       [-1.477]]), array([[ 0.104],\n       [-0.066],\n       [ 1.557]]), array([[-0.039],\n       [-0.124],\n       [ 1.583]]), array([[-0.178],\n       [ 0.603],\n       [-1.354]]), array([[-0.091],\n       [-0.202],\n       [ 1.549]]), array([[ 0.104],\n       [ 0.492],\n       [-1.522]]), array([[0.035],\n       [0.299],\n       [1.568]])] \n\nTranslation vectors:\n [array([[-113.784],\n       [  99.374],\n       [ 704.004]]), array([[ 183.945],\n       [-109.063],\n       [ 626.191]]), array([[-224.671],\n       [ 105.666],\n       [ 640.212]]), array([[ 135.294],\n       [-124.161],\n       [ 630.681]]), array([[-134.301],\n       [ 102.5  ],\n       [ 733.25 ]]), array([[ 204.731],\n       [-108.399],\n       [ 593.995]]), array([[123.881],\n       [-91.615],\n       [566.129]]), array([[ 226.675],\n       [-114.244],\n       [ 657.418]]), array([[ 104.878],\n       [-111.482],\n       [ 604.675]]), array([[ 141.884],\n       [-101.739],\n       [ 587.473]]), array([[-199.039],\n       [  56.603],\n       [ 736.322]]), array([[201.97 ],\n       [-95.884],\n       [566.261]]), array([[  76.108],\n       [-110.075],\n       [ 763.356]]), array([[ 139.844],\n       [-106.536],\n       [ 626.882]]), array([[  10.401],\n       [-125.83 ],\n       [ 678.06 ]]), array([[-176.191],\n       [  91.558],\n       [ 691.233]]), array([[ 112.606],\n       [-109.495],\n       [ 717.723]]), array([[ 168.654],\n       [-105.21 ],\n       [ 602.725]]), array([[-37.619],\n       [ 87.678],\n       [939.939]]), array([[ 149.508],\n       [-111.763],\n       [ 678.336]]), array([[-70.205],\n       [ 91.398],\n       [798.516]]), array([[ 202.716],\n       [-119.866],\n       [ 668.248]])] \n\n"
     ]
    }
   ],
   "source": [
    "Calibrate.printResults()"
   ]
  },
  {
   "source": [
    "### Export results\n",
    "The results are exported as a .json for later retrieval"
   ],
   "cell_type": "markdown",
   "metadata": {}
  },
  {
   "cell_type": "code",
   "execution_count": 6,
   "metadata": {},
   "outputs": [
    {
     "output_type": "stream",
     "name": "stdout",
     "text": [
      "Exported as data/calibration_left.json\n"
     ]
    }
   ],
   "source": [
    "Calibrate.exportResults()"
   ]
  },
  {
   "source": [
    "### Preview undistorted images\n",
    "Undistort and preview the images used for calibration"
   ],
   "cell_type": "markdown",
   "metadata": {}
  },
  {
   "cell_type": "code",
   "execution_count": 7,
   "metadata": {},
   "outputs": [],
   "source": [
    "Calibrate.undistortImages()"
   ]
  },
  {
   "source": [
    "### Find reprojection error\n",
    "Closer the re-projection error is to zero, the more accurate the parameters found are"
   ],
   "cell_type": "markdown",
   "metadata": {}
  },
  {
   "cell_type": "code",
   "execution_count": 8,
   "metadata": {},
   "outputs": [
    {
     "output_type": "stream",
     "name": "stdout",
     "text": [
      "Total error: 0.049141426749225836\n"
     ]
    }
   ],
   "source": [
    "Calibrate.findReprojectionError()"
   ]
  }
 ]
}