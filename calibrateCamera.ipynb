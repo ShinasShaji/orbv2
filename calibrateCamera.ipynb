{
 "metadata": {
  "language_info": {
   "codemirror_mode": {
    "name": "ipython",
    "version": 3
   },
   "file_extension": ".py",
   "mimetype": "text/x-python",
   "name": "python",
   "nbconvert_exporter": "python",
   "pygments_lexer": "ipython3",
   "version": "3.7.3-final"
  },
  "orig_nbformat": 2,
  "kernelspec": {
   "name": "python3",
   "display_name": "Python 3.7.3 32-bit ('bot': venv)",
   "metadata": {
    "interpreter": {
     "hash": "34c9221352f76f92e4207a96bf5a7a622125b59db134bdd306ec407e37621961"
    }
   }
  }
 },
 "nbformat": 4,
 "nbformat_minor": 2,
 "cells": [
  {
   "source": [
    "# Camera Calibration\n",
    "Uses the Calibrate object to find the projection matrices of a camera."
   ],
   "cell_type": "markdown",
   "metadata": {}
  },
  {
   "cell_type": "code",
   "execution_count": null,
   "metadata": {},
   "outputs": [],
   "source": [
    "import Calibrate"
   ]
  },
  {
   "source": [
    "### Instantiating Calibrate\n",
    "<p>\n",
    "If a path is not specified, the default path for images is chosen. Looks for .png images by default.\n",
    "</p>"
   ],
   "cell_type": "markdown",
   "metadata": {}
  },
  {
   "cell_type": "code",
   "execution_count": null,
   "metadata": {},
   "outputs": [],
   "source": [
    "Calibrate = Calibrate.Calibrate(chessBoardSize = (6,8), squareSize = 42.5)\n",
    "Calibrate.loadImagesForCalibration()"
   ]
  },
  {
   "source": [
    "### Finding chessboard corners\n",
    "Chessboard corners are found and refined from the images given."
   ],
   "cell_type": "markdown",
   "metadata": {}
  },
  {
   "cell_type": "code",
   "execution_count": null,
   "metadata": {},
   "outputs": [],
   "source": [
    "Calibrate.findCorners()"
   ]
  },
  {
   "source": [
    "### Perform calibration\n",
    "The camera matrix, distortion coefficients and rotation and translation vectors are calculated"
   ],
   "cell_type": "markdown",
   "metadata": {}
  },
  {
   "cell_type": "code",
   "execution_count": null,
   "metadata": {},
   "outputs": [],
   "source": [
    "Calibrate.monoCalibrate()"
   ]
  },
  {
   "source": [
    "### Print results\n",
    "Print the calculated vectors"
   ],
   "cell_type": "markdown",
   "metadata": {}
  },
  {
   "cell_type": "code",
   "execution_count": null,
   "metadata": {},
   "outputs": [],
   "source": [
    "Calibrate.printMonoCalibrationResults()"
   ]
  },
  {
   "source": [
    "### Export results\n",
    "The results are exported as a .json for later retrieval"
   ],
   "cell_type": "markdown",
   "metadata": {}
  },
  {
   "cell_type": "code",
   "execution_count": null,
   "metadata": {},
   "outputs": [],
   "source": [
    "Calibrate.exportMonoCalibrationResults()"
   ]
  },
  {
   "source": [
    "### Export camera properties\n",
    "<p>\n",
    "From the results of mono calibration, camera properties like field of view, focal length, principal point, and aspect ratios are found.\n",
    "</p>\n",
    "<p>\n",
    "The aperture size can be modified in code.\n",
    "</p>"
   ],
   "cell_type": "markdown",
   "metadata": {}
  },
  {
   "cell_type": "code",
   "execution_count": null,
   "metadata": {},
   "outputs": [],
   "source": [
    "Calibrate.exportCameraProperties()"
   ]
  },
  {
   "source": [
    "### Preview undistorted images\n",
    "Undistort and preview the images used for calibration"
   ],
   "cell_type": "markdown",
   "metadata": {}
  },
  {
   "cell_type": "code",
   "execution_count": null,
   "metadata": {},
   "outputs": [],
   "source": [
    "Calibrate.undistortImages()"
   ]
  },
  {
   "source": [
    "### Find reprojection error\n",
    "Closer the re-projection error is to zero, the more accurate the parameters found are"
   ],
   "cell_type": "markdown",
   "metadata": {}
  },
  {
   "cell_type": "code",
   "execution_count": null,
   "metadata": {},
   "outputs": [],
   "source": [
    "Calibrate.findReprojectionError()"
   ]
  }
 ]
}