{
 "metadata": {
  "language_info": {
   "codemirror_mode": {
    "name": "ipython",
    "version": 3
   },
   "file_extension": ".py",
   "mimetype": "text/x-python",
   "name": "python",
   "nbconvert_exporter": "python",
   "pygments_lexer": "ipython3",
   "version": "3.7.3-final"
  },
  "orig_nbformat": 2,
  "kernelspec": {
   "name": "python373jvsc74a57bd034d9fd4794b4aa62af7c694b698b8481ba4eb70d629f53257a855dbffddd8207",
   "display_name": "Python 3.7.3 32-bit ('bot': venv)",
   "language": "python"
  }
 },
 "nbformat": 4,
 "nbformat_minor": 2,
 "cells": [
  {
   "source": [
    "# Camera Calibration\n",
    "Uses the Calibrate object to find the projection matrices of a camera."
   ],
   "cell_type": "markdown",
   "metadata": {}
  },
  {
   "cell_type": "code",
   "execution_count": 1,
   "metadata": {},
   "outputs": [],
   "source": [
    "from Calibrate import Calibrate"
   ]
  },
  {
   "source": [
    "### Instantiating Calibrate\n",
    "<p>\n",
    "If a path is not specified, the default path for images is chosen. Looks for .png images by default.\n",
    "</p>"
   ],
   "cell_type": "markdown",
   "metadata": {}
  },
  {
   "cell_type": "code",
   "execution_count": 2,
   "metadata": {},
   "outputs": [],
   "source": [
    "calibrate = Calibrate(chessBoardSize = (6,8), squareSize = 55)\n",
    "calibrate.loadImagesForCalibration()"
   ]
  },
  {
   "source": [
    "### Finding chessboard corners\n",
    "Chessboard corners are found and refined from the images given."
   ],
   "cell_type": "markdown",
   "metadata": {}
  },
  {
   "cell_type": "code",
   "execution_count": 3,
   "metadata": {},
   "outputs": [
    {
     "output_type": "stream",
     "name": "stdout",
     "text": [
      "Found 74 images in folder\n",
      "Chessboards were found in 37 image pairs\n"
     ]
    }
   ],
   "source": [
    "calibrate.findCorners()"
   ]
  },
  {
   "source": [
    "### Perform calibration\n",
    "The camera matrix, distortion coefficients and rotation and translation vectors are calculated and exported as a .json for later retrieval"
   ],
   "cell_type": "markdown",
   "metadata": {}
  },
  {
   "cell_type": "code",
   "execution_count": 4,
   "metadata": {},
   "outputs": [
    {
     "output_type": "stream",
     "name": "stdout",
     "text": [
      "Calibration completed in 48.73236 seconds\nExported as data/monoCalibration.json\n"
     ]
    }
   ],
   "source": [
    "calibrate.monoCalibrate()\n",
    "calibrate.exportMonoCalibration()"
   ]
  },
  {
   "source": [
    "### Export camera properties\n",
    "<p>\n",
    "From the results of mono calibration, camera properties like field of view, focal length, principal point, and aspect ratios are found.\n",
    "</p>\n",
    "<p>\n",
    "The aperture size can be modified in code.\n",
    "</p>"
   ],
   "cell_type": "markdown",
   "metadata": {}
  },
  {
   "cell_type": "code",
   "execution_count": 5,
   "metadata": {},
   "outputs": [
    {
     "output_type": "stream",
     "name": "stdout",
     "text": [
      "Exported as data/cameraProperties.json\n"
     ]
    }
   ],
   "source": [
    "calibrate.exportCameraProperties()"
   ]
  },
  {
   "source": [
    "### Find reprojection error\n",
    "Closer the re-projection error is to zero, the more accurate the parameters found are"
   ],
   "cell_type": "markdown",
   "metadata": {}
  },
  {
   "cell_type": "code",
   "execution_count": 6,
   "metadata": {},
   "outputs": [
    {
     "output_type": "stream",
     "name": "stdout",
     "text": [
      "Total error (left): 0.02492804618520892\nTotal error (right): 0.023214141929747134\n"
     ]
    }
   ],
   "source": [
    "calibrate.findReprojectionError()"
   ]
  },
  {
   "source": [
    "### Undistort images\n",
    "\n",
    "Test undistortion on images used for calibration"
   ],
   "cell_type": "markdown",
   "metadata": {}
  },
  {
   "cell_type": "code",
   "execution_count": 7,
   "metadata": {},
   "outputs": [],
   "source": [
    "calibrate.undistortImages()"
   ]
  }
 ]
}