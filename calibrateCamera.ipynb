{
 "metadata": {
  "language_info": {
   "codemirror_mode": {
    "name": "ipython",
    "version": 3
   },
   "file_extension": ".py",
   "mimetype": "text/x-python",
   "name": "python",
   "nbconvert_exporter": "python",
   "pygments_lexer": "ipython3",
   "version": "3.7.3"
  },
  "orig_nbformat": 2,
  "kernelspec": {
   "name": "python373jvsc74a57bd034d9fd4794b4aa62af7c694b698b8481ba4eb70d629f53257a855dbffddd8207",
   "display_name": "Python 3.7.3 32-bit ('bot': venv)",
   "language": "python"
  }
 },
 "nbformat": 4,
 "nbformat_minor": 2,
 "cells": [
  {
   "source": [
    "# Camera Calibration\n",
    "Uses the Calibrate object to find the projection matrices of a camera."
   ],
   "cell_type": "markdown",
   "metadata": {}
  },
  {
   "cell_type": "code",
   "execution_count": 1,
   "metadata": {},
   "outputs": [],
   "source": [
    "from Calibrate import Calibrate"
   ]
  },
  {
   "source": [
    "### Instantiating Calibrate\n",
    "<p>\n",
    "If a path is not specified, the default path for images is chosen.\n",
    "</p>\n",
    "<p>\n",
    "Looks for .png images by default\n",
    "</p>"
   ],
   "cell_type": "markdown",
   "metadata": {}
  },
  {
   "cell_type": "code",
   "execution_count": 2,
   "metadata": {},
   "outputs": [
    {
     "output_type": "stream",
     "name": "stdout",
     "text": [
      "Found 68 images in folder (34 image pairs)\n"
     ]
    }
   ],
   "source": [
    "calibrate = Calibrate(chessBoardSize = (9,6), squareSize = 55)\n",
    "calibrate.loadImagesForCalibration()"
   ]
  },
  {
   "source": [
    "### Finding chessboard corners\n",
    "Chessboard corners are found and refined from the images given"
   ],
   "cell_type": "markdown",
   "metadata": {}
  },
  {
   "cell_type": "code",
   "execution_count": 30,
   "metadata": {},
   "outputs": [
    {
     "output_type": "stream",
     "name": "stdout",
     "text": [
      "Chessboards were found in 34 image pairs (out of 34 image pairs)\n"
     ]
    }
   ],
   "source": [
    "calibrate.findCorners()"
   ]
  },
  {
   "source": [
    "### Perform mono calibration\n",
    "The camera matrix, distortion coefficients and rotation and translation vectors are calculated and exported as a .json for later retrieval"
   ],
   "cell_type": "markdown",
   "metadata": {}
  },
  {
   "cell_type": "code",
   "execution_count": 31,
   "metadata": {},
   "outputs": [
    {
     "output_type": "stream",
     "name": "stdout",
     "text": [
      "Mono calibration completed in 39.59159 seconds\nExported as data/monoCalibration.json\n"
     ]
    }
   ],
   "source": [
    "calibrate.monoCalibrate()\n",
    "calibrate.exportMonoCalibration()"
   ]
  },
  {
   "source": [
    "### Export camera properties\n",
    "<p>\n",
    "From the results of mono calibration, camera properties like field of view, focal length, principal point, and aspect ratios are found\n",
    "</p>\n",
    "<p>\n",
    "The aperture size can be modified in code\n",
    "</p>\n",
    "<p>\n",
    "The camera properties are exported as a .json for later retrieval\n",
    "</p>"
   ],
   "cell_type": "markdown",
   "metadata": {}
  },
  {
   "cell_type": "code",
   "execution_count": 32,
   "metadata": {},
   "outputs": [
    {
     "output_type": "stream",
     "name": "stdout",
     "text": [
      "Exported as data/cameraProperties.json\n"
     ]
    }
   ],
   "source": [
    "calibrate.exportCameraProperties()"
   ]
  },
  {
   "source": [
    "### Find reprojection error\n",
    "Closer the re-projection error is to zero, the more accurate the parameters found are"
   ],
   "cell_type": "markdown",
   "metadata": {}
  },
  {
   "cell_type": "code",
   "execution_count": 33,
   "metadata": {},
   "outputs": [
    {
     "output_type": "stream",
     "name": "stdout",
     "text": [
      "Total error (left): 0.0231741446180314\nTotal error (right): 0.0247606039389516\n"
     ]
    }
   ],
   "source": [
    "calibrate.findReprojectionError()"
   ]
  },
  {
   "source": [
    "### Undistort images\n",
    "\n",
    "Test undistortion on images used for calibration"
   ],
   "cell_type": "markdown",
   "metadata": {}
  },
  {
   "cell_type": "code",
   "execution_count": 34,
   "metadata": {},
   "outputs": [],
   "source": [
    "calibrate.undistortImages()"
   ]
  },
  {
   "source": [
    "### Perform stereo calibration\n",
    "<p>\n",
    "The cameras are calibrated with respect to each other to refine the camera matrices, distortion coefficients, and find the pair's translation and rotation matrices\n",
    "<p>\n",
    "</p>\n",
    "The Essential and Fundamental matrices are also found in this step\n",
    "</p>\n",
    "<p>\n",
    "Stereo calibration data is exported as a .json for later retrieval\n",
    "</p>"
   ],
   "cell_type": "markdown",
   "metadata": {}
  },
  {
   "cell_type": "code",
   "execution_count": 35,
   "metadata": {},
   "outputs": [
    {
     "output_type": "stream",
     "name": "stdout",
     "text": [
      "Stereo calibration completed in 0.80552 seconds\nExported as data/stereoCalibration.json\n"
     ]
    }
   ],
   "source": [
    "calibrate.stereoCalibrate(useOptimalMatrix=False)\n",
    "calibrate.exportStereoCalibration()"
   ]
  },
  {
   "source": [
    "### Stereo rectification\n",
    "<p>\n",
    "Computes rotation (3x3) and projection matrices (3x4) for each camera, the Q matrix, and valid regions of interest\n",
    "</p>\n",
    "<p>\n",
    "The Q matrix is a 4×4 disparity-to-depth mapping matrix\n",
    "</p>\n",
    "<p>\n",
    "Projection matrices are in the rectified coordinate frame\n",
    "</p>\n",
    "<p>\n",
    "Specify rectifyScale to crop unwanted pixels; does not crop by default (=1)\n",
    "</p>\n",
    "<p>\n",
    "Stereo rectification data is exported as a .json for later retrieval\n",
    "</p>"
   ],
   "cell_type": "markdown",
   "metadata": {}
  },
  {
   "cell_type": "code",
   "execution_count": 36,
   "metadata": {},
   "outputs": [
    {
     "output_type": "stream",
     "name": "stdout",
     "text": [
      "Exported as data/stereoRectify.json\n"
     ]
    }
   ],
   "source": [
    "calibrate.stereoRectify(rectifyScale=0)\n",
    "calibrate.exportStereoRectify()"
   ]
  },
  {
   "cell_type": "code",
   "execution_count": null,
   "metadata": {},
   "outputs": [],
   "source": []
  }
 ]
}