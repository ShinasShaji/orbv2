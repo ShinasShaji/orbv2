{
 "metadata": {
  "language_info": {
   "codemirror_mode": {
    "name": "ipython",
    "version": 3
   },
   "file_extension": ".py",
   "mimetype": "text/x-python",
   "name": "python",
   "nbconvert_exporter": "python",
   "pygments_lexer": "ipython3",
   "version": "3.7.3-final"
  },
  "orig_nbformat": 2,
  "kernelspec": {
   "name": "python3",
   "display_name": "Python 3.7.3 32-bit ('bot')",
   "metadata": {
    "interpreter": {
     "hash": "34c9221352f76f92e4207a96bf5a7a622125b59db134bdd306ec407e37621961"
    }
   }
  }
 },
 "nbformat": 4,
 "nbformat_minor": 2,
 "cells": [
  {
   "source": [
    "# Camera Calibration\n",
    "Uses the Calibrate object to find the projection matrices of a camera."
   ],
   "cell_type": "markdown",
   "metadata": {}
  },
  {
   "cell_type": "code",
   "execution_count": 1,
   "metadata": {},
   "outputs": [],
   "source": [
    "import Calibrate"
   ]
  },
  {
   "source": [
    "### Instantiating Calibrate\n",
    "<p>\n",
    "While the StereoCam object requires two cameras to be connected, only one camera can be calibrated at once. \n",
    "</p>\n",
    "<p>\n",
    "Do not specify path in Calibrate to use default path for images. Looks for .png images by default.\n",
    "</p>"
   ],
   "cell_type": "markdown",
   "metadata": {}
  },
  {
   "cell_type": "code",
   "execution_count": 2,
   "metadata": {},
   "outputs": [],
   "source": [
    "Calibrate = Calibrate.Calibrate(chessBoardSize = (8,6), squareSize = 42.5)"
   ]
  },
  {
   "source": [
    "### Finding chessboard corners\n",
    "Chessboard corners are found and refined from the images given."
   ],
   "cell_type": "markdown",
   "metadata": {}
  },
  {
   "cell_type": "code",
   "execution_count": 3,
   "metadata": {},
   "outputs": [],
   "source": [
    "Calibrate.findCorners()"
   ]
  },
  {
   "source": [
    "### Perform calibration\n",
    "The camera matrix, distortion coefficients and rotation and translation vectors are calculated"
   ],
   "cell_type": "markdown",
   "metadata": {}
  },
  {
   "cell_type": "code",
   "execution_count": 4,
   "metadata": {},
   "outputs": [
    {
     "output_type": "stream",
     "name": "stdout",
     "text": [
      "Calibration complete\n"
     ]
    }
   ],
   "source": [
    "Calibrate.calibrate()"
   ]
  },
  {
   "source": [
    "### Print results\n",
    "Print the calculated vectors"
   ],
   "cell_type": "markdown",
   "metadata": {}
  },
  {
   "cell_type": "code",
   "execution_count": 5,
   "metadata": {},
   "outputs": [
    {
     "output_type": "stream",
     "name": "stdout",
     "text": [
      "Camera matrix:\n [[1180.037    0.     652.45 ]\n [   0.    1178.245  371.432]\n [   0.       0.       1.   ]] \n\nDistortion coefficients:\n [[-0.108  1.433  0.002 -0.004 -5.989]] \n\nRotation vectors:\n [array([[0.145],\n       [0.128],\n       [0.01 ]]), array([[0.033],\n       [0.137],\n       [0.   ]]), array([[-0.092],\n       [-0.476],\n       [ 0.116]]), array([[ 0.05 ],\n       [ 0.077],\n       [-0.007]]), array([[0.315],\n       [0.152],\n       [0.086]]), array([[0.146],\n       [0.28 ],\n       [0.016]]), array([[ 0.634],\n       [-0.003],\n       [-0.017]]), array([[ 0.103],\n       [-0.053],\n       [-0.023]]), array([[ 0.063],\n       [ 0.173],\n       [-0.019]]), array([[ 0.038],\n       [-0.127],\n       [ 0.004]]), array([[ 0.689],\n       [-0.011],\n       [ 0.011]]), array([[0.101],\n       [0.173],\n       [0.017]]), array([[ 0.384],\n       [-0.252],\n       [-0.08 ]]), array([[-0.263],\n       [ 0.092],\n       [ 0.013]]), array([[-0.06 ],\n       [ 0.378],\n       [-0.037]]), array([[0.14 ],\n       [0.196],\n       [0.086]]), array([[ 0.108],\n       [ 0.024],\n       [-0.012]]), array([[ 0.054],\n       [-0.104],\n       [ 0.014]]), array([[0.278],\n       [0.51 ],\n       [0.17 ]]), array([[ 0.071],\n       [-0.187],\n       [-0.016]]), array([[0.381],\n       [0.248],\n       [0.02 ]]), array([[-0.168],\n       [ 0.212],\n       [ 0.008]])] \n\nTranslation vectors:\n [array([[-113.671],\n       [-110.89 ],\n       [ 673.264]]), array([[-110.78 ],\n       [-109.843],\n       [ 666.717]]), array([[-205.495],\n       [-104.538],\n       [ 664.763]]), array([[-161.321],\n       [-122.554],\n       [ 653.546]]), array([[-121.436],\n       [ -98.823],\n       [ 666.47 ]]), array([[ -81.194],\n       [-119.054],\n       [ 675.479]]), array([[-173.575],\n       [ -86.506],\n       [ 566.89 ]]), array([[ -70.327],\n       [-106.472],\n       [ 642.063]]), array([[-188.149],\n       [-107.375],\n       [ 655.909]]), array([[-153.215],\n       [-102.089],\n       [ 549.754]]), array([[-196.135],\n       [-107.46 ],\n       [ 601.298]]), array([[ -91.029],\n       [-103.535],\n       [ 617.244]]), array([[-211.204],\n       [ -72.944],\n       [ 695.686]]), array([[-156.38 ],\n       [-106.695],\n       [ 654.404]]), array([[-265.887],\n       [-111.837],\n       [ 787.491]]), array([[-161.027],\n       [-118.102],\n       [ 660.105]]), array([[-184.787],\n       [-106.391],\n       [ 725.05 ]]), array([[-127.218],\n       [-108.475],\n       [ 571.818]]), array([[ -18.293],\n       [-113.895],\n       [ 875.509]]), array([[-142.784],\n       [-105.031],\n       [ 623.327]]), array([[ -76.   ],\n       [-105.891],\n       [ 719.78 ]]), array([[ -88.108],\n       [-116.898],\n       [ 730.849]])] \n\n"
     ]
    }
   ],
   "source": [
    "Calibrate.printResults()"
   ]
  },
  {
   "source": [
    "### Export results\n",
    "The results are exported as a .json for later retrieval"
   ],
   "cell_type": "markdown",
   "metadata": {}
  },
  {
   "cell_type": "code",
   "execution_count": 6,
   "metadata": {},
   "outputs": [
    {
     "output_type": "stream",
     "name": "stdout",
     "text": [
      "Exported as data/calibration_left.json\n"
     ]
    }
   ],
   "source": [
    "Calibrate.exportResults(leftCam=True)"
   ]
  }
 ]
}