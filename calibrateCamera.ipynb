{
 "metadata": {
  "language_info": {
   "codemirror_mode": {
    "name": "ipython",
    "version": 3
   },
   "file_extension": ".py",
   "mimetype": "text/x-python",
   "name": "python",
   "nbconvert_exporter": "python",
   "pygments_lexer": "ipython3",
   "version": "3.7.3-final"
  },
  "orig_nbformat": 2,
  "kernelspec": {
   "name": "python3",
   "display_name": "Python 3.7.3 32-bit ('bot')",
   "metadata": {
    "interpreter": {
     "hash": "34c9221352f76f92e4207a96bf5a7a622125b59db134bdd306ec407e37621961"
    }
   }
  }
 },
 "nbformat": 4,
 "nbformat_minor": 2,
 "cells": [
  {
   "source": [
    "# Camera Calibration\n",
    "Uses the StereoCam Calibrate object to find the projection matrices of a camera."
   ],
   "cell_type": "markdown",
   "metadata": {}
  },
  {
   "cell_type": "code",
   "execution_count": 5,
   "metadata": {},
   "outputs": [],
   "source": [
    "import StereoCam"
   ]
  },
  {
   "source": [
    "### Instantiating StereoCam and Calibrate objects\n",
    "<p>\n",
    "While the StereoCam object requires two cameras to be connected, only one camera can be calibrated at once. \n",
    "</p>\n",
    "<p>\n",
    "Do not specify path in Calibrate to use default path for images. Looks for .png images by default. (captures/calibrate/)\n",
    "</p>"
   ],
   "cell_type": "markdown",
   "metadata": {}
  },
  {
   "cell_type": "code",
   "execution_count": 6,
   "metadata": {},
   "outputs": [],
   "source": [
    "Stereo = StereoCam.StereoCam(leftID=0, rightID=2, width=1280, height=720, fps=2)\n",
    "Calibrate = StereoCam.StereoCam.Calibrate(chessBoardSize = (8,6), squareSize = 1)"
   ]
  },
  {
   "source": [
    "### Finding chessboard corners\n",
    "Chessboard corners are found and refined from the images given."
   ],
   "cell_type": "markdown",
   "metadata": {}
  },
  {
   "cell_type": "code",
   "execution_count": 7,
   "metadata": {},
   "outputs": [],
   "source": [
    "Calibrate.findCorners()"
   ]
  },
  {
   "cell_type": "code",
   "execution_count": null,
   "metadata": {},
   "outputs": [],
   "source": []
  }
 ]
}