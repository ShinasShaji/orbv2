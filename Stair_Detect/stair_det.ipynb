{
 "metadata": {
  "language_info": {
   "codemirror_mode": {
    "name": "ipython",
    "version": 3
   },
   "file_extension": ".py",
   "mimetype": "text/x-python",
   "name": "python",
   "nbconvert_exporter": "python",
   "pygments_lexer": "ipython3",
   "version": "3.9.2"
  },
  "orig_nbformat": 2,
  "kernelspec": {
   "name": "python392jvsc74a57bd003fa481128cc78453f8611b8510905d3f22607403b086e041a18b1b1b0388d94",
   "display_name": "Python 3.9.2 64-bit"
  },
  "metadata": {
   "interpreter": {
    "hash": "03fa481128cc78453f8611b8510905d3f22607403b086e041a18b1b1b0388d94"
   }
  }
 },
 "nbformat": 4,
 "nbformat_minor": 2,
 "cells": [
  {
   "cell_type": "code",
   "execution_count": 1,
   "metadata": {},
   "outputs": [],
   "source": [
    "import cv2 as cv\n",
    "import numpy as np"
   ]
  },
  {
   "cell_type": "code",
   "execution_count": 2,
   "metadata": {},
   "outputs": [
    {
     "output_type": "stream",
     "name": "stdout",
     "text": [
      "[[[ 6.3300000e+02  1.5707964e+00]]\n\n [[ 3.0200000e+02  1.5707964e+00]]\n\n [[ 6.9500000e+02  1.5882496e+00]]\n\n [[ 4.2200000e+02  1.5707964e+00]]\n\n [[ 3.2900000e+02  1.5707964e+00]]\n\n [[ 6.2500000e+02  1.5707964e+00]]\n\n [[ 4.1600000e+02  1.5882496e+00]]\n\n [[ 2.3700000e+02  1.3962634e-01]]\n\n [[ 5.7100000e+02  1.5707964e+00]]\n\n [[ 7.0900000e+02  1.6057029e+00]]\n\n [[ 5.6800000e+02  1.5707964e+00]]\n\n [[ 5.0100000e+02  1.6057029e+00]]\n\n [[ 2.4600000e+02  1.5707964e-01]]\n\n [[ 2.3100000e+02  1.2217305e-01]]\n\n [[ 4.5900000e+02  1.5882496e+00]]\n\n [[ 3.5000000e+02  1.5882496e+00]]\n\n [[ 4.5700000e+02  1.5882496e+00]]\n\n [[ 3.8500000e+02  1.5707964e+00]]\n\n [[ 6.2800000e+02  1.5882496e+00]]\n\n [[ 4.6200000e+02  1.5707964e+00]]\n\n [[ 5.0600000e+02  1.5882496e+00]]\n\n [[ 6.9100000e+02  1.6057029e+00]]\n\n [[ 5.6200000e+02  1.5882496e+00]]\n\n [[ 3.0500000e+02  1.5707964e+00]]\n\n [[-2.7200000e+02  2.9146998e+00]]\n\n [[ 7.0200000e+02  1.5707964e+00]]\n\n [[ 5.0300000e+02  1.5882496e+00]]]\n"
     ]
    }
   ],
   "source": [
    "img = cv.imread(\"stair.png\")\n",
    "blur = cv.GaussianBlur(img, (3,3), 0)\n",
    "grey = cv.cvtColor(blur, cv.COLOR_BGR2GRAY)\n",
    "edge = cv.Canny(grey, 100, 150, apertureSize=3)\n",
    "cv.imshow(\"Edge\",edge)\n",
    "lines = cv.HoughLines(edge, 1, np.pi/180, 110)\n",
    "print(lines)"
   ]
  },
  {
   "cell_type": "code",
   "execution_count": 3,
   "metadata": {},
   "outputs": [
    {
     "output_type": "error",
     "ename": "KeyboardInterrupt",
     "evalue": "",
     "traceback": [
      "\u001b[1;31m---------------------------------------------------------------------------\u001b[0m",
      "\u001b[1;31mKeyboardInterrupt\u001b[0m                         Traceback (most recent call last)",
      "\u001b[1;32m<ipython-input-3-081298e2f8bd>\u001b[0m in \u001b[0;36m<module>\u001b[1;34m\u001b[0m\n\u001b[0;32m     20\u001b[0m \u001b[0mcv\u001b[0m\u001b[1;33m.\u001b[0m\u001b[0mimshow\u001b[0m\u001b[1;33m(\u001b[0m\u001b[1;34m'Stair'\u001b[0m\u001b[1;33m,\u001b[0m \u001b[0mimg\u001b[0m\u001b[1;33m)\u001b[0m\u001b[1;33m\u001b[0m\u001b[1;33m\u001b[0m\u001b[0m\n\u001b[0;32m     21\u001b[0m \u001b[1;33m\u001b[0m\u001b[0m\n\u001b[1;32m---> 22\u001b[1;33m \u001b[0mk\u001b[0m \u001b[1;33m=\u001b[0m \u001b[0mcv\u001b[0m\u001b[1;33m.\u001b[0m\u001b[0mwaitKey\u001b[0m\u001b[1;33m(\u001b[0m\u001b[1;36m0\u001b[0m\u001b[1;33m)\u001b[0m\u001b[1;33m\u001b[0m\u001b[1;33m\u001b[0m\u001b[0m\n\u001b[0m\u001b[0;32m     23\u001b[0m \u001b[0mcv\u001b[0m\u001b[1;33m.\u001b[0m\u001b[0mdestroyAllWindows\u001b[0m\u001b[1;33m\u001b[0m\u001b[1;33m\u001b[0m\u001b[0m\n",
      "\u001b[1;31mKeyboardInterrupt\u001b[0m: "
     ]
    }
   ],
   "source": [
    "for line in lines:\n",
    "    rho,theta = line[0]\n",
    "    a = np.cos(theta)\n",
    "    b = np.sin(theta)\n",
    "    x0 = a * rho\n",
    "    y0 = b * rho\n",
    "    # x1 stores the rounded off value of (r * cos(theta) - 1000 * sin(theta))\n",
    "    x1 = int(x0 + 1000 * (-b))\n",
    "    # y1 stores the rounded off value of (r * sin(theta)+ 1000 * cos(theta))\n",
    "    y1 = int(y0 + 1000 * (a))\n",
    "    # x2 stores the rounded off value of (r * cos(theta)+ 1000 * sin(theta))\n",
    "    x2 = int(x0 - 1000 * (-b))\n",
    "    # y2 stores the rounded off value of (r * sin(theta)- 1000 * cos(theta))\n",
    "    y2 = int(y0 - 1000 * (a))\n",
    "    \n",
    "    cv.line(img, (x1, y1), (x2, y2), (0, 0, 255), 2)    \n",
    "\n",
    "\n",
    "\n",
    "cv.imshow('Stair', img)\n",
    "\n",
    "k = cv.waitKey(0)\n",
    "cv.destroyAllWindows"
   ]
  },
  {
   "cell_type": "code",
   "execution_count": null,
   "metadata": {},
   "outputs": [],
   "source": []
  }
 ]
}