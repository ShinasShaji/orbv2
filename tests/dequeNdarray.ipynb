{
 "metadata": {
  "language_info": {
   "codemirror_mode": {
    "name": "ipython",
    "version": 3
   },
   "file_extension": ".py",
   "mimetype": "text/x-python",
   "name": "python",
   "nbconvert_exporter": "python",
   "pygments_lexer": "ipython3",
   "version": "3.7.3"
  },
  "orig_nbformat": 2,
  "kernelspec": {
   "name": "python373jvsc74a57bd034d9fd4794b4aa62af7c694b698b8481ba4eb70d629f53257a855dbffddd8207",
   "display_name": "Python 3.7.3 32-bit ('bot': venv)",
   "language": "python"
  }
 },
 "nbformat": 4,
 "nbformat_minor": 2,
 "cells": [
  {
   "source": [
    "# Testing deque-ndarray compatibility"
   ],
   "cell_type": "markdown",
   "metadata": {}
  },
  {
   "cell_type": "code",
   "execution_count": 32,
   "metadata": {},
   "outputs": [],
   "source": [
    "import numpy as np\n",
    "from collections import deque"
   ]
  },
  {
   "cell_type": "code",
   "execution_count": 33,
   "metadata": {},
   "outputs": [
    {
     "output_type": "stream",
     "name": "stdout",
     "text": [
      "[[[0. 0. 0.]\n  [0. 0. 0.]\n  [0. 0. 0.]]\n\n [[0. 0. 0.]\n  [0. 0. 0.]\n  [0. 0. 0.]]\n\n [[0. 0. 0.]\n  [0. 0. 0.]\n  [0. 0. 0.]]\n\n [[0. 0. 0.]\n  [0. 0. 0.]\n  [0. 0. 0.]]\n\n [[0. 0. 0.]\n  [0. 0. 0.]\n  [0. 0. 0.]]\n\n [[0. 0. 0.]\n  [0. 0. 0.]\n  [0. 0. 0.]]\n\n [[0. 0. 0.]\n  [0. 0. 0.]\n  [0. 0. 0.]]]\n"
     ]
    }
   ],
   "source": [
    "h=np.zeros((7,3,3))\n",
    "print(h)"
   ]
  },
  {
   "cell_type": "code",
   "execution_count": 34,
   "metadata": {},
   "outputs": [
    {
     "output_type": "stream",
     "name": "stdout",
     "text": [
      "deque([array([[2., 2., 2.],\n       [2., 2., 2.],\n       [2., 2., 2.]]), array([[1., 1., 1.],\n       [1., 1., 1.],\n       [1., 1., 1.]]), array([[1., 0., 0.],\n       [0., 1., 0.],\n       [0., 0., 1.]])], maxlen=7)\n"
     ]
    }
   ],
   "source": [
    "i = deque(maxlen=7)\n",
    "i.appendleft(np.eye((3))) # latest first\n",
    "i.appendleft(np.ones((3,3)))\n",
    "i.appendleft(np.ones((3,3))*2)\n",
    "print(i)"
   ]
  },
  {
   "cell_type": "code",
   "execution_count": 35,
   "metadata": {},
   "outputs": [
    {
     "output_type": "stream",
     "name": "stdout",
     "text": [
      "[[[2. 2. 2.]\n  [2. 2. 2.]\n  [2. 2. 2.]]\n\n [[1. 1. 1.]\n  [1. 1. 1.]\n  [1. 1. 1.]]\n\n [[1. 0. 0.]\n  [0. 1. 0.]\n  [0. 0. 1.]]\n\n [[0. 0. 0.]\n  [0. 0. 0.]\n  [0. 0. 0.]]\n\n [[0. 0. 0.]\n  [0. 0. 0.]\n  [0. 0. 0.]]\n\n [[0. 0. 0.]\n  [0. 0. 0.]\n  [0. 0. 0.]]\n\n [[0. 0. 0.]\n  [0. 0. 0.]\n  [0. 0. 0.]]]\n63\n(7, 3, 3)\n[[[2. 2. 2.]\n  [2. 2. 2.]\n  [2. 2. 2.]]\n\n [[1. 1. 1.]\n  [1. 1. 1.]\n  [1. 1. 1.]]]\n"
     ]
    }
   ],
   "source": [
    "h[:len(i)]=i\n",
    "print(h)\n",
    "print(h.size)\n",
    "print(h.shape)\n",
    "print(h[:2])"
   ]
  },
  {
   "cell_type": "code",
   "execution_count": 36,
   "metadata": {},
   "outputs": [
    {
     "output_type": "stream",
     "name": "stdout",
     "text": [
      "[[0. 0. 0. 0.]\n",
      " [0. 0. 0. 0.]\n",
      " [0. 0. 0. 0.]\n",
      " [0. 0. 0. 0.]\n",
      " [0. 0. 0. 0.]\n",
      " [0. 0. 0. 0.]\n",
      " [0. 0. 0. 0.]]\n",
      "28\n"
     ]
    }
   ],
   "source": [
    "j = np.zeros((7,4))\n",
    "print(j)\n",
    "print(j.size)"
   ]
  },
  {
   "cell_type": "code",
   "execution_count": 37,
   "metadata": {},
   "outputs": [
    {
     "output_type": "stream",
     "name": "stdout",
     "text": [
      "deque([array([ 0,  0,  0, 23]), [4, 7, 2, 20], [4, 6, 3, 18], [5, 5, 5, 16]], maxlen=7)\n[[ 0.  0.  0. 23.]\n [ 4.  7.  2. 20.]\n [ 4.  6.  3. 18.]\n [ 5.  5.  5. 16.]\n [ 0.  0.  0.  0.]\n [ 0.  0.  0.  0.]\n [ 0.  0.  0.  0.]]\n"
     ]
    }
   ],
   "source": [
    "k = deque(maxlen=7)\n",
    "k.appendleft([5,5,5,16])\n",
    "k.appendleft([4,6,3,18])\n",
    "k.appendleft([4,7,2,20])\n",
    "k.appendleft(np.hstack((np.array([0,0,0]), 23)))\n",
    "print(k)\n",
    "j[:len(k)]=k\n",
    "print(j)"
   ]
  },
  {
   "cell_type": "code",
   "execution_count": 8,
   "metadata": {},
   "outputs": [
    {
     "output_type": "stream",
     "name": "stdout",
     "text": [
      "[[ 0.  0.  0. 23.]\n [ 4.  7.  2. 20.]\n [ 4.  6.  3. 18.]\n [ 5.  5.  5. 16.]\n [ 0.  0.  0.  0.]\n [ 0.  0.  0.  0.]\n [ 0.  0.  0.  0.]]\n"
     ]
    }
   ],
   "source": []
  },
  {
   "cell_type": "code",
   "execution_count": 38,
   "metadata": {},
   "outputs": [
    {
     "output_type": "stream",
     "name": "stdout",
     "text": [
      "[ 0.  0.  0. 23.  4.  7.  2. 20.  4.  6.  3. 18.  5.  5.  5. 16.  0.  0.\n  0.  0.  0.  0.  0.  0.  0.  0.  0.  0.]\n[[ 0.  0.  0. 23.]\n [ 4.  7.  2. 20.]\n [ 4.  6.  3. 18.]\n [ 5.  5.  5. 16.]\n [ 0.  0.  0.  0.]\n [ 0.  0.  0.  0.]\n [ 0.  0.  0.  0.]]\n[[0. 0. 0. 0.]\n [0. 0. 0. 0.]\n [0. 0. 0. 0.]\n [0. 0. 0. 0.]\n [0. 0. 0. 0.]\n [0. 0. 0. 0.]\n [0. 0. 0. 0.]]\n"
     ]
    }
   ],
   "source": [
    "l = np.ravel(j)\n",
    "print(l)\n",
    "o = l.copy().reshape((j.shape[0], j.shape[1]))\n",
    "print(o)\n",
    "o[:]=0\n",
    "print(o)"
   ]
  },
  {
   "cell_type": "code",
   "execution_count": 39,
   "metadata": {},
   "outputs": [
    {
     "output_type": "stream",
     "name": "stdout",
     "text": [
      "[False False False  True False False False]\n"
     ]
    }
   ],
   "source": [
    "time = 16.0\n",
    "mask = j[:,3]==time\n",
    "print(mask)"
   ]
  },
  {
   "cell_type": "code",
   "execution_count": 40,
   "metadata": {},
   "outputs": [
    {
     "output_type": "stream",
     "name": "stdout",
     "text": [
      "[[0. 0. 0.]\n [0. 0. 0.]\n [0. 0. 0.]]\n[5. 5. 5.]\n"
     ]
    }
   ],
   "source": [
    "print(h[mask][0])\n",
    "print(j[mask][0][:-1])"
   ]
  },
  {
   "cell_type": "code",
   "execution_count": 41,
   "metadata": {},
   "outputs": [
    {
     "output_type": "stream",
     "name": "stdout",
     "text": [
      "[[0.]\n [0.]\n [0.]]\n"
     ]
    }
   ],
   "source": [
    "T=np.zeros((3,1))\n",
    "print(T)"
   ]
  },
  {
   "cell_type": "code",
   "execution_count": 42,
   "metadata": {},
   "outputs": [
    {
     "output_type": "stream",
     "name": "stdout",
     "text": [
      "[[0. 0. 0.]]\n"
     ]
    }
   ],
   "source": [
    "print(T.T)"
   ]
  },
  {
   "cell_type": "code",
   "execution_count": 43,
   "metadata": {},
   "outputs": [
    {
     "output_type": "stream",
     "name": "stdout",
     "text": [
      "[0 0 0]\n[0 0 0]\n(3,)\n[[0]\n [0]\n [0]]\n(3, 1)\n"
     ]
    }
   ],
   "source": [
    "T=np.array([0, 0, 0])\n",
    "print(T)\n",
    "print(T.T)\n",
    "print(T.T.shape)\n",
    "T=np.array([np.array([0,0,0])]).T\n",
    "print(T)\n",
    "print(T.shape)"
   ]
  },
  {
   "cell_type": "code",
   "execution_count": 44,
   "metadata": {},
   "outputs": [
    {
     "output_type": "stream",
     "name": "stdout",
     "text": [
      "[[1. 1. 1. 1.]\n [1. 1. 1. 1.]\n [1. 1. 1. 1.]\n [1. 1. 1. 1.]]\n[1. 1. 1.]\n(3,)\n"
     ]
    }
   ],
   "source": [
    "p=np.ones((4,4))\n",
    "print(p)\n",
    "q = p[:3,3]\n",
    "print(q)\n",
    "print(q.shape)"
   ]
  },
  {
   "cell_type": "code",
   "execution_count": 45,
   "metadata": {},
   "outputs": [
    {
     "output_type": "stream",
     "name": "stdout",
     "text": [
      "[0 0 0 0 0 0 0 0 0 0 0 0 0 0 0 0 0 0 0 0 0 0 0 0 0 0 0 0 0 0 0 0 0 0 0 0 0\n 0 0 0 0 0 0 0 0 0 0 0 0 0 0 0 0 0 0 0 0 0 0 0 0 0 0]\n[[[0 0 0]\n  [0 0 0]\n  [0 0 0]]\n\n [[0 0 0]\n  [0 0 0]\n  [0 0 0]]\n\n [[0 0 0]\n  [0 0 0]\n  [0 0 0]]\n\n [[0 0 0]\n  [0 0 0]\n  [0 0 0]]\n\n [[0 0 0]\n  [0 0 0]\n  [0 0 0]]\n\n [[0 0 0]\n  [0 0 0]\n  [0 0 0]]\n\n [[0 0 0]\n  [0 0 0]\n  [0 0 0]]]\ndeque([array([[ 0,  0,  1],\n       [ 0,  1,  0],\n       [-1,  0,  0]])], maxlen=7)\n[[[ 0  0  1]\n  [ 0  1  0]\n  [-1  0  0]]\n\n [[ 0  0  0]\n  [ 0  0  0]\n  [ 0  0  0]]\n\n [[ 0  0  0]\n  [ 0  0  0]\n  [ 0  0  0]]\n\n [[ 0  0  0]\n  [ 0  0  0]\n  [ 0  0  0]]\n\n [[ 0  0  0]\n  [ 0  0  0]\n  [ 0  0  0]]\n\n [[ 0  0  0]\n  [ 0  0  0]\n  [ 0  0  0]]\n\n [[ 0  0  0]\n  [ 0  0  0]\n  [ 0  0  0]]]\n"
     ]
    }
   ],
   "source": [
    "h = np.zeros(63).astype(int)\n",
    "print(h)\n",
    "j = h.reshape((7,3,3))\n",
    "print(j)\n",
    "k = deque(maxlen=7)\n",
    "k.appendleft(np.array([ [ 0,  0, -1],\n",
    "                        [ 0,  1,  0],\n",
    "                        [ 1,  0,  0] ]).copy().T)\n",
    "print(k)\n",
    "j[:len(k)] = k\n",
    "print(j)"
   ]
  },
  {
   "cell_type": "code",
   "execution_count": 46,
   "metadata": {},
   "outputs": [
    {
     "output_type": "stream",
     "name": "stdout",
     "text": [
      "[[1. 1. 1.]\n [1. 1. 1.]\n [1. 1. 1.]]\n[[0.9 0.9 0.9]\n [0.9 0.9 0.9]\n [0.9 0.9 0.9]]\n[[0.1 0.1 0.1]\n [0.1 0.1 0.1]\n [0.1 0.1 0.1]]\nTrue\n"
     ]
    }
   ],
   "source": [
    "o = np.ones([3,3])\n",
    "print(o)\n",
    "p = o*0.9\n",
    "print(p)\n",
    "l = abs(o-p)\n",
    "print(l)\n",
    "mask = np.any(l>0.05)\n",
    "print(mask)"
   ]
  },
  {
   "cell_type": "code",
   "execution_count": 47,
   "metadata": {},
   "outputs": [
    {
     "output_type": "stream",
     "name": "stdout",
     "text": [
      "deque([array([ 0,  0,  0, 44]), [4, 7, 2, 37], [4, 6, 3, 21], [5, 5, 5, 16]], maxlen=7)\n[[0. 0. 0. 0.]\n [0. 0. 0. 0.]\n [0. 0. 0. 0.]\n [0. 0. 0. 0.]\n [0. 0. 0. 0.]\n [0. 0. 0. 0.]\n [0. 0. 0. 0.]]\n28\n[[ 0.  0.  0. 44.]\n [ 4.  7.  2. 37.]\n [ 4.  6.  3. 21.]\n [ 5.  5.  5. 16.]\n [ 0.  0.  0.  0.]\n [ 0.  0.  0.  0.]\n [ 0.  0.  0.  0.]]\n"
     ]
    }
   ],
   "source": [
    "k = deque(maxlen=7)\n",
    "k.appendleft([5,5,5,16])\n",
    "k.appendleft([4,6,3,21])\n",
    "k.appendleft([4,7,2,37])\n",
    "k.appendleft(np.hstack((np.array([0,0,0]), 44)))\n",
    "print(k)\n",
    "j = np.zeros((7,4))\n",
    "print(j)\n",
    "print(j.size)\n",
    "j[:len(k)]=k\n",
    "print(j)"
   ]
  },
  {
   "cell_type": "code",
   "execution_count": 48,
   "metadata": {},
   "outputs": [
    {
     "output_type": "stream",
     "name": "stdout",
     "text": [
      "[ 6. 13. 29. 34. 50. 50. 50.]\n[ 0.  0.  0. 44.]\n"
     ]
    }
   ],
   "source": [
    "time = 50\n",
    "timediff = abs(j[:,3]-time)\n",
    "print(timediff)\n",
    "m = np.argmin(timediff)\n",
    "n = j[m]\n",
    "print(n)"
   ]
  },
  {
   "cell_type": "code",
   "execution_count": 49,
   "metadata": {},
   "outputs": [
    {
     "output_type": "stream",
     "name": "stdout",
     "text": [
      "[0 0 0 0 0 0 0 0 0 0 0 0 0 0 0 0 0 0 0 0 0 0 0 0 0 0 0 0 0 0 0 0 0 0 0 0 0\n 0 0 0 0 0 0 0 0 0 0 0 0 0 0 0 0 0 0 0 0 0 0 0 0 0 0]\n[[[0 0 0]\n  [0 0 0]\n  [0 0 0]]\n\n [[0 0 0]\n  [0 0 0]\n  [0 0 0]]\n\n [[0 0 0]\n  [0 0 0]\n  [0 0 0]]\n\n [[0 0 0]\n  [0 0 0]\n  [0 0 0]]\n\n [[0 0 0]\n  [0 0 0]\n  [0 0 0]]\n\n [[0 0 0]\n  [0 0 0]\n  [0 0 0]]\n\n [[0 0 0]\n  [0 0 0]\n  [0 0 0]]]\ndeque([array([[ 0,  0,  1],\n       [ 0,  1,  0],\n       [-1,  0,  0]])], maxlen=7)\n[[[ 0  0  1]\n  [ 0  1  0]\n  [-1  0  0]]\n\n [[ 0  0  0]\n  [ 0  0  0]\n  [ 0  0  0]]\n\n [[ 0  0  0]\n  [ 0  0  0]\n  [ 0  0  0]]\n\n [[ 0  0  0]\n  [ 0  0  0]\n  [ 0  0  0]]\n\n [[ 0  0  0]\n  [ 0  0  0]\n  [ 0  0  0]]\n\n [[ 0  0  0]\n  [ 0  0  0]\n  [ 0  0  0]]\n\n [[ 0  0  0]\n  [ 0  0  0]\n  [ 0  0  0]]]\n"
     ]
    }
   ],
   "source": [
    "h = np.zeros(63).astype(int)\n",
    "print(h)\n",
    "j = h.reshape((7,3,3))\n",
    "print(j)\n",
    "k = deque(maxlen=7)\n",
    "k.appendleft(np.array([ [ 0,  0, -1],\n",
    "                        [ 0,  1,  0],\n",
    "                        [ 1,  0,  0] ]).copy().T)\n",
    "print(k)\n",
    "j[:len(k)] = k\n",
    "print(j)"
   ]
  },
  {
   "cell_type": "code",
   "execution_count": 50,
   "metadata": {},
   "outputs": [
    {
     "output_type": "stream",
     "name": "stdout",
     "text": [
      "[[ 0  0  1]\n [ 0  1  0]\n [-1  0  0]]\n"
     ]
    }
   ],
   "source": [
    "print(j[m])"
   ]
  },
  {
   "cell_type": "code",
   "execution_count": null,
   "metadata": {},
   "outputs": [],
   "source": []
  }
 ]
}