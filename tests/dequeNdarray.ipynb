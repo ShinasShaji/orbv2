{
 "metadata": {
  "language_info": {
   "codemirror_mode": {
    "name": "ipython",
    "version": 3
   },
   "file_extension": ".py",
   "mimetype": "text/x-python",
   "name": "python",
   "nbconvert_exporter": "python",
   "pygments_lexer": "ipython3",
   "version": "3.9.5"
  },
  "orig_nbformat": 2,
  "kernelspec": {
   "name": "python395jvsc74a57bd0db0a26c5bbeef1f23c91478964262336e31ff82e61bf6c9cdf8c3af86c253e62",
   "display_name": "Python 3.9.5 64-bit ('orb': venv)",
   "language": "python"
  }
 },
 "nbformat": 4,
 "nbformat_minor": 2,
 "cells": [
  {
   "source": [
    "# Testing deque-ndarray compatibility"
   ],
   "cell_type": "markdown",
   "metadata": {}
  },
  {
   "cell_type": "code",
   "execution_count": 2,
   "metadata": {},
   "outputs": [],
   "source": [
    "import numpy as np\n",
    "from collections import deque"
   ]
  },
  {
   "cell_type": "code",
   "execution_count": 3,
   "metadata": {},
   "outputs": [
    {
     "output_type": "stream",
     "name": "stdout",
     "text": [
      "[[[0. 0. 0.]\n  [0. 0. 0.]\n  [0. 0. 0.]]\n\n [[0. 0. 0.]\n  [0. 0. 0.]\n  [0. 0. 0.]]\n\n [[0. 0. 0.]\n  [0. 0. 0.]\n  [0. 0. 0.]]\n\n [[0. 0. 0.]\n  [0. 0. 0.]\n  [0. 0. 0.]]\n\n [[0. 0. 0.]\n  [0. 0. 0.]\n  [0. 0. 0.]]\n\n [[0. 0. 0.]\n  [0. 0. 0.]\n  [0. 0. 0.]]\n\n [[0. 0. 0.]\n  [0. 0. 0.]\n  [0. 0. 0.]]]\n"
     ]
    }
   ],
   "source": [
    "h=np.zeros((7,3,3))\n",
    "print(h)"
   ]
  },
  {
   "cell_type": "code",
   "execution_count": 31,
   "metadata": {},
   "outputs": [
    {
     "output_type": "stream",
     "name": "stdout",
     "text": [
      "deque([array([[2., 2., 2.],\n       [2., 2., 2.],\n       [2., 2., 2.]]), array([[1., 1., 1.],\n       [1., 1., 1.],\n       [1., 1., 1.]]), array([[1., 0., 0.],\n       [0., 1., 0.],\n       [0., 0., 1.]])], maxlen=7)\n"
     ]
    }
   ],
   "source": [
    "i = deque(maxlen=7)\n",
    "i.appendleft(np.eye((3))) # latest first\n",
    "i.appendleft(np.ones((3,3)))\n",
    "i.appendleft(np.ones((3,3))*2)\n",
    "print(i)"
   ]
  },
  {
   "cell_type": "code",
   "execution_count": 39,
   "metadata": {},
   "outputs": [
    {
     "output_type": "stream",
     "name": "stdout",
     "text": [
      "[[[2. 2. 2.]\n  [2. 2. 2.]\n  [2. 2. 2.]]\n\n [[1. 1. 1.]\n  [1. 1. 1.]\n  [1. 1. 1.]]\n\n [[1. 0. 0.]\n  [0. 1. 0.]\n  [0. 0. 1.]]\n\n [[0. 0. 0.]\n  [0. 0. 0.]\n  [0. 0. 0.]]\n\n [[0. 0. 0.]\n  [0. 0. 0.]\n  [0. 0. 0.]]\n\n [[0. 0. 0.]\n  [0. 0. 0.]\n  [0. 0. 0.]]\n\n [[0. 0. 0.]\n  [0. 0. 0.]\n  [0. 0. 0.]]]\n63\n(7, 3, 3)\n[[[2. 2. 2.]\n  [2. 2. 2.]\n  [2. 2. 2.]]\n\n [[1. 1. 1.]\n  [1. 1. 1.]\n  [1. 1. 1.]]]\n"
     ]
    }
   ],
   "source": [
    "h[:len(i)]=i\n",
    "print(h)\n",
    "print(h.size)\n",
    "print(h.shape)\n",
    "print(h[:2])"
   ]
  },
  {
   "cell_type": "code",
   "execution_count": 6,
   "metadata": {},
   "outputs": [
    {
     "output_type": "stream",
     "name": "stdout",
     "text": [
      "[[0. 0. 0. 0.]\n [0. 0. 0. 0.]\n [0. 0. 0. 0.]\n [0. 0. 0. 0.]\n [0. 0. 0. 0.]\n [0. 0. 0. 0.]\n [0. 0. 0. 0.]]\n28\n"
     ]
    }
   ],
   "source": [
    "j = np.zeros((7,4))\n",
    "print(j)\n",
    "print(j.size)"
   ]
  },
  {
   "cell_type": "code",
   "execution_count": 32,
   "metadata": {},
   "outputs": [
    {
     "output_type": "stream",
     "name": "stdout",
     "text": [
      "deque([array([ 0,  0,  0, 23]), [4, 7, 2, 20], [4, 6, 3, 18], [5, 5, 5, 16]], maxlen=7)\n"
     ]
    }
   ],
   "source": [
    "k = deque(maxlen=7)\n",
    "k.appendleft([5,5,5,16])\n",
    "k.appendleft([4,6,3,18])\n",
    "k.appendleft([4,7,2,20])\n",
    "k.appendleft(np.hstack((np.array([0,0,0]), 23)))\n",
    "print(k)"
   ]
  },
  {
   "cell_type": "code",
   "execution_count": 33,
   "metadata": {},
   "outputs": [
    {
     "output_type": "stream",
     "name": "stdout",
     "text": [
      "[[ 0.  0.  0. 23.]\n [ 4.  7.  2. 20.]\n [ 4.  6.  3. 18.]\n [ 5.  5.  5. 16.]\n [ 0.  0.  0.  0.]\n [ 0.  0.  0.  0.]\n [ 0.  0.  0.  0.]]\n"
     ]
    }
   ],
   "source": [
    "j[:len(k)]=k\n",
    "print(j)"
   ]
  },
  {
   "cell_type": "code",
   "execution_count": 26,
   "metadata": {},
   "outputs": [
    {
     "output_type": "stream",
     "name": "stdout",
     "text": [
      "[ 4.  7.  2. 20.  4.  6.  3. 18.  5.  5.  5. 16.  0.  0.  0.  0.  0.  0.\n  0.  0.  0.  0.  0.  0.  0.  0.  0.  0.]\n[[ 4.  7.  2. 20.]\n [ 4.  6.  3. 18.]\n [ 5.  5.  5. 16.]\n [ 0.  0.  0.  0.]\n [ 0.  0.  0.  0.]\n [ 0.  0.  0.  0.]\n [ 0.  0.  0.  0.]]\n[[0. 0. 0. 0.]\n [0. 0. 0. 0.]\n [0. 0. 0. 0.]\n [0. 0. 0. 0.]\n [0. 0. 0. 0.]\n [0. 0. 0. 0.]\n [0. 0. 0. 0.]]\n"
     ]
    }
   ],
   "source": [
    "l = np.ravel(j)\n",
    "print(l)\n",
    "o = l.reshape((j.shape[0], j.shape[1]))\n",
    "print(o)\n",
    "o[:]=0\n",
    "print(o)"
   ]
  },
  {
   "cell_type": "code",
   "execution_count": 10,
   "metadata": {},
   "outputs": [
    {
     "output_type": "stream",
     "name": "stdout",
     "text": [
      "[False False  True False False False False]\n"
     ]
    }
   ],
   "source": [
    "time = 16\n",
    "mask = j[:,3]==time\n",
    "print(mask)"
   ]
  },
  {
   "cell_type": "code",
   "execution_count": 11,
   "metadata": {},
   "outputs": [
    {
     "output_type": "stream",
     "name": "stdout",
     "text": [
      "[[1. 0. 0.]\n [0. 1. 0.]\n [0. 0. 1.]]\n[5. 5. 5.]\n"
     ]
    }
   ],
   "source": [
    "print(h[mask][0])\n",
    "print(j[mask][0][:-1])"
   ]
  },
  {
   "cell_type": "code",
   "execution_count": 13,
   "metadata": {},
   "outputs": [
    {
     "output_type": "stream",
     "name": "stdout",
     "text": [
      "[[0.]\n [0.]\n [0.]]\n"
     ]
    }
   ],
   "source": [
    "T=np.zeros((3,1))\n",
    "print(T)"
   ]
  },
  {
   "cell_type": "code",
   "execution_count": 14,
   "metadata": {},
   "outputs": [
    {
     "output_type": "stream",
     "name": "stdout",
     "text": [
      "[[0. 0. 0.]]\n"
     ]
    }
   ],
   "source": [
    "print(T.T)"
   ]
  },
  {
   "cell_type": "code",
   "execution_count": 24,
   "metadata": {},
   "outputs": [
    {
     "output_type": "stream",
     "name": "stdout",
     "text": [
      "[0 0 0]\n[0 0 0]\n(3,)\n[[0]\n [0]\n [0]]\n(3, 1)\n"
     ]
    }
   ],
   "source": [
    "T=np.array([0, 0, 0])\n",
    "print(T)\n",
    "print(T.T)\n",
    "print(T.T.shape)\n",
    "T=np.array([np.array([0,0,0])]).T\n",
    "print(T)\n",
    "print(T.shape)"
   ]
  },
  {
   "cell_type": "code",
   "execution_count": 37,
   "metadata": {},
   "outputs": [
    {
     "output_type": "stream",
     "name": "stdout",
     "text": [
      "[[1. 1. 1. 1.]\n [1. 1. 1. 1.]\n [1. 1. 1. 1.]\n [1. 1. 1. 1.]]\n[1. 1. 1.]\n(3,)\n"
     ]
    }
   ],
   "source": [
    "p=np.ones((4,4))\n",
    "print(p)\n",
    "q = p[:3,3]\n",
    "print(q)\n",
    "print(q.shape)"
   ]
  },
  {
   "cell_type": "code",
   "execution_count": null,
   "metadata": {},
   "outputs": [],
   "source": []
  }
 ]
}