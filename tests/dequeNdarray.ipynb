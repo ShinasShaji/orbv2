{
 "metadata": {
  "language_info": {
   "codemirror_mode": {
    "name": "ipython",
    "version": 3
   },
   "file_extension": ".py",
   "mimetype": "text/x-python",
   "name": "python",
   "nbconvert_exporter": "python",
   "pygments_lexer": "ipython3",
   "version": "3.6.8"
  },
  "orig_nbformat": 2,
  "kernelspec": {
   "name": "python368jvsc74a57bd0f7291e4b392a32fbfa525b87d1bbd0a3d888adf3d0deca0c205c61b9e7284b82",
   "display_name": "Python 3.6.8 64-bit"
  }
 },
 "nbformat": 4,
 "nbformat_minor": 2,
 "cells": [
  {
   "source": [
    "# Testing deque-ndarray compatibility"
   ],
   "cell_type": "markdown",
   "metadata": {}
  },
  {
   "cell_type": "code",
   "execution_count": 12,
   "metadata": {},
   "outputs": [],
   "source": [
    "import numpy as np\n",
    "from collections import deque"
   ]
  },
  {
   "cell_type": "code",
   "execution_count": 13,
   "metadata": {},
   "outputs": [
    {
     "output_type": "stream",
     "name": "stdout",
     "text": [
      "[[[0. 0. 0.]\n  [0. 0. 0.]\n  [0. 0. 0.]]\n\n [[0. 0. 0.]\n  [0. 0. 0.]\n  [0. 0. 0.]]\n\n [[0. 0. 0.]\n  [0. 0. 0.]\n  [0. 0. 0.]]\n\n [[0. 0. 0.]\n  [0. 0. 0.]\n  [0. 0. 0.]]\n\n [[0. 0. 0.]\n  [0. 0. 0.]\n  [0. 0. 0.]]\n\n [[0. 0. 0.]\n  [0. 0. 0.]\n  [0. 0. 0.]]\n\n [[0. 0. 0.]\n  [0. 0. 0.]\n  [0. 0. 0.]]]\n"
     ]
    }
   ],
   "source": [
    "h=np.zeros((7,3,3))\n",
    "print(h)"
   ]
  },
  {
   "cell_type": "code",
   "execution_count": 14,
   "metadata": {},
   "outputs": [
    {
     "output_type": "stream",
     "name": "stdout",
     "text": [
      "deque([array([[2., 2., 2.],\n       [2., 2., 2.],\n       [2., 2., 2.]]), array([[1., 1., 1.],\n       [1., 1., 1.],\n       [1., 1., 1.]]), array([[1., 0., 0.],\n       [0., 1., 0.],\n       [0., 0., 1.]])], maxlen=7)\n"
     ]
    }
   ],
   "source": [
    "i = deque(maxlen=7)\n",
    "i.appendleft(np.eye((3))) # latest first\n",
    "i.appendleft(np.ones((3,3)))\n",
    "i.appendleft(np.ones((3,3))*2)\n",
    "print(i)"
   ]
  },
  {
   "cell_type": "code",
   "execution_count": 15,
   "metadata": {},
   "outputs": [
    {
     "output_type": "stream",
     "name": "stdout",
     "text": [
      "[[[2. 2. 2.]\n  [2. 2. 2.]\n  [2. 2. 2.]]\n\n [[1. 1. 1.]\n  [1. 1. 1.]\n  [1. 1. 1.]]\n\n [[1. 0. 0.]\n  [0. 1. 0.]\n  [0. 0. 1.]]\n\n [[0. 0. 0.]\n  [0. 0. 0.]\n  [0. 0. 0.]]\n\n [[0. 0. 0.]\n  [0. 0. 0.]\n  [0. 0. 0.]]\n\n [[0. 0. 0.]\n  [0. 0. 0.]\n  [0. 0. 0.]]\n\n [[0. 0. 0.]\n  [0. 0. 0.]\n  [0. 0. 0.]]]\n63\n"
     ]
    }
   ],
   "source": [
    "h[:len(i)]=i\n",
    "print(h)\n",
    "print(h.size)"
   ]
  },
  {
   "cell_type": "code",
   "execution_count": 21,
   "metadata": {},
   "outputs": [
    {
     "output_type": "stream",
     "name": "stdout",
     "text": [
      "[[0. 0. 0. 0.]\n [0. 0. 0. 0.]\n [0. 0. 0. 0.]\n [0. 0. 0. 0.]\n [0. 0. 0. 0.]\n [0. 0. 0. 0.]\n [0. 0. 0. 0.]]\n28\n"
     ]
    }
   ],
   "source": [
    "j = np.zeros((7,4))\n",
    "print(j)\n",
    "print(j.size)"
   ]
  },
  {
   "cell_type": "code",
   "execution_count": 17,
   "metadata": {},
   "outputs": [
    {
     "output_type": "stream",
     "name": "stdout",
     "text": [
      "deque([[4, 7, 2, 20], [4, 6, 3, 18], [5, 5, 5, 16]], maxlen=7)\n"
     ]
    }
   ],
   "source": [
    "k = deque(maxlen=7)\n",
    "k.appendleft([5,5,5,16])\n",
    "k.appendleft([4,6,3,18])\n",
    "k.appendleft([4,7,2,20])\n",
    "print(k)"
   ]
  },
  {
   "cell_type": "code",
   "execution_count": 24,
   "metadata": {},
   "outputs": [
    {
     "output_type": "stream",
     "name": "stdout",
     "text": [
      "[[ 4.  7.  2. 20.]\n [ 4.  6.  3. 18.]\n [ 5.  5.  5. 16.]\n [ 0.  0.  0.  0.]\n [ 0.  0.  0.  0.]\n [ 0.  0.  0.  0.]\n [ 0.  0.  0.  0.]]\n"
     ]
    }
   ],
   "source": [
    "j[:len(k)]=k\n",
    "print(j)"
   ]
  },
  {
   "cell_type": "code",
   "execution_count": 26,
   "metadata": {},
   "outputs": [
    {
     "output_type": "stream",
     "name": "stdout",
     "text": [
      "[ 4.  7.  2. 20.  4.  6.  3. 18.  5.  5.  5. 16.  0.  0.  0.  0.  0.  0.\n  0.  0.  0.  0.  0.  0.  0.  0.  0.  0.]\n"
     ]
    },
    {
     "output_type": "execute_result",
     "data": {
      "text/plain": [
       "array([[ 4.,  7.,  2., 20.],\n",
       "       [ 4.,  6.,  3., 18.],\n",
       "       [ 5.,  5.,  5., 16.],\n",
       "       [ 0.,  0.,  0.,  0.],\n",
       "       [ 0.,  0.,  0.,  0.],\n",
       "       [ 0.,  0.,  0.,  0.],\n",
       "       [ 0.,  0.,  0.,  0.]])"
      ]
     },
     "metadata": {},
     "execution_count": 26
    }
   ],
   "source": [
    "l = np.ravel(j)\n",
    "print(l)\n",
    "l.reshape((j.shape[0], j.shape[1]))"
   ]
  },
  {
   "cell_type": "code",
   "execution_count": 19,
   "metadata": {},
   "outputs": [
    {
     "output_type": "stream",
     "name": "stdout",
     "text": [
      "[False False  True False False False False]\n"
     ]
    }
   ],
   "source": [
    "time = 16\n",
    "mask = j[:,3]==time\n",
    "print(mask)"
   ]
  },
  {
   "cell_type": "code",
   "execution_count": 20,
   "metadata": {},
   "outputs": [
    {
     "output_type": "stream",
     "name": "stdout",
     "text": [
      "[[1. 0. 0.]\n [0. 1. 0.]\n [0. 0. 1.]]\n[5. 5. 5.]\n"
     ]
    }
   ],
   "source": [
    "print(h[mask][0])\n",
    "print(j[mask][0][:-1])"
   ]
  },
  {
   "cell_type": "code",
   "execution_count": null,
   "metadata": {},
   "outputs": [],
   "source": []
  }
 ]
}