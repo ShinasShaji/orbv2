{
 "metadata": {
  "language_info": {
   "codemirror_mode": {
    "name": "ipython",
    "version": 3
   },
   "file_extension": ".py",
   "mimetype": "text/x-python",
   "name": "python",
   "nbconvert_exporter": "python",
   "pygments_lexer": "ipython3",
   "version": "3.8.5"
  },
  "orig_nbformat": 2,
  "kernelspec": {
   "name": "python385jvsc74a57bd0919eb0904b72c37e8d6c7e3b2f7b6f162c89cafcc297fba09b2d10c79c52f5eb",
   "display_name": "Python 3.8.5 64-bit ('base': conda)"
  },
  "metadata": {
   "interpreter": {
    "hash": "1b74fdc6a0069e63d7c35520416cfe241b2e1d296eedc56ee9c4fe2929446925"
   }
  }
 },
 "nbformat": 4,
 "nbformat_minor": 2,
 "cells": [
  {
   "source": [
    "# Stair detection"
   ],
   "cell_type": "markdown",
   "metadata": {}
  },
  {
   "cell_type": "code",
   "execution_count": 1,
   "metadata": {},
   "outputs": [
    {
     "output_type": "error",
     "ename": "ModuleNotFoundError",
     "evalue": "No module named 'cv2'",
     "traceback": [
      "\u001b[1;31m---------------------------------------------------------------------------\u001b[0m",
      "\u001b[1;31mModuleNotFoundError\u001b[0m                       Traceback (most recent call last)",
      "\u001b[1;32m<ipython-input-1-a02a50aa4106>\u001b[0m in \u001b[0;36m<module>\u001b[1;34m\u001b[0m\n\u001b[1;32m----> 1\u001b[1;33m \u001b[1;32mimport\u001b[0m \u001b[0mcv2\u001b[0m \u001b[1;32mas\u001b[0m \u001b[0mcv\u001b[0m\u001b[1;33m\u001b[0m\u001b[1;33m\u001b[0m\u001b[0m\n\u001b[0m\u001b[0;32m      2\u001b[0m \u001b[1;32mimport\u001b[0m \u001b[0mmatplotlib\u001b[0m\u001b[1;33m.\u001b[0m\u001b[0mpyplot\u001b[0m \u001b[1;32mas\u001b[0m \u001b[0mplt\u001b[0m\u001b[1;33m\u001b[0m\u001b[1;33m\u001b[0m\u001b[0m\n\u001b[0;32m      3\u001b[0m \u001b[1;32mimport\u001b[0m \u001b[0mnumpy\u001b[0m \u001b[1;32mas\u001b[0m \u001b[0mnp\u001b[0m\u001b[1;33m\u001b[0m\u001b[1;33m\u001b[0m\u001b[0m\n\u001b[0;32m      4\u001b[0m \u001b[1;32mfrom\u001b[0m \u001b[0mTimeKeeper\u001b[0m \u001b[1;32mimport\u001b[0m \u001b[0mTimeKeeper\u001b[0m\u001b[1;33m\u001b[0m\u001b[1;33m\u001b[0m\u001b[0m\n\u001b[0;32m      5\u001b[0m \u001b[1;33m\u001b[0m\u001b[0m\n",
      "\u001b[1;31mModuleNotFoundError\u001b[0m: No module named 'cv2'"
     ]
    }
   ],
   "source": [
    "import cv2 as cv\n",
    "import matplotlib.pyplot as plt\n",
    "import numpy as np\n",
    "from TimeKeeper import TimeKeeper\n",
    "\n",
    "np.set_printoptions(suppress=True)\n",
    "%matplotlib ipympl"
   ]
  },
  {
   "source": [
    "### Intialize Timekeeper"
   ],
   "cell_type": "markdown",
   "metadata": {}
  },
  {
   "cell_type": "code",
   "execution_count": null,
   "metadata": {},
   "outputs": [],
   "source": [
    "timekeeper = TimeKeeper()"
   ]
  },
  {
   "source": [
    "Function to display images inline"
   ],
   "cell_type": "markdown",
   "metadata": {}
  },
  {
   "cell_type": "code",
   "execution_count": 2,
   "metadata": {},
   "outputs": [],
   "source": [
    "def imshow(image, figsize):\n",
    "    plt.figure(figsize=figsize)\n",
    "    plt.imshow(cv.cvtColor(image, cv.COLOR_BGR2RGB))"
   ]
  },
  {
   "source": [
    "#### Function to do canny edge detection"
   ],
   "cell_type": "markdown",
   "metadata": {}
  },
  {
   "cell_type": "code",
   "execution_count": null,
   "metadata": {},
   "outputs": [],
   "source": [
    "def auto_canny(image, sigma=0.33):\n",
    "    # compute the median of the single channel pixel intensities\n",
    "    v = np.median(image)\n",
    "\n",
    "    # apply automatic Canny edge detection using the computed median\n",
    "    lower = int(max(0, (1.0 - sigma) * v))\n",
    "    upper = int(min(255, (1.0 + sigma) * v))\n",
    "    edged = cv.Canny(image, lower, upper)\n",
    "\n",
    "    # return the edged image\n",
    "    return edged"
   ]
  },
  {
   "source": [
    "### Reading images and detecting edges"
   ],
   "cell_type": "markdown",
   "metadata": {}
  },
  {
   "cell_type": "code",
   "execution_count": 3,
   "metadata": {},
   "outputs": [
    {
     "output_type": "display_data",
     "data": {
      "text/plain": "Canvas(toolbar=Toolbar(toolitems=[('Home', 'Reset original view', 'home', 'home'), ('Back', 'Back to previous …",
      "application/vnd.jupyter.widget-view+json": {
       "version_major": 2,
       "version_minor": 0,
       "model_id": "1861255d408649808a2098a2b913f266"
      }
     },
     "metadata": {}
    }
   ],
   "source": [
    "img = cv.imread(\"testImages\\stairDetectionTestImages\\stair.png\")\n",
    "blur = cv.GaussianBlur(img, (3,3), 0)\n",
    "grey = cv.cvtColor(blur, cv.COLOR_BGR2GRAY)\n",
    "# edge = cv.Canny(grey, 100, 150, apertureSize=3)\n",
    "edge = auto_canny(grey)\n",
    "\n",
    "imshow(edge, (7,7))"
   ]
  },
  {
   "source": [
    "### Fitting lines to edges"
   ],
   "cell_type": "markdown",
   "metadata": {}
  },
  {
   "cell_type": "code",
   "execution_count": 4,
   "metadata": {},
   "outputs": [
    {
     "output_type": "stream",
     "name": "stdout",
     "text": [
      "(27, 1, 2)\n[[[ 6.3300000e+02  1.5707964e+00]]\n\n [[ 3.0200000e+02  1.5707964e+00]]\n\n [[ 6.9500000e+02  1.5882496e+00]]\n\n [[ 4.2200000e+02  1.5707964e+00]]\n\n [[ 3.2900000e+02  1.5707964e+00]]\n\n [[ 6.2500000e+02  1.5707964e+00]]\n\n [[ 4.1600000e+02  1.5882496e+00]]\n\n [[ 2.3700000e+02  1.3962634e-01]]\n\n [[ 5.7100000e+02  1.5707964e+00]]\n\n [[ 7.0900000e+02  1.6057029e+00]]\n\n [[ 5.6800000e+02  1.5707964e+00]]\n\n [[ 5.0100000e+02  1.6057029e+00]]\n\n [[ 2.4600000e+02  1.5707964e-01]]\n\n [[ 2.3100000e+02  1.2217305e-01]]\n\n [[ 4.5900000e+02  1.5882496e+00]]\n\n [[ 3.5000000e+02  1.5882496e+00]]\n\n [[ 4.5700000e+02  1.5882496e+00]]\n\n [[ 3.8500000e+02  1.5707964e+00]]\n\n [[ 6.2800000e+02  1.5882496e+00]]\n\n [[ 4.6200000e+02  1.5707964e+00]]\n\n [[ 5.0600000e+02  1.5882496e+00]]\n\n [[ 6.9100000e+02  1.6057029e+00]]\n\n [[ 5.6200000e+02  1.5882496e+00]]\n\n [[ 3.0500000e+02  1.5707964e+00]]\n\n [[-2.7200000e+02  2.9146998e+00]]\n\n [[ 7.0200000e+02  1.5707964e+00]]\n\n [[ 5.0300000e+02  1.5882496e+00]]]\n"
     ]
    }
   ],
   "source": [
    "lines = cv.HoughLines(edge, 1, np.pi/180, 100)\n",
    "print(lines.shape)\n",
    "print(lines)"
   ]
  },
  {
   "source": [
    "### View lines"
   ],
   "cell_type": "markdown",
   "metadata": {}
  },
  {
   "cell_type": "code",
   "execution_count": 5,
   "metadata": {},
   "outputs": [
    {
     "output_type": "display_data",
     "data": {
      "text/plain": "Canvas(toolbar=Toolbar(toolitems=[('Home', 'Reset original view', 'home', 'home'), ('Back', 'Back to previous …",
      "application/vnd.jupyter.widget-view+json": {
       "version_major": 2,
       "version_minor": 0,
       "model_id": "c2cb4c42fba2444485900ae43857e83d"
      }
     },
     "metadata": {}
    }
   ],
   "source": [
    "for line in lines:\n",
    "    rho,theta = line[0]\n",
    "    a = np.cos(theta)\n",
    "    b = np.sin(theta)\n",
    "    x0 = a * rho\n",
    "    y0 = b * rho\n",
    "    # x1 stores the rounded off value of (r * cos(theta) - 1000 * sin(theta))\n",
    "    x1 = int(x0 + 1000 * (-b))\n",
    "    # y1 stores the rounded off value of (r * sin(theta)+ 1000 * cos(theta))\n",
    "    y1 = int(y0 + 1000 * (a))\n",
    "    # x2 stores the rounded off value of (r * cos(theta)+ 1000 * sin(theta))\n",
    "    x2 = int(x0 - 1000 * (-b))\n",
    "    # y2 stores the rounded off value of (r * sin(theta)- 1000 * cos(theta))\n",
    "    y2 = int(y0 - 1000 * (a))\n",
    "    \n",
    "    cv.line(img, (x1, y1), (x2, y2), (0, 0, 255), 2)    \n",
    "\n",
    "\n",
    "imshow(img, (7,7))"
   ]
  },
  {
   "source": [
    "## Stair Angles"
   ],
   "cell_type": "markdown",
   "metadata": {}
  },
  {
   "cell_type": "code",
   "execution_count": 6,
   "metadata": {},
   "outputs": [],
   "source": [
    "# Image refresh\n",
    "image = cv.imread(\"testImages\\stairDetectionTestImages\\stair.png\")"
   ]
  },
  {
   "source": [
    "### Find stair side angles"
   ],
   "cell_type": "markdown",
   "metadata": {}
  },
  {
   "source": [
    "def returnStairSides(image, lines):\n",
    "    \"\"\"Return angles of stair sides in image\"\"\"\n",
    "    angleL = []\n",
    "    angleR = []\n",
    "    image = image.copy()\n",
    "\n",
    "    for line in lines:\n",
    "        rho,theta = line[0]\n",
    "        if 0.1<theta<0.8:\n",
    "            print(len(angleL),'Angle @ Left = ', theta)\n",
    "\n",
    "            a = np.cos(theta)\n",
    "            b = np.sin(theta)\n",
    "\n",
    "            x0 = a * rho\n",
    "            y0 = b * rho\n",
    "\n",
    "            x1 = int(x0 + 1000 * (-b))\n",
    "            y1 = int(y0 + 1000 * (a))\n",
    "\n",
    "            x2 = int(x0 - 1000 * (-b))\n",
    "            y2 = int(y0 - 1000 * (a))\n",
    "\n",
    "            cv.line(image, (x1, y1), (x2, y2), (0, 0, 255), 2)\n",
    "            angleL.append(theta)\n",
    "\n",
    "        elif 2.4<theta<3:\n",
    "            print(len(angleR),'Angle @ Right = ', theta)\n",
    "\n",
    "            a = np.cos(theta)\n",
    "            b = np.sin(theta)\n",
    "\n",
    "            x0 = a * rho\n",
    "            y0 = b * rho\n",
    "\n",
    "            x1 = int(x0 + 1000 * (-b))\n",
    "            y1 = int(y0 + 1000 * (a))\n",
    "\n",
    "            x2 = int(x0 - 1000 * (-b))\n",
    "            y2 = int(y0 - 1000 * (a))\n",
    "\n",
    "            cv.line(image, (x1, y1), (x2, y2), (0, 0, 255), 2)\n",
    "            angleR.append(theta)\n",
    "\n",
    "    angleL = np.mean(angleL)\n",
    "    angleR = np.mean(angleR)\n",
    "\n",
    "    return angleL, angleR, image\n",
    "\n",
    "angleL, angleR, sideLineImage = returnStairSides(image, lines)\n",
    "      \n",
    "plt.figure(figsize=(7,7))\n",
    "plt.imshow(cv.cvtColor(sideLineImage, cv.COLOR_BGR2RGB))"
   ],
   "cell_type": "code",
   "metadata": {},
   "execution_count": 7,
   "outputs": [
    {
     "output_type": "stream",
     "name": "stdout",
     "text": [
      "0 Angle @ Left =  0.13962634\n1 Angle @ Left =  0.15707964\n2 Angle @ Left =  0.12217305\n0 Angle @ Right =  2.9146998\n"
     ]
    },
    {
     "output_type": "display_data",
     "data": {
      "text/plain": "Canvas(toolbar=Toolbar(toolitems=[('Home', 'Reset original view', 'home', 'home'), ('Back', 'Back to previous …",
      "application/vnd.jupyter.widget-view+json": {
       "version_major": 2,
       "version_minor": 0,
       "model_id": "738ab343066142dfa212e87b66d3298f"
      }
     },
     "metadata": {}
    },
    {
     "output_type": "execute_result",
     "data": {
      "text/plain": [
       "<matplotlib.image.AxesImage at 0x2740c6a4320>"
      ]
     },
     "metadata": {},
     "execution_count": 7
    }
   ]
  },
  {
   "source": [
    "### Keeping Y-axis as base, angle is measured anti-clockwise. "
   ],
   "cell_type": "markdown",
   "metadata": {}
  },
  {
   "cell_type": "code",
   "execution_count": 8,
   "metadata": {},
   "outputs": [
    {
     "output_type": "stream",
     "name": "stdout",
     "text": [
      "Stair side angle left =  0.13962634\nStair side angle light =  2.9146998\n"
     ]
    }
   ],
   "source": [
    "print(\"Stair side angle left = \", angleL)\n",
    "print(\"Stair side angle light = \", angleR)"
   ]
  },
  {
   "source": [
    "### Find horizontal step angles"
   ],
   "cell_type": "markdown",
   "metadata": {}
  },
  {
   "cell_type": "code",
   "execution_count": 9,
   "metadata": {},
   "outputs": [
    {
     "output_type": "stream",
     "name": "stdout",
     "text": [
      "0 Angle @ horizontal =  1.5707964\n",
      "1 Angle @ horizontal =  1.5707964\n",
      "2 Angle @ horizontal =  1.5882496\n",
      "3 Angle @ horizontal =  1.5707964\n",
      "4 Angle @ horizontal =  1.5707964\n",
      "5 Angle @ horizontal =  1.5707964\n",
      "6 Angle @ horizontal =  1.5882496\n",
      "7 Angle @ horizontal =  1.5707964\n",
      "8 Angle @ horizontal =  1.6057029\n",
      "9 Angle @ horizontal =  1.5707964\n",
      "10 Angle @ horizontal =  1.6057029\n",
      "11 Angle @ horizontal =  1.5882496\n",
      "12 Angle @ horizontal =  1.5882496\n",
      "13 Angle @ horizontal =  1.5882496\n",
      "14 Angle @ horizontal =  1.5707964\n",
      "15 Angle @ horizontal =  1.5882496\n",
      "16 Angle @ horizontal =  1.5707964\n",
      "17 Angle @ horizontal =  1.5882496\n",
      "18 Angle @ horizontal =  1.6057029\n",
      "19 Angle @ horizontal =  1.5882496\n",
      "20 Angle @ horizontal =  1.5707964\n",
      "21 Angle @ horizontal =  1.5707964\n",
      "22 Angle @ horizontal =  1.5882496\n"
     ]
    },
    {
     "output_type": "display_data",
     "data": {
      "text/plain": "Canvas(toolbar=Toolbar(toolitems=[('Home', 'Reset original view', 'home', 'home'), ('Back', 'Back to previous …",
      "application/vnd.jupyter.widget-view+json": {
       "version_major": 2,
       "version_minor": 0,
       "model_id": "13ffba1073f3402c94b8b0f9807c915f"
      }
     },
     "metadata": {}
    }
   ],
   "source": [
    "def returnStairSteps(image, lines, threshold=30):\n",
    "    \"\"\"Return angles of stair sides in image\"\"\"\n",
    "    angleV = []\n",
    "    image = image.copy()\n",
    "    \n",
    "    threshold = np.array([90+threshold, 90-threshold])*np.pi/180\n",
    "\n",
    "    for line in lines:\n",
    "        rho,theta = line[0]\n",
    "        if threshold[1]<theta<threshold[0]:\n",
    "            print(len(angleV),'Angle @ horizontal = ', theta)\n",
    "\n",
    "            a = np.cos(theta)\n",
    "            b = np.sin(theta)\n",
    "\n",
    "            x0 = a * rho\n",
    "            y0 = b * rho\n",
    "\n",
    "            x1 = int(x0 + 1000 * (-b))\n",
    "            y1 = int(y0 + 1000 * (a))\n",
    "\n",
    "            x2 = int(x0 - 1000 * (-b))\n",
    "            y2 = int(y0 - 1000 * (a))\n",
    "\n",
    "            cv.line(image, (x1, y1), (x2, y2), (0, 0, 255), 2)\n",
    "            angleV.append(theta)\n",
    "        \n",
    "    angleV = np.mean(angleV)\n",
    "\n",
    "    return angleV, image\n",
    "\n",
    "angleV, stepLineImage = returnStairSteps(image, lines)\n",
    "\n",
    "imshow(stepLineImage, (7,7))"
   ]
  },
  {
   "source": [
    "If this value is close to 90 degrees, we are looking at the stairs straight on. To improve on this, we could weight the mean more towards the bottom stairs. "
   ],
   "cell_type": "markdown",
   "metadata": {}
  },
  {
   "cell_type": "code",
   "execution_count": 10,
   "metadata": {},
   "outputs": [
    {
     "output_type": "stream",
     "name": "stdout",
     "text": [
      "Stair step angle horizontal =  90.6521694569985\n"
     ]
    }
   ],
   "source": [
    "print(\"Stair step angle horizontal = \", angleV*180/np.pi)"
   ]
  },
  {
   "source": [
    "### Rho / Theta elimination"
   ],
   "cell_type": "markdown",
   "metadata": {}
  },
  {
   "cell_type": "code",
   "execution_count": null,
   "metadata": {},
   "outputs": [],
   "source": [
    "lines = lines[:,0,:]\n",
    "print(lines.shape)\n",
    "\n",
    "threshold = 30\n",
    " threshold = np.array([90+threshold, 90-threshold])*np.pi/180\n",
    " print(threshold)\n",
    "\n",
    " mask = np.logical_and(lines[:,1]< threshold[0], lines[:,1]> threshold[1])\n",
    "print(mask)\n"
   ]
  },
  {
   "cell_type": "code",
   "execution_count": null,
   "metadata": {},
   "outputs": [],
   "source": [
    "lines = np.sort(lines[mask,:],axis=0)[::-1]\r\n",
    "lines.shape"
   ]
  },
  {
   "cell_type": "code",
   "execution_count": null,
   "metadata": {},
   "outputs": [],
   "source": [
    "timekeeper.startPerfCounter()\n",
    "\n",
    "rhos = lines[:,0]\n",
    "print(rhos.shape)\n",
    "rhosArray = np.repeat([rhos],rhos.shape[0],0)\n",
    "# print(rhosArray.shape)\n",
    "\n",
    "rhoDiff = abs(rhosArray - np.array([rhos]).T)\n",
    "print(rhoDiff)\n",
    "\n",
    "threshP = 15\n",
    "mask = rhoDiff[:]< threshP\n",
    "# print(mask)\n",
    "mask = np.triu(mask,1)\n",
    "print(mask)\n",
    "mask = np.amax(mask,axis=0)\n",
    "print(~mask)\n",
    "\n",
    "linesClustered = lines[~mask,:]\n",
    "print(linesClustered.shape)\n",
    "\n",
    "timekeeper.printPerfCounter()\n"
   ]
  },
  {
   "cell_type": "code",
   "execution_count": null,
   "metadata": {},
   "outputs": [],
   "source": [
    "print(linesClustered)"
   ]
  },
  {
   "cell_type": "code",
   "execution_count": null,
   "metadata": {},
   "outputs": [],
   "source": [
    "def drawLines(image, linesClustered):\n",
    "    for line in linesClustered:\n",
    "        rho,theta = line\n",
    "\n",
    "        a = np.cos(theta)\n",
    "        b = np.sin(theta)\n",
    "    \n",
    "        x0 = a * rho\n",
    "        y0 = b * rho\n",
    "    \n",
    "        x1 = int(x0 + 1000 * (-b))\n",
    "        y1 = int(y0 + 1000 * (a))\n",
    "    \n",
    "        x2 = int(x0 - 1000 * (-b))\n",
    "        y2 = int(y0 - 1000 * (a))\n",
    "\n",
    "        cv.line(image, (x1, y1), (x2, y2), (0, 0, 255), 2)\n",
    "    return image\n",
    "\n",
    "newImage = drawLines(image, linesClustered)\n",
    "imshow(newImage,(7,7))"
   ]
  }
 ]
}