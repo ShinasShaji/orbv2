{
 "metadata": {
  "language_info": {
   "codemirror_mode": {
    "name": "ipython",
    "version": 3
   },
   "file_extension": ".py",
   "mimetype": "text/x-python",
   "name": "python",
   "nbconvert_exporter": "python",
   "pygments_lexer": "ipython3",
   "version": "3.9.2"
  },
  "orig_nbformat": 2,
  "kernelspec": {
   "name": "python392jvsc74a57bd003fa481128cc78453f8611b8510905d3f22607403b086e041a18b1b1b0388d94",
   "display_name": "Python 3.9.2 64-bit"
  },
  "metadata": {
   "interpreter": {
    "hash": "03fa481128cc78453f8611b8510905d3f22607403b086e041a18b1b1b0388d94"
   }
  }
 },
 "nbformat": 4,
 "nbformat_minor": 2,
 "cells": [
  {
   "cell_type": "code",
   "execution_count": 6,
   "metadata": {},
   "outputs": [],
   "source": [
    "import cv2 as cv\n",
    "import matplotlib.pyplot as plt\n",
    "import numpy as np\n",
    "import time\n",
    "\n",
    "from helperScripts.TimeKeeper import TimeKeeper\n",
    "\n",
    "%matplotlib inline"
   ]
  },
  {
   "cell_type": "code",
   "execution_count": 7,
   "metadata": {},
   "outputs": [],
   "source": [
    "timekeeper = TimeKeeper()"
   ]
  },
  {
   "cell_type": "code",
   "execution_count": 8,
   "metadata": {},
   "outputs": [],
   "source": [
    "\n",
    "class HoughP():\n",
    "\n",
    "    def __init__(self):\n",
    "        pass\n",
    "    \n",
    "    def EdgeDet(self):\n",
    "        timekeeper.startPerfCounter()\n",
    "        self.img = cv.imread('testImages/stair.png')\n",
    "        self.gray = cv.cvtColor(self.img,cv.COLOR_BGR2GRAY)\n",
    "        self.edges = cv.Canny(self.gray,200,200,apertureSize = 3)\n",
    "        \n",
    "        lines = cv.HoughLinesP(self.edges,1,np.pi/180,100,10,100)\n",
    "\n",
    "        for x1,y1,x2,y2 in lines[0]:\n",
    "            cv.line(self.img,(x1,y1),(x2,y2),(0,255,0),2)\n",
    "            cv.imwrite('testImages/houghlines5.jpg',self.img)\n",
    "        \n",
    "        \n",
    "        timekeeper.printPerfCounter()\n"
   ]
  },
  {
   "cell_type": "code",
   "execution_count": 9,
   "metadata": {},
   "outputs": [],
   "source": [
    "var1 = HoughP()"
   ]
  },
  {
   "cell_type": "code",
   "execution_count": 10,
   "metadata": {},
   "outputs": [
    {
     "output_type": "stream",
     "name": "stdout",
     "text": [
      "Completed in 0.021579 seconds\n"
     ]
    }
   ],
   "source": [
    "var1.EdgeDet()"
   ]
  },
  {
   "cell_type": "code",
   "execution_count": null,
   "metadata": {},
   "outputs": [],
   "source": []
  }
 ]
}